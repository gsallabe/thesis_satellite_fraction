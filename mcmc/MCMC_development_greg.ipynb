{
 "cells": [
  {
   "cell_type": "markdown",
   "metadata": {},
   "source": [
    "### Greg's edits of Felipe's version of Song's code for MCMC"
   ]
  },
  {
   "cell_type": "markdown",
   "metadata": {},
   "source": [
    "modified from Song's `hsc_um2` repo"
   ]
  },
  {
   "cell_type": "code",
   "execution_count": 2,
   "metadata": {},
   "outputs": [
    {
     "name": "stderr",
     "output_type": "stream",
     "text": [
      "/Users/astro/anaconda3/lib/python3.6/site-packages/h5py/__init__.py:36: FutureWarning: Conversion of the second argument of issubdtype from `float` to `np.floating` is deprecated. In future, it will be treated as `np.float64 == np.dtype(float).type`.\n",
      "  from ._conv import register_converters as _register_converters\n"
     ]
    },
    {
     "name": "stdout",
     "output_type": "stream",
     "text": [
      "3.0rc1\n"
     ]
    }
   ],
   "source": [
    "# %load_ext line_profiler\n",
    "from __future__ import division, print_function, unicode_literals\n",
    "\n",
    "import time\n",
    "import argparse\n",
    "import os\n",
    "import numpy as np\n",
    "import matplotlib.pyplot as plt\n",
    "\n",
    "import emcee\n",
    "print(emcee.__version__) #need version 3 (pip install emcee==3.0rc1)\n",
    "import yaml\n",
    "\n",
    "from scipy.stats import gaussian_kde\n",
    "\n",
    "from astropy.table import Table, Column\n",
    "from astropy.io import ascii, fits\n",
    "from astropy.cosmology import FlatLambdaCDM\n",
    "\n",
    "from halotools.sim_manager import TabularAsciiReader, HaloTableCache, CachedHaloCatalog\n",
    "from halotools.sim_manager.rockstar_hlist_reader import RockstarHlistReader\n",
    "from halotools.empirical_models import PrebuiltSubhaloModelFactory\n",
    "from halotools.mock_observables import delta_sigma_from_precomputed_pairs, total_mass_enclosed_per_cylinder\n",
    "from halotools.utils import randomly_downsample_data"
   ]
  },
  {
   "cell_type": "markdown",
   "metadata": {},
   "source": [
    "## parse config file \n",
    "**Greg: the config file needs a lot of updating. Missing a few files needed I believe.**\n",
    "\n",
    "\n",
    "Values I don't understand completely or have that I know of (from Felipe's file):\n",
    "* `mcmc_prefix`\n",
    "* `cosmos_catalog_reference` -> I know mine are the HSC, not COSMOS\n",
    "* `cosmos_SMF_points_file`\n",
    "* Some of the things under Simulation\n",
    "* `sim_halo_cat_file`\n",
    "* `sim_particle_file`\n",
    "\n",
    "I'm sure I'm just being stupid, but I don't know exactly what this needs. I know the simulation we use is the UM, but I don't know if what I have is what I need."
   ]
  },
  {
   "cell_type": "code",
   "execution_count": 3,
   "metadata": {},
   "outputs": [
    {
     "name": "stdout",
     "output_type": "stream",
     "text": [
      "{'model_type': 'scatter_only', 'param_ini': [0.4, 0.2], 'param_low': [0.0, 0.0], 'param_upp': [1.0, 1.0], 'param_sig': [0.1, 0.1], 'mcmc_out_dir': '/Users/astro/Desktop/GitHub/dwarf_lensing/greg_mcmc/', 'mcmc_prefix': 'cosmos_bplanck', 'mcmc_nsamples': 200, 'mcmc_nthreads': 2, 'mcmc_nburnin': 100, 'mcmc_nwalkers_burnin': 128, 'mcmc_nwalkers': 128, 'mcmc_smf_only': False, 'mcmc_wl_only': False, 'mcmc_wl_weight': 1.0, 'mcmc_ndims': 6, 'mcmc_moves_burnin': 'walk', 'mcmc_walk_s': 1, 'cosmos_dir': '/Users/fardila/Documents/GitHub/dwarf_lensing/Data/cosmos/', 'cosmos_catalog_reference': 'Laigle+2016', 'cosmos_SMF_fit_file': 'cosmos2015_dic2017_smf_z01-04_STY0.dat', 'cosmos_SMF_points_file': 'cosmos2015_dic2017_smf_z01-04_Vmax0_with_header.dat', 'cosmos_wl_file': 'dwarf_all_lens_laigle2015_nozp2.out', 'n_dwarfs': 6876, 'mean_mass': 8.52695, 'mean_z': 0.301442, 'n_objects_with_specz': 1153, 'frac_objects_with_specz': 0.167685, 'cosmos_h0': 0.7, 'cosmos_omega_m': 0.3, 'sim_dir': '/Users/fardila/Documents/GitHub/dwarf_lensing/Data/bplanck/', 'sim_name': 'bolshoi-planck', 'sim_halo_finder': 'rockstar', 'sim_version_name': 'bplanck_dwarfs', 'sim_ptcl_version_name': 'bplanck_dwarfs', 'sim_z': 0.278625, 'sim_lbox': 250.0, 'sim_particle_mass': '1.5e8', 'sim_particles_per_dimension': 2048, 'sim_wl_bins': '0.01 0.01598922 0.02947921 0.05184152 0.09251636 0.1643359 0.29233885 0.51980176 0.92438561\\n', 'sim_h0': 0.678, 'sim_omega_m': 0.307, 'sim_halo_cat_file': 'hlist_0.78209.list', 'sim_output_fname': 'hlist_0.78209.hdf5', 'sim_particle_file': 'bplanck_particles_100m_a0.78209.hdf5', 'sim_columns_to_keep_dict': \"{'halo_id': (1, 'i8'), 'halo_upid': (6, 'i8'), 'halo_mvir': (10, 'f4'), 'halo_x': (17, 'f4'), 'halo_y': (18, 'f4'), 'halo_z': (19, 'f4'), 'halo_vx': (20, 'f4'), 'halo_vy': (21, 'f4'), 'halo_vz': (22, 'f4'), 'halo_rvir': (11, 'f4'), 'halo_mpeak': (60, 'f4')}\\n\"}\n"
     ]
    }
   ],
   "source": [
    "def parse_config(config_file):\n",
    "    \"\"\"Prepare configurations.\n",
    "    Read configuration parameters from an input .yaml file.\n",
    "    \"\"\"\n",
    "    cfg = yaml.load(open(config_file))\n",
    "\n",
    "    return cfg\n",
    "config_initial = parse_config('/Users/astro/desktop/github/dwarf_lensing/greg_mcmc/mcmc_default_config_greg.yaml')\n",
    "print(config_initial) # need to update the config file for my project"
   ]
  },
  {
   "cell_type": "code",
   "execution_count": 6,
   "metadata": {},
   "outputs": [
    {
     "data": {
      "text/html": [
       "<i>Table length=7</i>\n",
       "<table id=\"table4554271152\" class=\"table-striped table-bordered table-condensed\">\n",
       "<thead><tr><th>logm_mean</th><th>logm_0</th><th>logm_1</th><th>smf</th><th>smf_err</th><th>smf_low</th><th>smf_upp</th></tr></thead>\n",
       "<thead><tr><th>float64</th><th>float64</th><th>float64</th><th>float64</th><th>float64</th><th>float64</th><th>float64</th></tr></thead>\n",
       "<tr><td>11.649999999999999</td><td>11.6</td><td>11.7</td><td>0.00017116160712174453</td><td>1.2081427708870142e-05</td><td>0.0001590801794128744</td><td>0.00018324303483061466</td></tr>\n",
       "<tr><td>11.75</td><td>11.7</td><td>11.8</td><td>8.475233611275719e-05</td><td>7.806133691041449e-06</td><td>7.694620242171575e-05</td><td>9.255846980379864e-05</td></tr>\n",
       "<tr><td>11.850000000000001</td><td>11.8</td><td>11.9</td><td>3.543046843019661e-05</td><td>4.301537386569409e-06</td><td>3.1128931043627195e-05</td><td>3.973200581676602e-05</td></tr>\n",
       "<tr><td>11.95</td><td>11.9</td><td>12.0</td><td>1.2972069549804793e-05</td><td>2.8026394763069886e-06</td><td>1.0169430073497804e-05</td><td>1.577470902611178e-05</td></tr>\n",
       "<tr><td>12.05</td><td>12.0</td><td>12.1</td><td>3.1444858281391925e-06</td><td>1.2682871836247533e-06</td><td>1.8761986445144392e-06</td><td>4.412773011763946e-06</td></tr>\n",
       "<tr><td>12.149999999999999</td><td>12.1</td><td>12.200000000000001</td><td>8.795233942558793e-07</td><td>6.436421691529152e-07</td><td>2.3588122510296407e-07</td><td>1.5231655634087944e-06</td></tr>\n",
       "<tr><td>12.25</td><td>12.200000000000001</td><td>12.3</td><td>1.826666675501702e-07</td><td>2.8710562153787887e-07</td><td>1e-08</td><td>4.6977228908804907e-07</td></tr>\n",
       "</table>"
      ],
      "text/plain": [
       "<Table length=7>\n",
       "    logm_mean            logm_0       ...        smf_upp        \n",
       "     float64            float64       ...        float64        \n",
       "------------------ ------------------ ... ----------------------\n",
       "11.649999999999999               11.6 ... 0.00018324303483061466\n",
       "             11.75               11.7 ...  9.255846980379864e-05\n",
       "11.850000000000001               11.8 ...  3.973200581676602e-05\n",
       "             11.95               11.9 ...  1.577470902611178e-05\n",
       "             12.05               12.0 ...  4.412773011763946e-06\n",
       "12.149999999999999               12.1 ... 1.5231655634087944e-06\n",
       "             12.25 12.200000000000001 ... 4.6977228908804907e-07"
      ]
     },
     "execution_count": 6,
     "metadata": {},
     "output_type": "execute_result"
    }
   ],
   "source": [
    "# take a look at the data files from Song\n",
    "# these are different in that the data are stored in .npy format\n",
    "pth = '/users/astro/desktop/github/dwarf_lensing/'\n",
    "smf_data_file = pth + 'greg_mcmc/s16a_wide2_massive_smf_mmax_11.6.npy'\n",
    "\n",
    "# load file into a table so I can see what it contains\n",
    "smf_table = Table(np.load(smf_data_file))\n",
    "smf_table"
   ]
  },
  {
   "cell_type": "markdown",
   "metadata": {},
   "source": [
    "## define global variables for config and data files\n",
    "* Greg: I'm going to scan these functions and take out the lensing parts"
   ]
  },
  {
   "cell_type": "code",
   "execution_count": 9,
   "metadata": {},
   "outputs": [],
   "source": [
    "def load_observed_data(cfg, verbose=True):\n",
    "    \"\"\"Load the observed data.\"\"\"\n",
    "\n",
    "    #SMF\n",
    "    cosmos_SMF_fit_table = np.load(os.path.join(cfg['hsc_dir'],\n",
    "                                       cfg['cosmos_hsc_fit_file']))\n",
    "    cosmos_SMF_points_table = ascii.read(os.path.join(cfg['hsc_dir'],\n",
    "                                       cfg['cosmos_SMF_points_file']))\n",
    "\n",
    "#     cosmos_SMF_fit_m = cosmos_SMF_fit_table['log_m']\n",
    "#     cosmos_SMF_fit_phi = cosmos_SMF_fit_table['log_phi']\n",
    "#     cosmos_SMF_points_m = cosmos_SMF_points_table['logM']\n",
    "#     cosmos_SMF_points_phi = cosmos_SMF_points_table['Phi']       \n",
    "\n",
    "    \n",
    "    #cosmology\n",
    "    cfg['cosmos_cosmo'] = FlatLambdaCDM(H0=cfg['cosmos_h0'] * 100,\n",
    "                                     Om0=cfg['cosmos_omega_m'])\n",
    "    \n",
    "#     obs_volume = ((cfg['obs_cosmo'].comoving_volume(obs_zmax) -\n",
    "#                    cfg['obs_cosmo'].comoving_volume(obs_zmin)) *\n",
    "#                   (cfg['obs_area'] / 41254.0)).value\n",
    "#     cfg['obs_volume'] = obs_volume\n",
    "\n",
    "    return {'cosmos_wl_r': cosmos_wl_r, 'cosmos_SMF_fit_table': cosmos_SMF_fit_table, \n",
    "            'cosmos_SMF_points_table': cosmos_SMF_points_table}, cfg\n",
    "\n",
    "def load_sim_data(cfg):\n",
    "    \"\"\"Load the UniverseMachine data.\"\"\"\n",
    "    \n",
    "    \n",
    "    #read in halocat    \n",
    "    halocat = CachedHaloCatalog(simname = cfg['sim_name'], halo_finder = cfg['sim_halo_finder'], \n",
    "                            version_name = cfg['sim_version_name'], redshift = cfg['sim_z'],\n",
    "                                ptcl_version_name=cfg['sim_ptcl_version_name']) # doctest: +SKIP\n",
    "\n",
    "    #read in particle table\n",
    "    ptcl_table = Table.read(os.path.join(cfg['sim_dir'], cfg['sim_particle_file']), path='data')\n",
    "    px = ptcl_table['x']\n",
    "    py = ptcl_table['y']\n",
    "    pz = ptcl_table['z']\n",
    "    particles = np.vstack((px, py, pz)).T\n",
    "    ptcl_table = 0\n",
    "    \n",
    "    #downsample \n",
    "    num_ptcls_to_use = int(1e4)\n",
    "    particles = randomly_downsample_data(particles, num_ptcls_to_use)\n",
    "    particle_masses = np.zeros(num_ptcls_to_use) + halocat.particle_mass\n",
    "    downsampling_factor = (cfg['sim_particles_per_dimension']**3)/float(len(particles))\n",
    "    \n",
    "    #other parameters\n",
    "    cfg['sim_cosmo'] = FlatLambdaCDM(H0=cfg['sim_h0'] * 100.0,\n",
    "                                    Om0=cfg['sim_omega_m'])\n",
    "\n",
    "    cfg['sim_volume'] = np.power(cfg['sim_lbox'] / cfg['sim_h0'], 3)\n",
    "#     if verbose:\n",
    "#         print(\"# The volume of the UniverseMachine mock is %15.2f Mpc^3\" %\n",
    "#               cfg['um_volume'])\n",
    "        \n",
    "#     return {'um_mock': um_mock_use[mask_mass],\n",
    "#             'um_mass_encl': um_mass_encl[mask_mass, :],\n",
    "#             'mask_central': mask_central[mask_mass]}\n",
    "\n",
    "    return {'halocat' : halocat, 'particles' : particles,\n",
    "            'particle_masses' : particle_masses, 'downsampling_factor' : downsampling_factor}, cfg"
   ]
  },
  {
   "cell_type": "code",
   "execution_count": 10,
   "metadata": {},
   "outputs": [],
   "source": [
    "def setup_model(cfg, verbose=True):\n",
    "    \"\"\"Configure MCMC run and plots.\"\"\"\n",
    "    \n",
    "    if cfg['model_type'] == 'scatter_only':\n",
    "        # Number of parameters\n",
    "        cfg['mcmc_ndims'] = 2\n",
    "        cfg['mcmc_labels'] = [r'$a$',\n",
    "                              r'$b$']\n",
    "\n",
    "\n",
    "#     # Degree of freedom for the model: This is actually WRONG\n",
    "#     cfg['model_dof'] = (cfg['obs_smf_n_data'] + cfg['obs_dsigma_n_data'] -\n",
    "#                         cfg['mcmc_ndims'])\n",
    "    # --------------------------------------------------- #\n",
    "\n",
    "    \n",
    "    cfg['mcmc_burnin_file'] = os.path.join(\n",
    "        cfg['mcmc_out_dir'], cfg['mcmc_prefix'] + '_burnin.npz')\n",
    "    cfg['mcmc_run_file'] = os.path.join(\n",
    "        cfg['mcmc_out_dir'], cfg['mcmc_prefix'] + '_run.npz')\n",
    "\n",
    "\n",
    "    return cfg\n"
   ]
  },
  {
   "cell_type": "code",
   "execution_count": 11,
   "metadata": {},
   "outputs": [],
   "source": [
    "def initial_model(config, verbose=True):\n",
    "    \"\"\"Initialize the A.S.A.P model.\"\"\"\n",
    "    # Configuration for COSMOS data\n",
    "    data_obs, config_obs = load_observed_data(config, verbose=verbose)\n",
    "\n",
    "    # Configuration for simulation data.\n",
    "    data_sim, config_obs_sim = load_sim_data(config_obs)\n",
    "\n",
    "    #setup model\n",
    "    config_all = setup_model(config_obs_sim, verbose=verbose)\n",
    "\n",
    "    return config_all, data_obs, data_sim\n",
    "\n",
    "global config, cosmos_data, sim_data\n",
    "\n",
    "# Load the data\n",
    "config, cosmos_data, sim_data = initial_model(config_initial)"
   ]
  },
  {
   "cell_type": "markdown",
   "metadata": {},
   "source": [
    "## setup model"
   ]
  },
  {
   "cell_type": "code",
   "execution_count": 16,
   "metadata": {},
   "outputs": [],
   "source": [
    "def compute_SMF(model, config, nbins=100):\n",
    "    \n",
    "    #Read stellar masses\n",
    "    M = model.mock.galaxy_table['stellar_mass'] \n",
    "    \n",
    "    #Take logarithm\n",
    "    logM = np.log10(M)                     \n",
    "\n",
    "    #Survey volume in Mpc3\n",
    "    L=config['sim_lbox']\n",
    "    h0=config['sim_h0']\n",
    "    V = (L/h0)**3                    \n",
    "    \n",
    "    #Unnormalized histogram and bin edges\n",
    "    Phi,edg = np.histogram(logM,bins=nbins) \n",
    "    \n",
    "    #Bin size\n",
    "    dM    = edg[1] - edg[0]                 \n",
    "    bin_centers   = edg[0:-1] + dM/2.\n",
    "    \n",
    "    #Normalize to volume and bin size\n",
    "    Phi   = Phi / float(V) / dM             \n",
    "    logPhi= np.log10(Phi)\n",
    "    \n",
    "    return bin_centers, logPhi\n",
    "\n",
    "\n",
    "\n",
    "\n",
    "def predict_model(param, config, obs_data, sim_data,\n",
    "                       constant_bin=False, return_all=False,\n",
    "                       show_smf=False, show_dsigma=False):\n",
    "    \"\"\"Return all model predictions.\n",
    "    Parameters\n",
    "    ----------\n",
    "    param: list, array, or tuple.\n",
    "        Input model parameters.\n",
    "    config : dict\n",
    "        Configurations of the data and model.\n",
    "    obs_data: dict\n",
    "        Dictionary for observed data.\n",
    "    sim_data: dict\n",
    "        Dictionary for UniverseMachine data.\n",
    "    constant_bin : boolen\n",
    "        Whether to use constant bin size for logMs_tot or not.\n",
    "    return_all : bool, optional\n",
    "        Return all model information.\n",
    "    show_smf : bool, optional\n",
    "        Show the comparison of SMF.\n",
    "    show_dsigma : bool, optional\n",
    "        Show the comparisons of WL.\n",
    "    \"\"\"\n",
    "    \n",
    "    #build_model\n",
    "    model = PrebuiltSubhaloModelFactory('behroozi10', redshift=config['sim_z'],\n",
    "                                        scatter_abscissa=[12, 15], scatter_ordinates=[param[0], param[1]])\n",
    "    #poluate mock catalog\n",
    "    model.populate_mock(sim_data['halocat'])\n",
    "\n",
    "    # Predict SMFs\n",
    "    smf_mass_bins, smf_log_phi = compute_SMF(model,config, nbins=100)\n",
    "    \n",
    "\n",
    "#     if show_smf:\n",
    "#         um_smf_tot_all = get_smf_bootstrap(logms_mod_tot_all,\n",
    "#                                            cfg['um_volume'],\n",
    "#                                            20, cfg['obs_min_mtot'], 12.5,\n",
    "#                                            n_boots=1)\n",
    "#         _ = plot_mtot_minn_smf(\n",
    "#             obs_data['obs_smf_tot'], obs_data['obs_smf_inn'],\n",
    "#             obs_data['obs_mtot'], obs_data['obs_minn'],\n",
    "#             um_smf_tot, um_smf_inn,\n",
    "#             logms_mod_tot, logms_mod_inn,\n",
    "#             obs_smf_full=obs_data['obs_smf_full'],\n",
    "#             um_smf_tot_all=um_smf_tot_all,\n",
    "#             not_table=True)\n",
    "\n",
    "#     if show_dsigma:\n",
    "#         um_mhalo_tuple = asap_predict_mhalo(\n",
    "#             obs_data['obs_wl_dsigma'], um_data['um_mock'][mask_mtot],\n",
    "#             logms_mod_tot, logms_mod_inn)\n",
    "#         _ = plot_dsigma_profiles(obs_data['obs_wl_dsigma'],\n",
    "#                                  um_dsigma_profs, obs_mhalo=None,\n",
    "#                                  um_mhalo=um_mhalo_tuple)\n",
    "\n",
    "\n",
    "\n",
    "    return smf_mass_bins, smf_log_phi"
   ]
  },
  {
   "cell_type": "code",
   "execution_count": 17,
   "metadata": {},
   "outputs": [
    {
     "name": "stdout",
     "output_type": "stream",
     "text": [
      "[0.4, 0.2]\n"
     ]
    }
   ],
   "source": [
    "parameters = list(config['param_ini'])\n",
    "print(parameters)\n",
    "# Generate the model predictions\n",
    "sim_smf_mass_bins, sim_smf_log_phi = predict_model(parameters, config, cosmos_data, sim_data)       "
   ]
  },
  {
   "cell_type": "markdown",
   "metadata": {},
   "source": [
    "## plotting functions"
   ]
  },
  {
   "cell_type": "code",
   "execution_count": 7,
   "metadata": {},
   "outputs": [],
   "source": [
    "def plot_SMF(sim_mass_centers, sim_logPhi, cosmos_SMF_points_table, cosmos_SMF_fit_table):\n",
    "    \n",
    "    #plot sim\n",
    "    plt.plot(sim_mass_centers, sim_logPhi, c='r', label='Bolshoi-Planck halos')\n",
    "    \n",
    "    #plot COSMOS\n",
    "    plt.plot(cosmos_SMF_fit_table['log_m'], cosmos_SMF_fit_table['log_phi'], label='COSMOS z~0.2 fit')\n",
    "    plt.fill_between(cosmos_SMF_fit_table['log_m'], cosmos_SMF_fit_table['log_phi_inf'], \n",
    "                     cosmos_SMF_fit_table['log_phi_sup'], alpha=0.5)\n",
    "    plt.errorbar(cosmos_SMF_points_table['logM'], cosmos_SMF_points_table['Phi'], \n",
    "                 yerr=[cosmos_SMF_points_table['Phi_err+'],cosmos_SMF_points_table['Phi_err-']], fmt='o', elinewidth=3,\n",
    "                markersize=5, c='#1f77b4', label='COSMOS z~0.2 points')\n",
    "\n",
    "    #plot details\n",
    "    plt.xlabel('log(M)')\n",
    "    plt.ylabel('log(Phi)')\n",
    "    plt.xlim([8,12.5])\n",
    "    plt.ylim([-10,0])\n",
    "    plt.legend(loc='lower left')\n",
    "    \n",
    "    plt.show()"
   ]
  },
  {
   "cell_type": "code",
   "execution_count": 51,
   "metadata": {},
   "outputs": [
    {
     "data": {
      "image/png": "[encoded data removed]",
      "text/plain": [
       "<Figure size 432x288 with 1 Axes>"
      ]
     },
     "metadata": {
      "needs_background": "light"
     },
     "output_type": "display_data"
    }
   ],
   "source": [
    "plot_SMF(sim_smf_mass_bins, sim_smf_log_phi, cosmos_data['cosmos_SMF_points_table'],\n",
    "         cosmos_data['cosmos_SMF_fit_table'])"
   ]
  },
  {
   "cell_type": "markdown",
   "metadata": {},
   "source": [
    "## probability functions"
   ]
  },
  {
   "cell_type": "code",
   "execution_count": 8,
   "metadata": {},
   "outputs": [],
   "source": [
    "def flat_prior(param_tuple, param_low, param_upp):\n",
    "    \"\"\"Priors of parameters. Return -inf if all parameters are not within bounds.\"\"\"\n",
    "    if not np.all([low <= param <= upp for param, low, upp in\n",
    "                   zip(list(param_tuple), param_low, param_upp)]):\n",
    "        return -np.inf\n",
    "\n",
    "    return 0.0\n",
    "\n",
    "def smf_lnlike(obs_smf_fit_table, obs_smf_points_table, sim_smf_mass_bins, sim_smf_log_phi):\n",
    "    \"\"\"Calculate the likelihood for SMF.\"\"\"\n",
    "    \n",
    "    #get same bins in simulations as in observations \n",
    "    sim_smf_log_phi_interpolated = np.interp(obs_smf_points_table['logM'], sim_smf_mass_bins, sim_smf_log_phi)\n",
    "    \n",
    "    #difference\n",
    "    smf_diff = (np.array(sim_smf_log_phi_interpolated) - np.array(obs_smf_points_table['Phi']))\n",
    "    \n",
    "    #variance\n",
    "    obs_mean_smf_error = np.mean([obs_smf_points_table['Phi_err+'] , obs_smf_points_table['Phi_err-'] ])\n",
    "    smf_var = np.array(obs_mean_smf_error ** 2)\n",
    "\n",
    "    #chi2\n",
    "    smf_chi2 = (smf_diff ** 2 / smf_var).sum()\n",
    "\n",
    "    #likelihood\n",
    "    smf_lnlike = -0.5 * (smf_chi2 + np.log(2 * np.pi * smf_var).sum())\n",
    "\n",
    "\n",
    "    # print(\"SMF Tot lnlike/chi2: %f,%f\" % (smf_mtot_lnlike,\n",
    "    #                                       smf_mtot_chi2))\n",
    "\n",
    "\n",
    "    return smf_lnlike\n",
    "\n",
    "\n",
    "def ln_like(param_tuple, config, obs_data, sim_data, chi2=False,\n",
    "                 sep_return=False):\n",
    "    \"\"\"Calculate the lnLikelihood of the model.\"\"\"\n",
    "    # Unpack the input parameters\n",
    "    parameters = list(param_tuple)\n",
    "\n",
    "    # Generate the model predictions\n",
    "    sim_smf_mass_bins, sim_smf_log_phi = predict_model(parameters, config, obs_data, sim_data)   \n",
    "\n",
    "    # Likelihood for SMFs.\n",
    "    smf_lnlike_value = smf_lnlike(obs_data['cosmos_SMF_fit_table'], obs_data['cosmos_SMF_points_table'],\n",
    "        sim_smf_mass_bins, sim_smf_log_phi)\n",
    "\n",
    "\n",
    "\n",
    "    return smf_lnlike_value \n",
    "\n",
    "def ln_prob_global(param_tuple):\n",
    "    \"\"\"Probability function to sample in an MCMC.\n",
    "\n",
    "    Parameters\n",
    "    ----------\n",
    "    param_tuple: tuple of model parameters.\n",
    "\n",
    "    \"\"\"\n",
    "    lp = flat_prior(param_tuple, config['param_low'], config['param_upp'])\n",
    "\n",
    "    if not np.isfinite(lp):\n",
    "        return -np.inf\n",
    "\n",
    "    return lp + ln_like(param_tuple, config, cosmos_data, sim_data)"
   ]
  },
  {
   "cell_type": "code",
   "execution_count": 84,
   "metadata": {},
   "outputs": [
    {
     "data": {
      "text/plain": [
       "-5.119408850385905"
      ]
     },
     "execution_count": 84,
     "metadata": {},
     "output_type": "execute_result"
    }
   ],
   "source": [
    "smf_lnlike(cosmos_data['cosmos_SMF_fit_table'], cosmos_data['cosmos_SMF_points_table'],\n",
    "           sim_smf_mass_bins, sim_smf_log_phi)"
   ]
  },
  {
   "cell_type": "code",
   "execution_count": 13,
   "metadata": {},
   "outputs": [],
   "source": [
    "%lprun -f predict_model ln_like(config['param_ini'], config, cosmos_data, sim_data)"
   ]
  },
  {
   "cell_type": "markdown",
   "metadata": {},
   "source": [
    "## setup mcmc functions "
   ]
  },
  {
   "cell_type": "code",
   "execution_count": 10,
   "metadata": {},
   "outputs": [],
   "source": [
    "def mcmc_initial_guess(param_initial, param_sigma, n_walkers, n_dims):\n",
    "    \"\"\"Initialize guesses for the MCMC run. One guess for each dimension (model parameter) per walker,\n",
    "    with a small sigma deviation from param_initial. \"\"\"\n",
    "    mcmc_position = np.zeros([n_walkers, n_dims])\n",
    "\n",
    "    for ii, param_0 in enumerate(param_initial):\n",
    "        mcmc_position[:, ii] = (param_0 + param_sigma[ii] * np.random.randn(n_walkers))\n",
    "\n",
    "    return mcmc_position\n",
    "\n",
    "def mcmc_setup_moves(config, move_col):\n",
    "    \"\"\"Choose the Move object for emcee.\"\"\"\n",
    "    if config[move_col] == 'snooker':\n",
    "        emcee_moves = emcee.moves.DESnookerMove()\n",
    "    elif config[move_col] == 'stretch':\n",
    "        emcee_moves = emcee.moves.StretchMove(a=config['mcmc_stretch_a'])\n",
    "    elif config[move_col] == 'walk':\n",
    "        emcee_moves = emcee.moves.WalkMove(s=config['mcmc_walk_s'])\n",
    "    elif config[move_col] == 'kde':\n",
    "        emcee_moves = emcee.moves.KDEMove()\n",
    "    elif config[move_col] == 'de':\n",
    "        emcee_moves = emcee.moves.DEMove(config['mcmc_de_sigma'])\n",
    "    else:\n",
    "        raise Exception(\"Wrong option: stretch, walk, kde, de, snooker\")\n",
    "    \n",
    "    return emcee_moves\n",
    "\n",
    "def mcmc_burnin(mcmc_sampler, mcmc_position, config, verbose=True):\n",
    "    \"\"\"Run the MCMC chain.\"\"\"\n",
    "    # Burn-in\n",
    "    if verbose:\n",
    "        print(\"# Phase: Burn-in ...\")\n",
    "    mcmc_burnin_result = mcmc_sampler.run_mcmc(\n",
    "        mcmc_position, config['mcmc_nburnin'],\n",
    "        progress=True)\n",
    "\n",
    "    mcmc_save_results(mcmc_burnin_result, mcmc_sampler,\n",
    "                      config['mcmc_burnin_file'], config['mcmc_ndims'],\n",
    "                      verbose=True)\n",
    "\n",
    "    # Rest the chains\n",
    "    mcmc_sampler.reset()"
   ]
  },
  {
   "cell_type": "markdown",
   "metadata": {},
   "source": [
    "## run fit"
   ]
  },
  {
   "cell_type": "code",
   "execution_count": 11,
   "metadata": {},
   "outputs": [],
   "source": [
    "#skip paralleization for now\n",
    "def emcee_fit(config, verbose=True):\n",
    "    # Initialize the model\n",
    "    mcmc_ini_position = mcmc_initial_guess(\n",
    "        config['param_ini'], config['param_sig'], config['mcmc_nwalkers'],\n",
    "        config['mcmc_ndims'])\n",
    "\n",
    "    # define the ensemble moves object for walkers during burn in\n",
    "    burnin_move = mcmc_setup_moves(config, 'mcmc_moves_burnin')\n",
    "    # define sampler\n",
    "    burnin_sampler = emcee.EnsembleSampler(\n",
    "        config['mcmc_nwalkers_burnin'],\n",
    "        config['mcmc_ndims'],\n",
    "        ln_prob_global,\n",
    "        moves=burnin_move) #,pool=pool)\n",
    "\n",
    "    # Burn-in\n",
    "    mcmc_burnin_pos, mcmc_burnin_lnp, mcmc_burnin_state = mcmc_burnin(\n",
    "        burnin_sampler, mcmc_ini_position, config, verbose=True)\n",
    "\n",
    "    # Estimate the Kernel density distributions of final burn-in positions\n",
    "    # Resample the distributions to get starting positions of the actual run\n",
    "    mcmc_kde = gaussian_kde(np.transpose(mcmc_burnin_pos), \n",
    "                        bw_method='silverman')\n",
    "    mcmc_new_pos = np.transpose(mcmc_kde.resample(config['mcmc_nwalkers']))\n",
    "\n",
    "    mcmc_new_ini = (mcmc_new_pos, mcmc_burnin_lnp, mcmc_burnin_state)\n",
    "\n",
    "    \n",
    "    # MCMC run\n",
    "    \n",
    "    # Decide the Ensemble moves for walkers during burnin\n",
    "    emcee_move = mcmc_setup_moves(config, 'mcmc_moves')\n",
    "    # define sampler\n",
    "    mcmc_sampler = emcee.EnsembleSampler(config['mcmc_nwalkers'],\n",
    "                                         config['mcmc_ndims'],\n",
    "                                         ln_prob_global,\n",
    "                                         moves=emcee_move)\n",
    "\n",
    "    mcmc_run_result = emcee_run(mcmc_sampler, mcmc_new_ini, config, verbose=True)\n",
    "\n",
    "    return mcmc_run_result"
   ]
  },
  {
   "cell_type": "code",
   "execution_count": 12,
   "metadata": {},
   "outputs": [
    {
     "name": "stdout",
     "output_type": "stream",
     "text": [
      "# Phase: Burn-in ...\n",
      "[0.01, 0.01598922, 0.02947921, 0.05184152, 0.09251636, 0.1643359, 0.29233885, 0.51980176, 0.92438561]\n",
      "[0.01, 0.01598922, 0.02947921, 0.05184152, 0.09251636, 0.1643359, 0.29233885, 0.51980176, 0.92438561]\n",
      "[0.01, 0.01598922, 0.02947921, 0.05184152, 0.09251636, 0.1643359, 0.29233885, 0.51980176, 0.92438561]\n",
      "[0.01, 0.01598922, 0.02947921, 0.05184152, 0.09251636, 0.1643359, 0.29233885, 0.51980176, 0.92438561]\n",
      "emcee: Exception while calling your likelihood function:\n",
      "  params: [0.42561224 0.05707932]\n",
      "  args: []\n",
      "  kwargs: {}\n",
      "  exception:\n"
     ]
    },
    {
     "name": "stderr",
     "output_type": "stream",
     "text": [
      "Traceback (most recent call last):\n",
      "  File \"/Users/fardila/anaconda/envs/dwarf_lensing/lib/python2.7/site-packages/emcee/ensemble.py\", line 488, in __call__\n",
      "    return self.f(x, *self.args, **self.kwargs)\n",
      "  File \"<ipython-input-9-225398fa960b>\", line 89, in ln_prob_global\n",
      "    return lp + ln_like(param_tuple, config, cosmos_data, sim_data)\n",
      "  File \"<ipython-input-9-225398fa960b>\", line 62, in ln_like\n",
      "    sim_smf_mass_bins, sim_smf_log_phi, sim_wl_r, sim_wl_ds = predict_model(parameters, config, obs_data, sim_data)\n",
      "  File \"<ipython-input-7-52d751ba68b5>\", line 93, in predict_model\n",
      "    model.populate_mock(sim_data)\n",
      "  File \"/Users/fardila/anaconda/envs/dwarf_lensing/lib/python2.7/site-packages/halotools/empirical_models/factories/subhalo_model_factory.py\", line 900, in populate_mock\n",
      "    ModelFactory.populate_mock(self, halocat, **kwargs)\n",
      "  File \"/Users/fardila/anaconda/envs/dwarf_lensing/lib/python2.7/site-packages/halotools/empirical_models/factories/model_factory_template.py\", line 231, in populate_mock\n",
      "    self.mock = self.mock_factory(**mock_factory_init_args)\n",
      "  File \"/Users/fardila/anaconda/envs/dwarf_lensing/lib/python2.7/site-packages/halotools/empirical_models/factories/subhalo_mock_factory.py\", line 67, in __init__\n",
      "    self.preprocess_halo_catalog(halocat)\n",
      "  File \"/Users/fardila/anaconda/envs/dwarf_lensing/lib/python2.7/site-packages/halotools/empirical_models/factories/subhalo_mock_factory.py\", line 85, in preprocess_halo_catalog\n",
      "    self.halo_table[key] = halo_table[key]\n",
      "  File \"/Users/fardila/anaconda/envs/dwarf_lensing/lib/python2.7/site-packages/astropy/table/table.py\", line 1295, in __setitem__\n",
      "    new_column = col_copy(value)\n",
      "  File \"/Users/fardila/anaconda/envs/dwarf_lensing/lib/python2.7/site-packages/astropy/table/column.py\", line 89, in col_copy\n",
      "    return col.copy()\n",
      "  File \"/Users/fardila/anaconda/envs/dwarf_lensing/lib/python2.7/site-packages/astropy/table/column.py\", line 297, in copy\n",
      "    data = data.copy(order)\n",
      "KeyboardInterrupt\n"
     ]
    },
    {
     "ename": "KeyboardInterrupt",
     "evalue": "",
     "output_type": "error",
     "traceback": [
      "\u001b[0;31m---------------------------------------------------------------------------\u001b[0m",
      "\u001b[0;31mKeyboardInterrupt\u001b[0m                         Traceback (most recent call last)",
      "\u001b[0;32m<ipython-input-12-ef89f16a1432>\u001b[0m in \u001b[0;36m<module>\u001b[0;34m()\u001b[0m\n\u001b[0;32m----> 1\u001b[0;31m \u001b[0memcee_fit\u001b[0m\u001b[0;34m(\u001b[0m\u001b[0mconfig\u001b[0m\u001b[0;34m)\u001b[0m\u001b[0;34m\u001b[0m\u001b[0m\n\u001b[0m",
      "\u001b[0;32m<ipython-input-11-80535dd7f32b>\u001b[0m in \u001b[0;36memcee_fit\u001b[0;34m(config, verbose)\u001b[0m\n\u001b[1;32m     17\u001b[0m     \u001b[0;31m# Burn-in\u001b[0m\u001b[0;34m\u001b[0m\u001b[0;34m\u001b[0m\u001b[0m\n\u001b[1;32m     18\u001b[0m     mcmc_burnin_pos, mcmc_burnin_lnp, mcmc_burnin_state = mcmc_burnin(\n\u001b[0;32m---> 19\u001b[0;31m         burnin_sampler, mcmc_ini_position, config, verbose=True)\n\u001b[0m\u001b[1;32m     20\u001b[0m \u001b[0;34m\u001b[0m\u001b[0m\n\u001b[1;32m     21\u001b[0m     \u001b[0;31m# Estimate the Kernel density distributions of final burn-in positions\u001b[0m\u001b[0;34m\u001b[0m\u001b[0;34m\u001b[0m\u001b[0m\n",
      "\u001b[0;32m<ipython-input-10-9e81642a269c>\u001b[0m in \u001b[0;36mmcmc_burnin\u001b[0;34m(mcmc_sampler, mcmc_position, config, verbose)\u001b[0m\n\u001b[1;32m     33\u001b[0m     mcmc_burnin_result = mcmc_sampler.run_mcmc(\n\u001b[1;32m     34\u001b[0m         \u001b[0mmcmc_position\u001b[0m\u001b[0;34m,\u001b[0m \u001b[0mconfig\u001b[0m\u001b[0;34m[\u001b[0m\u001b[0;34m'mcmc_nburnin'\u001b[0m\u001b[0;34m]\u001b[0m\u001b[0;34m,\u001b[0m\u001b[0;34m\u001b[0m\u001b[0m\n\u001b[0;32m---> 35\u001b[0;31m         progress=True)\n\u001b[0m\u001b[1;32m     36\u001b[0m \u001b[0;34m\u001b[0m\u001b[0m\n\u001b[1;32m     37\u001b[0m     mcmc_save_results(mcmc_burnin_result, mcmc_sampler,\n",
      "\u001b[0;32m/Users/fardila/anaconda/envs/dwarf_lensing/lib/python2.7/site-packages/emcee/ensemble.pyc\u001b[0m in \u001b[0;36mrun_mcmc\u001b[0;34m(self, initial_state, nsteps, **kwargs)\u001b[0m\n\u001b[1;32m    333\u001b[0m \u001b[0;34m\u001b[0m\u001b[0m\n\u001b[1;32m    334\u001b[0m         \u001b[0mresults\u001b[0m \u001b[0;34m=\u001b[0m \u001b[0mNone\u001b[0m\u001b[0;34m\u001b[0m\u001b[0m\n\u001b[0;32m--> 335\u001b[0;31m         \u001b[0;32mfor\u001b[0m \u001b[0mresults\u001b[0m \u001b[0;32min\u001b[0m \u001b[0mself\u001b[0m\u001b[0;34m.\u001b[0m\u001b[0msample\u001b[0m\u001b[0;34m(\u001b[0m\u001b[0minitial_state\u001b[0m\u001b[0;34m,\u001b[0m \u001b[0miterations\u001b[0m\u001b[0;34m=\u001b[0m\u001b[0mnsteps\u001b[0m\u001b[0;34m,\u001b[0m \u001b[0;34m**\u001b[0m\u001b[0mkwargs\u001b[0m\u001b[0;34m)\u001b[0m\u001b[0;34m:\u001b[0m\u001b[0;34m\u001b[0m\u001b[0m\n\u001b[0m\u001b[1;32m    336\u001b[0m             \u001b[0;32mpass\u001b[0m\u001b[0;34m\u001b[0m\u001b[0m\n\u001b[1;32m    337\u001b[0m \u001b[0;34m\u001b[0m\u001b[0m\n",
      "\u001b[0;32m/Users/fardila/anaconda/envs/dwarf_lensing/lib/python2.7/site-packages/emcee/ensemble.pyc\u001b[0m in \u001b[0;36msample\u001b[0;34m(self, initial_state, log_prob0, rstate0, blobs0, iterations, tune, thin_by, thin, store, progress)\u001b[0m\n\u001b[1;32m    235\u001b[0m             \u001b[0mstate\u001b[0m\u001b[0;34m.\u001b[0m\u001b[0mblobs\u001b[0m \u001b[0;34m=\u001b[0m \u001b[0mblobs0\u001b[0m\u001b[0;34m\u001b[0m\u001b[0m\n\u001b[1;32m    236\u001b[0m         \u001b[0;32mif\u001b[0m \u001b[0mstate\u001b[0m\u001b[0;34m.\u001b[0m\u001b[0mlog_prob\u001b[0m \u001b[0;32mis\u001b[0m \u001b[0mNone\u001b[0m\u001b[0;34m:\u001b[0m\u001b[0;34m\u001b[0m\u001b[0m\n\u001b[0;32m--> 237\u001b[0;31m             \u001b[0mstate\u001b[0m\u001b[0;34m.\u001b[0m\u001b[0mlog_prob\u001b[0m\u001b[0;34m,\u001b[0m \u001b[0mstate\u001b[0m\u001b[0;34m.\u001b[0m\u001b[0mblobs\u001b[0m \u001b[0;34m=\u001b[0m \u001b[0mself\u001b[0m\u001b[0;34m.\u001b[0m\u001b[0mcompute_log_prob\u001b[0m\u001b[0;34m(\u001b[0m\u001b[0mstate\u001b[0m\u001b[0;34m.\u001b[0m\u001b[0mcoords\u001b[0m\u001b[0;34m)\u001b[0m\u001b[0;34m\u001b[0m\u001b[0m\n\u001b[0m\u001b[1;32m    238\u001b[0m         \u001b[0;32mif\u001b[0m \u001b[0mnp\u001b[0m\u001b[0;34m.\u001b[0m\u001b[0mshape\u001b[0m\u001b[0;34m(\u001b[0m\u001b[0mstate\u001b[0m\u001b[0;34m.\u001b[0m\u001b[0mlog_prob\u001b[0m\u001b[0;34m)\u001b[0m \u001b[0;34m!=\u001b[0m \u001b[0;34m(\u001b[0m\u001b[0mself\u001b[0m\u001b[0;34m.\u001b[0m\u001b[0mnwalkers\u001b[0m\u001b[0;34m,\u001b[0m \u001b[0;34m)\u001b[0m\u001b[0;34m:\u001b[0m\u001b[0;34m\u001b[0m\u001b[0m\n\u001b[1;32m    239\u001b[0m             \u001b[0;32mraise\u001b[0m \u001b[0mValueError\u001b[0m\u001b[0;34m(\u001b[0m\u001b[0;34m\"incompatible input dimensions\"\u001b[0m\u001b[0;34m)\u001b[0m\u001b[0;34m\u001b[0m\u001b[0m\n",
      "\u001b[0;32m/Users/fardila/anaconda/envs/dwarf_lensing/lib/python2.7/site-packages/emcee/ensemble.pyc\u001b[0m in \u001b[0;36mcompute_log_prob\u001b[0;34m(self, coords)\u001b[0m\n\u001b[1;32m    376\u001b[0m                 \u001b[0mmap_func\u001b[0m \u001b[0;34m=\u001b[0m \u001b[0mmap\u001b[0m\u001b[0;34m\u001b[0m\u001b[0m\n\u001b[1;32m    377\u001b[0m             results = list(map_func(self.log_prob_fn,\n\u001b[0;32m--> 378\u001b[0;31m                                     (p[i] for i in range(len(p)))))\n\u001b[0m\u001b[1;32m    379\u001b[0m \u001b[0;34m\u001b[0m\u001b[0m\n\u001b[1;32m    380\u001b[0m         \u001b[0;32mtry\u001b[0m\u001b[0;34m:\u001b[0m\u001b[0;34m\u001b[0m\u001b[0m\n",
      "\u001b[0;32m/Users/fardila/anaconda/envs/dwarf_lensing/lib/python2.7/site-packages/emcee/ensemble.pyc\u001b[0m in \u001b[0;36m__call__\u001b[0;34m(self, x)\u001b[0m\n\u001b[1;32m    486\u001b[0m     \u001b[0;32mdef\u001b[0m \u001b[0m__call__\u001b[0m\u001b[0;34m(\u001b[0m\u001b[0mself\u001b[0m\u001b[0;34m,\u001b[0m \u001b[0mx\u001b[0m\u001b[0;34m)\u001b[0m\u001b[0;34m:\u001b[0m\u001b[0;34m\u001b[0m\u001b[0m\n\u001b[1;32m    487\u001b[0m         \u001b[0;32mtry\u001b[0m\u001b[0;34m:\u001b[0m\u001b[0;34m\u001b[0m\u001b[0m\n\u001b[0;32m--> 488\u001b[0;31m             \u001b[0;32mreturn\u001b[0m \u001b[0mself\u001b[0m\u001b[0;34m.\u001b[0m\u001b[0mf\u001b[0m\u001b[0;34m(\u001b[0m\u001b[0mx\u001b[0m\u001b[0;34m,\u001b[0m \u001b[0;34m*\u001b[0m\u001b[0mself\u001b[0m\u001b[0;34m.\u001b[0m\u001b[0margs\u001b[0m\u001b[0;34m,\u001b[0m \u001b[0;34m**\u001b[0m\u001b[0mself\u001b[0m\u001b[0;34m.\u001b[0m\u001b[0mkwargs\u001b[0m\u001b[0;34m)\u001b[0m\u001b[0;34m\u001b[0m\u001b[0m\n\u001b[0m\u001b[1;32m    489\u001b[0m         \u001b[0;32mexcept\u001b[0m\u001b[0;34m:\u001b[0m  \u001b[0;31m# pragma: no cover\u001b[0m\u001b[0;34m\u001b[0m\u001b[0m\n\u001b[1;32m    490\u001b[0m             \u001b[0;32mimport\u001b[0m \u001b[0mtraceback\u001b[0m\u001b[0;34m\u001b[0m\u001b[0m\n",
      "\u001b[0;32m<ipython-input-9-225398fa960b>\u001b[0m in \u001b[0;36mln_prob_global\u001b[0;34m(param_tuple)\u001b[0m\n\u001b[1;32m     87\u001b[0m         \u001b[0;32mreturn\u001b[0m \u001b[0;34m-\u001b[0m\u001b[0mnp\u001b[0m\u001b[0;34m.\u001b[0m\u001b[0minf\u001b[0m\u001b[0;34m\u001b[0m\u001b[0m\n\u001b[1;32m     88\u001b[0m \u001b[0;34m\u001b[0m\u001b[0m\n\u001b[0;32m---> 89\u001b[0;31m     \u001b[0;32mreturn\u001b[0m \u001b[0mlp\u001b[0m \u001b[0;34m+\u001b[0m \u001b[0mln_like\u001b[0m\u001b[0;34m(\u001b[0m\u001b[0mparam_tuple\u001b[0m\u001b[0;34m,\u001b[0m \u001b[0mconfig\u001b[0m\u001b[0;34m,\u001b[0m \u001b[0mcosmos_data\u001b[0m\u001b[0;34m,\u001b[0m \u001b[0msim_data\u001b[0m\u001b[0;34m)\u001b[0m\u001b[0;34m\u001b[0m\u001b[0m\n\u001b[0m",
      "\u001b[0;32m<ipython-input-9-225398fa960b>\u001b[0m in \u001b[0;36mln_like\u001b[0;34m(param_tuple, config, obs_data, sim_data, chi2, sep_return)\u001b[0m\n\u001b[1;32m     60\u001b[0m \u001b[0;31m#     (sim_smf_tot, sim_smf_inn, sim_dsigma_profs) = predict_model(\u001b[0m\u001b[0;34m\u001b[0m\u001b[0;34m\u001b[0m\u001b[0m\n\u001b[1;32m     61\u001b[0m \u001b[0;31m#             parameters, cfg, obs_data, sim_data)\u001b[0m\u001b[0;34m\u001b[0m\u001b[0;34m\u001b[0m\u001b[0m\n\u001b[0;32m---> 62\u001b[0;31m     \u001b[0msim_smf_mass_bins\u001b[0m\u001b[0;34m,\u001b[0m \u001b[0msim_smf_log_phi\u001b[0m\u001b[0;34m,\u001b[0m \u001b[0msim_wl_r\u001b[0m\u001b[0;34m,\u001b[0m \u001b[0msim_wl_ds\u001b[0m \u001b[0;34m=\u001b[0m \u001b[0mpredict_model\u001b[0m\u001b[0;34m(\u001b[0m\u001b[0mparameters\u001b[0m\u001b[0;34m,\u001b[0m \u001b[0mconfig\u001b[0m\u001b[0;34m,\u001b[0m \u001b[0mobs_data\u001b[0m\u001b[0;34m,\u001b[0m \u001b[0msim_data\u001b[0m\u001b[0;34m)\u001b[0m\u001b[0;34m\u001b[0m\u001b[0m\n\u001b[0m\u001b[1;32m     63\u001b[0m \u001b[0;34m\u001b[0m\u001b[0m\n\u001b[1;32m     64\u001b[0m     \u001b[0;31m# Likelihood for SMFs.\u001b[0m\u001b[0;34m\u001b[0m\u001b[0;34m\u001b[0m\u001b[0m\n",
      "\u001b[0;32m<ipython-input-7-52d751ba68b5>\u001b[0m in \u001b[0;36mpredict_model\u001b[0;34m(param, config, obs_data, sim_data, constant_bin, return_all, show_smf, show_dsigma)\u001b[0m\n\u001b[1;32m     91\u001b[0m                                         scatter_abscissa=[12, 15], scatter_ordinates=[param[0], param[1]])\n\u001b[1;32m     92\u001b[0m     \u001b[0;31m#poluate mock catalog\u001b[0m\u001b[0;34m\u001b[0m\u001b[0;34m\u001b[0m\u001b[0m\n\u001b[0;32m---> 93\u001b[0;31m     \u001b[0mmodel\u001b[0m\u001b[0;34m.\u001b[0m\u001b[0mpopulate_mock\u001b[0m\u001b[0;34m(\u001b[0m\u001b[0msim_data\u001b[0m\u001b[0;34m)\u001b[0m\u001b[0;34m\u001b[0m\u001b[0m\n\u001b[0m\u001b[1;32m     94\u001b[0m \u001b[0;34m\u001b[0m\u001b[0m\n\u001b[1;32m     95\u001b[0m     \u001b[0;31m# Predict SMFs\u001b[0m\u001b[0;34m\u001b[0m\u001b[0;34m\u001b[0m\u001b[0m\n",
      "\u001b[0;32m/Users/fardila/anaconda/envs/dwarf_lensing/lib/python2.7/site-packages/halotools/empirical_models/factories/subhalo_model_factory.pyc\u001b[0m in \u001b[0;36mpopulate_mock\u001b[0;34m(self, halocat, masking_function, **kwargs)\u001b[0m\n\u001b[1;32m    898\u001b[0m             \u001b[0mModelFactory\u001b[0m\u001b[0;34m.\u001b[0m\u001b[0mpopulate_mock\u001b[0m\u001b[0;34m(\u001b[0m\u001b[0mself\u001b[0m\u001b[0;34m,\u001b[0m \u001b[0mhalocat\u001b[0m\u001b[0;34m,\u001b[0m \u001b[0mmasking_function\u001b[0m\u001b[0;34m=\u001b[0m\u001b[0mmasking_function\u001b[0m\u001b[0;34m,\u001b[0m \u001b[0;34m**\u001b[0m\u001b[0mkwargs\u001b[0m\u001b[0;34m)\u001b[0m\u001b[0;34m\u001b[0m\u001b[0m\n\u001b[1;32m    899\u001b[0m         \u001b[0;32melse\u001b[0m\u001b[0;34m:\u001b[0m\u001b[0;34m\u001b[0m\u001b[0m\n\u001b[0;32m--> 900\u001b[0;31m             \u001b[0mModelFactory\u001b[0m\u001b[0;34m.\u001b[0m\u001b[0mpopulate_mock\u001b[0m\u001b[0;34m(\u001b[0m\u001b[0mself\u001b[0m\u001b[0;34m,\u001b[0m \u001b[0mhalocat\u001b[0m\u001b[0;34m,\u001b[0m \u001b[0;34m**\u001b[0m\u001b[0mkwargs\u001b[0m\u001b[0;34m)\u001b[0m\u001b[0;34m\u001b[0m\u001b[0m\n\u001b[0m\u001b[1;32m    901\u001b[0m \u001b[0;34m\u001b[0m\u001b[0m\n\u001b[1;32m    902\u001b[0m     \u001b[0;32mdef\u001b[0m \u001b[0m_test_dictionary_consistency\u001b[0m\u001b[0;34m(\u001b[0m\u001b[0mself\u001b[0m\u001b[0;34m)\u001b[0m\u001b[0;34m:\u001b[0m\u001b[0;34m\u001b[0m\u001b[0m\n",
      "\u001b[0;32m/Users/fardila/anaconda/envs/dwarf_lensing/lib/python2.7/site-packages/halotools/empirical_models/factories/model_factory_template.pyc\u001b[0m in \u001b[0;36mpopulate_mock\u001b[0;34m(self, halocat, Num_ptcl_requirement, **kwargs)\u001b[0m\n\u001b[1;32m    229\u001b[0m         \u001b[0;32mexcept\u001b[0m \u001b[0mKeyError\u001b[0m\u001b[0;34m:\u001b[0m\u001b[0;34m\u001b[0m\u001b[0m\n\u001b[1;32m    230\u001b[0m             \u001b[0;32mpass\u001b[0m\u001b[0;34m\u001b[0m\u001b[0m\n\u001b[0;32m--> 231\u001b[0;31m         \u001b[0mself\u001b[0m\u001b[0;34m.\u001b[0m\u001b[0mmock\u001b[0m \u001b[0;34m=\u001b[0m \u001b[0mself\u001b[0m\u001b[0;34m.\u001b[0m\u001b[0mmock_factory\u001b[0m\u001b[0;34m(\u001b[0m\u001b[0;34m**\u001b[0m\u001b[0mmock_factory_init_args\u001b[0m\u001b[0;34m)\u001b[0m\u001b[0;34m\u001b[0m\u001b[0m\n\u001b[0m\u001b[1;32m    232\u001b[0m \u001b[0;34m\u001b[0m\u001b[0m\n\u001b[1;32m    233\u001b[0m         \u001b[0madditional_potential_kwargs\u001b[0m \u001b[0;34m=\u001b[0m \u001b[0;34m(\u001b[0m\u001b[0;34m'masking_function'\u001b[0m\u001b[0;34m,\u001b[0m \u001b[0;34m'_testing_mode'\u001b[0m\u001b[0;34m,\u001b[0m \u001b[0;34m'enforce_PBC'\u001b[0m\u001b[0;34m,\u001b[0m \u001b[0;34m'seed'\u001b[0m\u001b[0;34m)\u001b[0m\u001b[0;34m\u001b[0m\u001b[0m\n",
      "\u001b[0;32m/Users/fardila/anaconda/envs/dwarf_lensing/lib/python2.7/site-packages/halotools/empirical_models/factories/subhalo_mock_factory.pyc\u001b[0m in \u001b[0;36m__init__\u001b[0;34m(self, **kwargs)\u001b[0m\n\u001b[1;32m     65\u001b[0m \u001b[0;34m\u001b[0m\u001b[0m\n\u001b[1;32m     66\u001b[0m         \u001b[0;31m# Pre-compute any additional halo properties required by the model\u001b[0m\u001b[0;34m\u001b[0m\u001b[0;34m\u001b[0m\u001b[0m\n\u001b[0;32m---> 67\u001b[0;31m         \u001b[0mself\u001b[0m\u001b[0;34m.\u001b[0m\u001b[0mpreprocess_halo_catalog\u001b[0m\u001b[0;34m(\u001b[0m\u001b[0mhalocat\u001b[0m\u001b[0;34m)\u001b[0m\u001b[0;34m\u001b[0m\u001b[0m\n\u001b[0m\u001b[1;32m     68\u001b[0m         \u001b[0mself\u001b[0m\u001b[0;34m.\u001b[0m\u001b[0mprecompute_galprops\u001b[0m\u001b[0;34m(\u001b[0m\u001b[0;34m)\u001b[0m\u001b[0;34m\u001b[0m\u001b[0m\n\u001b[1;32m     69\u001b[0m \u001b[0;34m\u001b[0m\u001b[0m\n",
      "\u001b[0;32m/Users/fardila/anaconda/envs/dwarf_lensing/lib/python2.7/site-packages/halotools/empirical_models/factories/subhalo_mock_factory.pyc\u001b[0m in \u001b[0;36mpreprocess_halo_catalog\u001b[0;34m(self, halocat)\u001b[0m\n\u001b[1;32m     83\u001b[0m         \u001b[0;32mfor\u001b[0m \u001b[0mkey\u001b[0m \u001b[0;32min\u001b[0m \u001b[0mself\u001b[0m\u001b[0;34m.\u001b[0m\u001b[0madditional_haloprops\u001b[0m\u001b[0;34m:\u001b[0m\u001b[0;34m\u001b[0m\u001b[0m\n\u001b[1;32m     84\u001b[0m             \u001b[0;32mtry\u001b[0m\u001b[0;34m:\u001b[0m\u001b[0;34m\u001b[0m\u001b[0m\n\u001b[0;32m---> 85\u001b[0;31m                 \u001b[0mself\u001b[0m\u001b[0;34m.\u001b[0m\u001b[0mhalo_table\u001b[0m\u001b[0;34m[\u001b[0m\u001b[0mkey\u001b[0m\u001b[0;34m]\u001b[0m \u001b[0;34m=\u001b[0m \u001b[0mhalo_table\u001b[0m\u001b[0;34m[\u001b[0m\u001b[0mkey\u001b[0m\u001b[0;34m]\u001b[0m\u001b[0;34m\u001b[0m\u001b[0m\n\u001b[0m\u001b[1;32m     86\u001b[0m             \u001b[0;32mexcept\u001b[0m \u001b[0mKeyError\u001b[0m\u001b[0;34m:\u001b[0m\u001b[0;34m\u001b[0m\u001b[0m\n\u001b[1;32m     87\u001b[0m                 \u001b[0;32mraise\u001b[0m \u001b[0mHalotoolsError\u001b[0m\u001b[0;34m(\u001b[0m\u001b[0munavailable_haloprop_msg\u001b[0m \u001b[0;34m%\u001b[0m \u001b[0mkey\u001b[0m\u001b[0;34m)\u001b[0m\u001b[0;34m\u001b[0m\u001b[0m\n",
      "\u001b[0;32m/Users/fardila/anaconda/envs/dwarf_lensing/lib/python2.7/site-packages/astropy/table/table.pyc\u001b[0m in \u001b[0;36m__setitem__\u001b[0;34m(self, item, value)\u001b[0m\n\u001b[1;32m   1293\u001b[0m                                              subok=True)\n\u001b[1;32m   1294\u001b[0m \u001b[0;34m\u001b[0m\u001b[0m\n\u001b[0;32m-> 1295\u001b[0;31m                 \u001b[0mnew_column\u001b[0m \u001b[0;34m=\u001b[0m \u001b[0mcol_copy\u001b[0m\u001b[0;34m(\u001b[0m\u001b[0mvalue\u001b[0m\u001b[0;34m)\u001b[0m\u001b[0;34m\u001b[0m\u001b[0m\n\u001b[0m\u001b[1;32m   1296\u001b[0m                 \u001b[0mnew_column\u001b[0m\u001b[0;34m.\u001b[0m\u001b[0minfo\u001b[0m\u001b[0;34m.\u001b[0m\u001b[0mname\u001b[0m \u001b[0;34m=\u001b[0m \u001b[0mname\u001b[0m\u001b[0;34m\u001b[0m\u001b[0m\n\u001b[1;32m   1297\u001b[0m \u001b[0;34m\u001b[0m\u001b[0m\n",
      "\u001b[0;32m/Users/fardila/anaconda/envs/dwarf_lensing/lib/python2.7/site-packages/astropy/table/column.pyc\u001b[0m in \u001b[0;36mcol_copy\u001b[0;34m(col, copy_indices)\u001b[0m\n\u001b[1;32m     87\u001b[0m     \"\"\"\n\u001b[1;32m     88\u001b[0m     \u001b[0;32mif\u001b[0m \u001b[0misinstance\u001b[0m\u001b[0;34m(\u001b[0m\u001b[0mcol\u001b[0m\u001b[0;34m,\u001b[0m \u001b[0mBaseColumn\u001b[0m\u001b[0;34m)\u001b[0m\u001b[0;34m:\u001b[0m\u001b[0;34m\u001b[0m\u001b[0m\n\u001b[0;32m---> 89\u001b[0;31m         \u001b[0;32mreturn\u001b[0m \u001b[0mcol\u001b[0m\u001b[0;34m.\u001b[0m\u001b[0mcopy\u001b[0m\u001b[0;34m(\u001b[0m\u001b[0;34m)\u001b[0m\u001b[0;34m\u001b[0m\u001b[0m\n\u001b[0m\u001b[1;32m     90\u001b[0m \u001b[0;34m\u001b[0m\u001b[0m\n\u001b[1;32m     91\u001b[0m     \u001b[0;31m# The new column should have None for the parent_table ref.  If the\u001b[0m\u001b[0;34m\u001b[0m\u001b[0;34m\u001b[0m\u001b[0m\n",
      "\u001b[0;32m/Users/fardila/anaconda/envs/dwarf_lensing/lib/python2.7/site-packages/astropy/table/column.pyc\u001b[0m in \u001b[0;36mcopy\u001b[0;34m(self, order, data, copy_data)\u001b[0m\n\u001b[1;32m    295\u001b[0m             \u001b[0mdata\u001b[0m \u001b[0;34m=\u001b[0m \u001b[0mself\u001b[0m\u001b[0;34m.\u001b[0m\u001b[0mdata\u001b[0m\u001b[0;34m\u001b[0m\u001b[0m\n\u001b[1;32m    296\u001b[0m             \u001b[0;32mif\u001b[0m \u001b[0mcopy_data\u001b[0m\u001b[0;34m:\u001b[0m\u001b[0;34m\u001b[0m\u001b[0m\n\u001b[0;32m--> 297\u001b[0;31m                 \u001b[0mdata\u001b[0m \u001b[0;34m=\u001b[0m \u001b[0mdata\u001b[0m\u001b[0;34m.\u001b[0m\u001b[0mcopy\u001b[0m\u001b[0;34m(\u001b[0m\u001b[0morder\u001b[0m\u001b[0;34m)\u001b[0m\u001b[0;34m\u001b[0m\u001b[0m\n\u001b[0m\u001b[1;32m    298\u001b[0m \u001b[0;34m\u001b[0m\u001b[0m\n\u001b[1;32m    299\u001b[0m         \u001b[0mout\u001b[0m \u001b[0;34m=\u001b[0m \u001b[0mdata\u001b[0m\u001b[0;34m.\u001b[0m\u001b[0mview\u001b[0m\u001b[0;34m(\u001b[0m\u001b[0mself\u001b[0m\u001b[0;34m.\u001b[0m\u001b[0m__class__\u001b[0m\u001b[0;34m)\u001b[0m\u001b[0;34m\u001b[0m\u001b[0m\n",
      "\u001b[0;31mKeyboardInterrupt\u001b[0m: "
     ]
    }
   ],
   "source": [
    "emcee_fit(config)"
   ]
  },
  {
   "cell_type": "code",
   "execution_count": null,
   "metadata": {},
   "outputs": [],
   "source": []
  }
 ],
 "metadata": {
  "kernelspec": {
   "display_name": "Python 3",
   "language": "python",
   "name": "python3"
  },
  "language_info": {
   "codemirror_mode": {
    "name": "ipython",
    "version": 3
   },
   "file_extension": ".py",
   "mimetype": "text/x-python",
   "name": "python",
   "nbconvert_exporter": "python",
   "pygments_lexer": "ipython3",
   "version": "3.6.4"
  }
 },
 "nbformat": 4,
 "nbformat_minor": 2
}
