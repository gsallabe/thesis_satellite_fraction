{
 "cells": [
  {
   "cell_type": "markdown",
   "metadata": {},
   "source": [
    "### The purpose of this notebook will be twofold:\n",
    "* First, I will plot the satellite fraction $f_{sat}$ of the galaxies in the model file.\n",
    "* I also want to make a two-plot figure comparing the data and model (**Update:** I did that in the other notebook.)"
   ]
  },
  {
   "cell_type": "code",
   "execution_count": 1,
   "metadata": {},
   "outputs": [],
   "source": [
    "import numpy as np\n",
    "import matplotlib.pyplot as plt\n",
    "import matplotlib as mpl\n",
    "from astropy.table import Table , Column\n",
    "from astropy.io import fits\n",
    "mpl.rcParams['mathtext.fontset'] = 'stix'\n",
    "mpl.rcParams['font.family'] = 'stixgeneral'\n",
    "%matplotlib inline"
   ]
  },
  {
   "cell_type": "code",
   "execution_count": 2,
   "metadata": {},
   "outputs": [],
   "source": [
    "# import the data file\n",
    "data_pth = '/Users/greg/Desktop/git_projects/catalog_plots/data/'\n",
    "model = data_pth + 'um_smdpl_model_logms_tot_11.4.fits'"
   ]
  },
  {
   "cell_type": "markdown",
   "metadata": {},
   "source": [
    "According to Song, the data are structured such that the centrals and satellites are already labelled. For this project, the useful columns are:\n",
    "* `logms_tot_mod`\n",
    "* `upid == -1` for centrals."
   ]
  },
  {
   "cell_type": "code",
   "execution_count": 3,
   "metadata": {},
   "outputs": [],
   "source": [
    "hdu1 = fits.open(model)\n",
    "# create astropy table of useful data\n",
    "model_table = Table()\n",
    "model_table['logms_tot_mod'] = hdu1[1].data['logms_tot_mod']\n",
    "model_table['upid'] = hdu1[1].data['upid']\n",
    "model_table.sort('logms_tot_mod')"
   ]
  },
  {
   "cell_type": "code",
   "execution_count": 4,
   "metadata": {},
   "outputs": [],
   "source": [
    "# I'm not sure if I'll be doing this quite right, but we'll see\n",
    "\n",
    "# lists to populate with the data\n",
    "centrals = []\n",
    "sats = []\n",
    "\n",
    "for i in range(27241):\n",
    "    if model_table['upid'][i] == -1:\n",
    "        centrals.append(model_table['logms_tot_mod'][i])\n",
    "    else:\n",
    "        sats.append(model_table['logms_tot_mod'][i])    "
   ]
  },
  {
   "cell_type": "code",
   "execution_count": 5,
   "metadata": {},
   "outputs": [
    {
     "name": "stdout",
     "output_type": "stream",
     "text": [
      "2911 24330\n"
     ]
    }
   ],
   "source": [
    "print(len(sats),len(centrals))"
   ]
  },
  {
   "cell_type": "code",
   "execution_count": 6,
   "metadata": {},
   "outputs": [],
   "source": [
    "# range of masses\n",
    "mmin = np.min(model_table['logms_tot_mod'])\n",
    "mmax = np.max(model_table['logms_tot_mod'])\n",
    "\n",
    "\n",
    "# from Song's satellite finding code\n",
    "\n",
    "hist_cen, edges_cen = np.histogram(centrals, range = [11.5,mmax], bins=8)\n",
    "hist_sat, edges_sat = np.histogram(sats, range = [11.5,mmax], bins=8)\n",
    "\n",
    "mass_center = (edges_cen[1:] + edges_cen[:-1]) / 2\n",
    "\n",
    "frac_sat = (hist_sat / hist_cen) * 100"
   ]
  },
  {
   "cell_type": "code",
   "execution_count": 7,
   "metadata": {},
   "outputs": [
    {
     "data": {
      "text/plain": [
       "Text(0.5,1,'Model')"
      ]
     },
     "execution_count": 7,
     "metadata": {},
     "output_type": "execute_result"
    },
    {
     "data": {
      "image/png": "[encoded data removed]",
      "text/plain": [
       "<matplotlib.figure.Figure at 0x1084322e8>"
      ]
     },
     "metadata": {},
     "output_type": "display_data"
    }
   ],
   "source": [
    "fig = plt.figure(figsize = [8,5])\n",
    "ax1 = fig.add_subplot(111)\n",
    "ax1.grid(linewidth=1, linestyle='--', alpha=0.5)\n",
    "\n",
    "ax1.scatter(mass_center , frac_sat, color = 'k')\n",
    "ax1.set_xlabel(r'$\\log M_{\\star max}$', fontsize = 18)\n",
    "ax1.set_ylabel(r'$f_{sat}$', fontsize = 18)\n",
    "ax1.set_title('Model')"
   ]
  },
  {
   "cell_type": "code",
   "execution_count": 8,
   "metadata": {},
   "outputs": [],
   "source": [
    "# now I will make a fit to this profile\n",
    "\n",
    "#from scipy.optimize import curve_fit\n",
    "#def func(x,a,b):\n",
    "#    return(a * np.exp(-b * x))\n",
    "#popt, pcov = curve_fit(func, mass_center, frac_sat)\n",
    "\n",
    "# exponential fit not working. I'll do a simple polynomial fit for now\n",
    "\n",
    "fit = np.polyfit(mass_center , frac_sat , 5)\n",
    "fit_fn = np.poly1d(fit)\n",
    "x = np.arange(np.min(mass_center) , np.max(mass_center) , 0.01)"
   ]
  },
  {
   "cell_type": "code",
   "execution_count": 9,
   "metadata": {},
   "outputs": [
    {
     "data": {
      "text/plain": [
       "Text(0.5,1,'Model')"
      ]
     },
     "execution_count": 9,
     "metadata": {},
     "output_type": "execute_result"
    },
    {
     "data": {
      "image/png": "[encoded data removed]",
      "text/plain": [
       "<matplotlib.figure.Figure at 0x10ea6a4e0>"
      ]
     },
     "metadata": {},
     "output_type": "display_data"
    }
   ],
   "source": [
    "fig = plt.figure(figsize = [8,5])\n",
    "ax1 = fig.add_subplot(111)\n",
    "ax1.grid(linewidth=1, linestyle='--', alpha=0.5)\n",
    "\n",
    "ax1.scatter(mass_center , frac_sat, color = 'k')\n",
    "ax1.set_xlabel(r'$\\log M_{\\star max}$', fontsize = 18)\n",
    "ax1.set_ylabel(r'$f_{sat}$', fontsize = 18)\n",
    "ax1.set_title('Model')\n",
    "#ax1.plot(x, fit_fn(x), linestyle = '--', color = 'r', alpha = 0.7)"
   ]
  }
 ],
 "metadata": {
  "kernelspec": {
   "display_name": "Python 3",
   "language": "python",
   "name": "python3"
  },
  "language_info": {
   "codemirror_mode": {
    "name": "ipython",
    "version": 3
   },
   "file_extension": ".py",
   "mimetype": "text/x-python",
   "name": "python",
   "nbconvert_exporter": "python",
   "pygments_lexer": "ipython3",
   "version": "3.6.4"
  }
 },
 "nbformat": 4,
 "nbformat_minor": 2
}
