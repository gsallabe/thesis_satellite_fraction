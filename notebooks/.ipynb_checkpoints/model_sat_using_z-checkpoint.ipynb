{
 "cells": [
  {
   "cell_type": "markdown",
   "metadata": {},
   "source": [
    "# Testing Code To Apply PDR Satellite Fraction Finding to UM Model Data"
   ]
  },
  {
   "cell_type": "code",
   "execution_count": 107,
   "metadata": {},
   "outputs": [],
   "source": [
    "import numpy as np\n",
    "import matplotlib.pyplot as plt\n",
    "import matplotlib as mpl\n",
    "from astropy.table import Table , Column\n",
    "from astropy.io import fits\n",
    "from astropy.cosmology import FlatLambdaCDM\n",
    "from astropy import units as u\n",
    "from astropy.coordinates import Angle\n",
    "from astropy.coordinates import SkyCoord\n",
    "import copy\n",
    "mpl.rcParams['mathtext.fontset'] = 'stix'\n",
    "mpl.rcParams['font.family'] = 'stixgeneral'\n",
    "%matplotlib inline"
   ]
  },
  {
   "cell_type": "code",
   "execution_count": 108,
   "metadata": {},
   "outputs": [],
   "source": [
    "# import the data file\n",
    "data_pth = '/Users/astro/Desktop/github/satellite_fraction/data/'\n",
    "model = data_pth + 'um_smdpl_model_logms_tot_11.4.fits'\n",
    "pdr = data_pth + 's16a_massive_logmMax_11.45_z_0.25_0.47_mhalo_pdr_full.fits'\n",
    "\n",
    "\n",
    "# open pdr file\n",
    "pdr_open = fits.open(pdr)\n",
    "z_pdr = pdr_open[1].data['z_best']"
   ]
  },
  {
   "cell_type": "code",
   "execution_count": 109,
   "metadata": {},
   "outputs": [
    {
     "name": "stdout",
     "output_type": "stream",
     "text": [
      "13358\n"
     ]
    }
   ],
   "source": [
    "# create astropy table of useful data\n",
    "hdu1 = fits.open(model)\n",
    "full_table = Table(hdu1[1].data)\n",
    "# Get only the galaxies within our mass range\n",
    "model_table = Table(names = full_table.colnames)\n",
    "\n",
    "for i in range(len(np.array(full_table['logms_tot_mod']))):\n",
    "    if full_table['logms_tot_mod'][i] > 11.50:\n",
    "        model_table.add_row(full_table[i])\n",
    "        \n",
    "        \n",
    "model_table.sort('logms_tot_mod')\n",
    "model_table.reverse() # rank order by mass\n",
    "model_redshift = 0.37 # this is from um snapshot\n",
    "\n",
    "print(len(model_table))"
   ]
  },
  {
   "cell_type": "markdown",
   "metadata": {},
   "source": [
    "## Test halotools"
   ]
  },
  {
   "cell_type": "code",
   "execution_count": 110,
   "metadata": {},
   "outputs": [],
   "source": [
    "# remember that some galaxies lack specz => error\n",
    "from halotools.mock_observables import apply_zspace_distortion\n",
    "from astropy.cosmology import Planck15 as cosmo # um uses planck cosmology\n",
    "# find the z-space distortions\n",
    "z_dis = apply_zspace_distortion(model_table['z'], model_table['vz'], model_redshift, cosmo, 400.0)\n",
    "model_table['z_dist'] = z_dis"
   ]
  },
  {
   "cell_type": "code",
   "execution_count": 111,
   "metadata": {},
   "outputs": [
    {
     "data": {
      "text/plain": [
       "Text(0,0.5,'LOS space distortion')"
      ]
     },
     "execution_count": 111,
     "metadata": {},
     "output_type": "execute_result"
    },
    {
     "data": {
      "image/png": "[encoded data removed]",
      "text/plain": [
       "<matplotlib.figure.Figure at 0x1a1837fda0>"
      ]
     },
     "metadata": {},
     "output_type": "display_data"
    }
   ],
   "source": [
    "# look at redshift space distortions\n",
    "fig = plt.figure(figsize = [7,7])\n",
    "\n",
    "ax1 = fig.add_subplot(111)\n",
    "ax1.scatter(model_table['x'],model_table['z'] - model_table['z_dist'], s = 1)\n",
    "ax1.set_xlabel('x-position', fontsize = 18)\n",
    "ax1.set_ylabel('LOS space distortion', fontsize = 18)"
   ]
  },
  {
   "cell_type": "markdown",
   "metadata": {},
   "source": [
    "So it looks like the z-space distortions aren't bad. (The odd points at $\\pm400$ are from the box size of the um model, which is $400Mpc$)\n",
    "\n",
    "* Some of the galaxy positions are now weird because of the periodic boundary conditions."
   ]
  },
  {
   "cell_type": "code",
   "execution_count": 112,
   "metadata": {},
   "outputs": [
    {
     "data": {
      "text/plain": [
       "(array([311., 268., 241., 270., 287., 261., 255., 243., 205., 268., 264.,\n",
       "        246., 221., 195., 203., 225., 220., 278., 246., 241., 247., 287.,\n",
       "        233., 257., 238., 231., 270., 299., 306., 305., 276., 236., 240.,\n",
       "        249., 283., 265., 274., 304., 294., 376., 409., 346., 261., 298.,\n",
       "        313., 302., 221., 250., 270., 270.]),\n",
       " array([3.57112194e-02, 8.03437159e+00, 1.60330320e+01, 2.40316923e+01,\n",
       "        3.20303527e+01, 4.00290131e+01, 4.80276735e+01, 5.60263338e+01,\n",
       "        6.40249942e+01, 7.20236546e+01, 8.00223149e+01, 8.80209753e+01,\n",
       "        9.60196357e+01, 1.04018296e+02, 1.12016956e+02, 1.20015617e+02,\n",
       "        1.28014277e+02, 1.36012938e+02, 1.44011598e+02, 1.52010258e+02,\n",
       "        1.60008919e+02, 1.68007579e+02, 1.76006239e+02, 1.84004900e+02,\n",
       "        1.92003560e+02, 2.00002221e+02, 2.08000881e+02, 2.15999541e+02,\n",
       "        2.23998202e+02, 2.31996862e+02, 2.39995522e+02, 2.47994183e+02,\n",
       "        2.55992843e+02, 2.63991503e+02, 2.71990164e+02, 2.79988824e+02,\n",
       "        2.87987485e+02, 2.95986145e+02, 3.03984805e+02, 3.11983466e+02,\n",
       "        3.19982126e+02, 3.27980786e+02, 3.35979447e+02, 3.43978107e+02,\n",
       "        3.51976768e+02, 3.59975428e+02, 3.67974088e+02, 3.75972749e+02,\n",
       "        3.83971409e+02, 3.91970069e+02, 3.99968730e+02]),\n",
       " <a list of 50 Patch objects>)"
      ]
     },
     "execution_count": 112,
     "metadata": {},
     "output_type": "execute_result"
    },
    {
     "data": {
      "image/png": "[encoded data removed]",
      "text/plain": [
       "<matplotlib.figure.Figure at 0x1a19b5b3c8>"
      ]
     },
     "metadata": {},
     "output_type": "display_data"
    }
   ],
   "source": [
    "plt.figure(figsize = (7,7))\n",
    "plt.hist(model_table['z_dist'], bins = 50)"
   ]
  },
  {
   "cell_type": "markdown",
   "metadata": {},
   "source": [
    "* The next order of business is to turn the $\\Delta z$ into physical $\\Delta \\ell$ (I think). From my conversation with Alexie at Shane, I want to convert our z-limits to comoving $h^{-1}$. For this, I can use `colossus.cosmology.comovingDistance`."
   ]
  },
  {
   "cell_type": "code",
   "execution_count": 113,
   "metadata": {},
   "outputs": [],
   "source": [
    "# first define the cosmology in colossus\n",
    "import colossus\n",
    "from colossus.cosmology import cosmology\n",
    "params = {'flat': True , 'H0': 70.0 , 'Om0': 0.3 , 'Ob0': 0.049, 'sigma8': 0.81, 'ns': 0.95}\n",
    "h = .7\n",
    "cosmology.addCosmology('huang18',params) # this is what Song had me use when doing the sat frac\n",
    "cosmo = cosmology.setCosmology('huang18')\n",
    "from colossus.halo import mass_so"
   ]
  },
  {
   "cell_type": "code",
   "execution_count": 114,
   "metadata": {},
   "outputs": [
    {
     "name": "stdout",
     "output_type": "stream",
     "text": [
      "121.71649170765623\n"
     ]
    }
   ],
   "source": [
    "# find the comoving distance to use as a z-cut for the catalog\n",
    "# for the dl cut, I will use the mean redshift plus our velocity dispersion\n",
    "z_mean = np.mean(z_pdr)\n",
    "z_l = z_mean + .05 # the .05 is what we will vary in our analysis\n",
    "l = cosmo.comovingDistance(z_mean, z_l)\n",
    "print(l)"
   ]
  },
  {
   "cell_type": "markdown",
   "metadata": {},
   "source": [
    "So comoving distance $\\Delta \\ell \\approx 12.33 Mpch^{-1}$ for $\\Delta z = 0.005$ "
   ]
  },
  {
   "cell_type": "markdown",
   "metadata": {},
   "source": [
    "Now I want to find the satellite fraction through the same process as the pdr region, except with a length cut.\n",
    "\n",
    "\n",
    "### Apply same method to catalog"
   ]
  },
  {
   "cell_type": "markdown",
   "metadata": {},
   "source": [
    "## True Satellite Fraction\n",
    "\n",
    "* I just copy/pasted this from my other notebook. It needs some edits to keep it in similar form as other method"
   ]
  },
  {
   "cell_type": "code",
   "execution_count": 115,
   "metadata": {},
   "outputs": [],
   "source": [
    "centrals_true = []\n",
    "sats_true = []\n",
    "\n",
    "for i in range(len(model_table)):\n",
    "    if model_table['upid'][i] == -1:\n",
    "        centrals_true.append(model_table['logms_tot_mod'][i])\n",
    "    else:\n",
    "        sats_true.append(model_table['logms_tot_mod'][i])\n",
    "        \n",
    "        \n",
    "# range of masses\n",
    "mmin = np.min(model_table['logms_tot_mod'])\n",
    "mmax = np.max(model_table['logms_tot_mod'])\n",
    "\n",
    "\n",
    "# from Song's satellite finding code\n",
    "\n",
    "hist_cen, edges_cen = np.histogram(centrals_true, range = [11.5,mmax], bins=8)\n",
    "hist_sat, edges_sat = np.histogram(sats_true, range = [11.5,mmax], bins=8)\n",
    "\n",
    "mass_center_true = (edges_cen[1:] + edges_cen[:-1]) / 2\n",
    "\n",
    "f_sat_true = (hist_sat / hist_cen) * 100"
   ]
  },
  {
   "cell_type": "code",
   "execution_count": 116,
   "metadata": {},
   "outputs": [],
   "source": [
    "# get virial radii\n",
    "mvir = model_table['logmh_vir']\n",
    "model_table['r_vir'] = (mass_so.M_to_R((10**mvir)*h , model_redshift, '200m')/h)*1e-3 #Mpc/h\n",
    "\n",
    "# Make an index column\n",
    "model_table['index'] = np.zeros(len(model_table['logms_tot_mod']))\n",
    "for i in range(len(model_table['index'])):\n",
    "     model_table['index'][i] = i"
   ]
  },
  {
   "cell_type": "markdown",
   "metadata": {},
   "source": [
    "$\\Rightarrow$ When I am applying this method, there are two key differences from the PDR\n",
    "* $\\Delta z$ cut is now a $\\Delta \\ell$ cut\n",
    "* Distance between galaxies is calculated using x-y coordinates instead of RA and Dec"
   ]
  },
  {
   "cell_type": "code",
   "execution_count": 117,
   "metadata": {},
   "outputs": [],
   "source": [
    "# ------- satellite finder function ------------\n",
    "\n",
    "def satellite(i, table, lcut):\n",
    "    \n",
    "\n",
    "    # the object we choose here is going to be a central by the way we have defined things\n",
    "    cent_gal = model_table[i] \n",
    "    \n",
    "    # this was a trick that song used to make a new catalog for the other objects of interest.\n",
    "    # the utility is that we don't have to loop through the whole catalog EVERY TIME\n",
    "    cat_use = copy.deepcopy(model_table[(model_table['logms_tot_mod'] < cent_gal['logms_tot_mod'])])\n",
    "    \n",
    "    \n",
    "    \n",
    "    # find the galaxies within the delta z limit\n",
    "    delta_l_cut = cat_use[np.abs(cent_gal['z_dist'] - cat_use['z_dist']) <= lcut] #this creates a new table\n",
    "    \n",
    "    if len(delta_l_cut) > 0:\n",
    "        # find separation for gals within dz (x-y dist)\n",
    "        delta_l_cut['sep'] = np.sqrt( ((delta_l_cut['x'] - cent_gal['x'])**2) \n",
    "                                    + ((delta_l_cut['y'] - cent_gal['y'])**2) )\n",
    "    for i in range(len(delta_l_cut)):\n",
    "        if delta_l_cut['sep'][i] <= cent_gal['r_vir']:\n",
    "            table['flag'][int(delta_l_cut['index'][i])] = 1\n",
    "            #print('satellite, yo')\n",
    "\n"
   ]
  },
  {
   "cell_type": "markdown",
   "metadata": {},
   "source": [
    "From what Marie sent me of the meeting on 6/21, I should be using these $\\ell$ cuts:\n",
    "* $\\ell = 10Mpch^{-1}$\n",
    "* $\\ell = 15Mpch^{-1}$ $\\Rightarrow$ velocity dispersion\n",
    "* $\\ell = 20Mpch^{-1}$\n",
    "* $\\ell = 50Mpch^{-1}$\n",
    "* $\\ell = 100Mpch^{-1}$ $\\Rightarrow$ HSC $\\sigma$"
   ]
  },
  {
   "cell_type": "markdown",
   "metadata": {},
   "source": [
    "#### Run using different  $\\ell$ cuts\n",
    "\n",
    "#### First, $\\ell = 10$"
   ]
  },
  {
   "cell_type": "code",
   "execution_count": 118,
   "metadata": {},
   "outputs": [],
   "source": [
    "# using l=10\n",
    "\n",
    "# creating new columns useful for the satellite finding inside of the function\n",
    "model_table['flag'] = np.zeros(len(model_table['logms_tot_mod'])) \n",
    "model_table['sep'] = np.zeros(len(model_table['logms_tot_mod'])) #column of separations\n",
    "\n",
    "\n",
    "for idx in range(len(model_table)):\n",
    "    satellite(idx,model_table,10)\n",
    "    \n",
    "model_table.remove_columns(['sep']) # remove separation column because it's useless now\n",
    "\n",
    "# -------- Put the stuff in new tables ------------------\n",
    "\n",
    "cen_table = Table(names = model_table.colnames) #make tables of cent/satdata\n",
    "sat_table = Table(names = model_table.colnames)\n",
    "for i in range(len(model_table['flag'])):\n",
    "    if model_table['flag'][i] == 0:\n",
    "        cen_table.add_row(model_table[i])\n",
    "    if model_table['flag'][i] == 1:\n",
    "        sat_table.add_row(model_table[i])\n",
    "        \n",
    "model_table.remove_columns(['flag']) # now remove flag column\n",
    "\n",
    "# range of masses\n",
    "mmin = np.min(model_table['logms_tot_mod'])\n",
    "mmax = np.max(model_table['logms_tot_mod'])\n",
    "\n",
    "# from Song's satellite finding code \n",
    "\n",
    "hist_cen_10mpc, edges_cen_10mpc = np.histogram(cen_table['logms_tot_mod'], \n",
    "                                               range = [11.5,mmax], bins=8)\n",
    "hist_sat_10mpc, edges_sat_10mpc = np.histogram(sat_table['logms_tot_mod'], \n",
    "                                               range = [11.5,mmax], bins=8)\n",
    "\n",
    "mass_center_10mpc = (edges_cen_10mpc[1:] + edges_cen_10mpc[:-1]) / 2\n",
    "\n",
    "f_sat_10mpc = (hist_sat_10mpc / hist_cen_10mpc) * 100"
   ]
  },
  {
   "cell_type": "markdown",
   "metadata": {},
   "source": [
    "#### Now use Chris' $\\Delta \\ell \\sim 15Mpch^{-1}$"
   ]
  },
  {
   "cell_type": "code",
   "execution_count": 119,
   "metadata": {},
   "outputs": [],
   "source": [
    "# creating new columns useful for the satellite finding inside of the function\n",
    "model_table['flag'] = np.zeros(len(model_table['logms_tot_mod'])) \n",
    "model_table['sep'] = np.zeros(len(model_table['logms_tot_mod'])) #column of separations\n",
    "\n",
    "for idx in range(len(model_table)):\n",
    "    satellite(idx, model_table, 15)\n",
    "    \n",
    "model_table.remove_columns(['sep'])\n",
    "\n",
    "cen_table = Table(names = model_table.colnames) #make tables of cent/satdata\n",
    "sat_table = Table(names = model_table.colnames)\n",
    "\n",
    "for i in range(len(model_table['flag'])):\n",
    "    if model_table['flag'][i] == 0:\n",
    "        cen_table.add_row(model_table[i])\n",
    "    if model_table['flag'][i] == 1:\n",
    "        sat_table.add_row(model_table[i])\n",
    "\n",
    "model_table.remove_columns(['flag'])        \n",
    "        \n",
    "# range of masses\n",
    "mmin = np.min(model_table['logms_tot_mod'])\n",
    "mmax = np.max(model_table['logms_tot_mod'])\n",
    "\n",
    "\n",
    "# from Song's satellite finding code \n",
    "\n",
    "hist_cen_15mpc, edges_cen_15mpc = np.histogram(cen_table['logms_tot_mod'], \n",
    "                                               range = [11.5,mmax], bins=8)\n",
    "hist_sat_15mpc, edges_sat_15mpc = np.histogram(sat_table['logms_tot_mod'], \n",
    "                                               range = [11.5,mmax], bins=8)\n",
    "\n",
    "mass_center_15mpc = (edges_cen_15mpc[1:] + edges_cen_15mpc[:-1]) / 2\n",
    "\n",
    "f_sat_15mpc = (hist_sat_15mpc / hist_cen_15mpc) * 100"
   ]
  },
  {
   "cell_type": "markdown",
   "metadata": {},
   "source": [
    "#### $\\ell = 20$"
   ]
  },
  {
   "cell_type": "code",
   "execution_count": 120,
   "metadata": {},
   "outputs": [],
   "source": [
    "# creating new columns useful for the satellite finding inside of the function\n",
    "model_table['flag'] = np.zeros(len(model_table['logms_tot_mod'])) \n",
    "model_table['sep'] = np.zeros(len(model_table['logms_tot_mod'])) #column of separations\n",
    "\n",
    "for idx in range(len(model_table)):\n",
    "    satellite(idx, model_table, 20)\n",
    "    \n",
    "model_table.remove_columns(['sep'])\n",
    "\n",
    "cen_table = Table(names = model_table.colnames) #make tables of cent/satdata\n",
    "sat_table = Table(names = model_table.colnames)\n",
    "\n",
    "for i in range(len(model_table['flag'])):\n",
    "    if model_table['flag'][i] == 0:\n",
    "        cen_table.add_row(model_table[i])\n",
    "    if model_table['flag'][i] == 1:\n",
    "        sat_table.add_row(model_table[i])\n",
    "\n",
    "model_table.remove_columns(['flag'])        \n",
    "        \n",
    "# range of masses\n",
    "mmin = np.min(model_table['logms_tot_mod'])\n",
    "mmax = np.max(model_table['logms_tot_mod'])\n",
    "\n",
    "# from Song's satellite finding code \n",
    "\n",
    "hist_cen_20mpc, edges_cen_20mpc = np.histogram(cen_table['logms_tot_mod'], \n",
    "                                               range = [11.5,mmax], bins=8)\n",
    "hist_sat_20mpc, edges_sat_20mpc = np.histogram(sat_table['logms_tot_mod'], \n",
    "                                               range = [11.5,mmax], bins=8)\n",
    "\n",
    "mass_center_20mpc = (edges_cen_20mpc[1:] + edges_cen_20mpc[:-1]) / 2\n",
    "\n",
    "f_sat_20mpc = (hist_sat_20mpc / hist_cen_20mpc) * 100"
   ]
  },
  {
   "cell_type": "markdown",
   "metadata": {},
   "source": [
    "#### $\\ell = 50$"
   ]
  },
  {
   "cell_type": "code",
   "execution_count": 121,
   "metadata": {},
   "outputs": [],
   "source": [
    "# creating new columns useful for the satellite finding inside of the function\n",
    "model_table['flag'] = np.zeros(len(model_table['logms_tot_mod'])) \n",
    "model_table['sep'] = np.zeros(len(model_table['logms_tot_mod'])) #column of separations\n",
    "\n",
    "for idx in range(len(model_table)):\n",
    "    satellite(idx, model_table, 50)\n",
    "    \n",
    "model_table.remove_columns(['sep'])\n",
    "\n",
    "cen_table = Table(names = model_table.colnames) #make tables of cent/satdata\n",
    "sat_table = Table(names = model_table.colnames)\n",
    "\n",
    "for i in range(len(model_table['flag'])):\n",
    "    if model_table['flag'][i] == 0:\n",
    "        cen_table.add_row(model_table[i])\n",
    "    if model_table['flag'][i] == 1:\n",
    "        sat_table.add_row(model_table[i])\n",
    "\n",
    "model_table.remove_columns(['flag'])        \n",
    "        \n",
    "# range of masses\n",
    "mmin = np.min(model_table['logms_tot_mod'])\n",
    "mmax = np.max(model_table['logms_tot_mod'])\n",
    "\n",
    "# from Song's satellite finding code \n",
    "\n",
    "hist_cen_50mpc, edges_cen_50mpc = np.histogram(cen_table['logms_tot_mod'], \n",
    "                                               range = [11.5,mmax], bins=8)\n",
    "hist_sat_50mpc, edges_sat_50mpc = np.histogram(sat_table['logms_tot_mod'], \n",
    "                                               range = [11.5,mmax], bins=8)\n",
    "\n",
    "mass_center_50mpc = (edges_cen_50mpc[1:] + edges_cen_50mpc[:-1]) / 2\n",
    "\n",
    "f_sat_50mpc = (hist_sat_50mpc / hist_cen_50mpc) * 100"
   ]
  },
  {
   "cell_type": "markdown",
   "metadata": {},
   "source": [
    "#### $\\ell = 100$"
   ]
  },
  {
   "cell_type": "code",
   "execution_count": 122,
   "metadata": {},
   "outputs": [],
   "source": [
    "# creating new columns useful for the satellite finding inside of the function\n",
    "model_table['flag'] = np.zeros(len(model_table['logms_tot_mod'])) \n",
    "model_table['sep'] = np.zeros(len(model_table['logms_tot_mod'])) #column of separations\n",
    "\n",
    "for idx in range(len(model_table)):\n",
    "    satellite(idx, model_table, 100)\n",
    "    \n",
    "model_table.remove_columns(['sep'])\n",
    "\n",
    "cen_table = Table(names = model_table.colnames) #make tables of cent/satdata\n",
    "sat_table = Table(names = model_table.colnames)\n",
    "\n",
    "for i in range(len(model_table['flag'])):\n",
    "    if model_table['flag'][i] == 0:\n",
    "        cen_table.add_row(model_table[i])\n",
    "    if model_table['flag'][i] == 1:\n",
    "        sat_table.add_row(model_table[i])\n",
    "\n",
    "model_table.remove_columns(['flag'])        \n",
    "        \n",
    "# range of masses\n",
    "mmin = np.min(model_table['logms_tot_mod'])\n",
    "mmax = np.max(model_table['logms_tot_mod'])\n",
    "\n",
    "# from Song's satellite finding code \n",
    "\n",
    "hist_cen_100mpc, edges_cen_100mpc = np.histogram(cen_table['logms_tot_mod'], \n",
    "                                               range = [11.5,mmax], bins=8)\n",
    "hist_sat_100mpc, edges_sat_100mpc = np.histogram(sat_table['logms_tot_mod'], \n",
    "                                               range = [11.5,mmax], bins=8)\n",
    "\n",
    "mass_center_100mpc = (edges_cen_100mpc[1:] + edges_cen_100mpc[:-1]) / 2\n",
    "\n",
    "f_sat_100mpc = (hist_sat_100mpc / hist_cen_100mpc) * 100"
   ]
  },
  {
   "cell_type": "markdown",
   "metadata": {},
   "source": [
    "--------------- Error Bars --------------\n",
    "* Song said I should put some \"naive\" error bars for reference. I will just do counting error.\n",
    "$$ \\sigma = \\sqrt{n_{sat}}/n_{cent} * 100 $$"
   ]
  },
  {
   "cell_type": "code",
   "execution_count": 123,
   "metadata": {},
   "outputs": [],
   "source": [
    "# 10mpc\n",
    "err_10mpc = np.sqrt(hist_sat_10mpc)/hist_cen_10mpc * 100\n",
    "\n",
    "# 15mpc\n",
    "err_15mpc = np.sqrt(hist_sat_15mpc)/hist_cen_15mpc * 100\n",
    "\n",
    "# 20mpc\n",
    "err_20mpc = np.sqrt(hist_sat_20mpc)/hist_cen_20mpc * 100\n",
    "\n",
    "# 50mpc\n",
    "err_50mpc = np.sqrt(hist_sat_50mpc)/hist_cen_50mpc * 100\n",
    "\n",
    "# 100mpc\n",
    "err_100mpc = np.sqrt(hist_sat_100mpc)/hist_cen_100mpc * 100\n"
   ]
  },
  {
   "cell_type": "code",
   "execution_count": 124,
   "metadata": {},
   "outputs": [
    {
     "data": {
      "text/plain": [
       "<matplotlib.legend.Legend at 0x1a1a102320>"
      ]
     },
     "execution_count": 124,
     "metadata": {},
     "output_type": "execute_result"
    },
    {
     "data": {
      "image/png": "[encoded data removed]",
      "text/plain": [
       "<matplotlib.figure.Figure at 0x1a1a191080>"
      ]
     },
     "metadata": {},
     "output_type": "display_data"
    }
   ],
   "source": [
    "fig = plt.figure(figsize = [8,5])\n",
    "ax1 = fig.add_subplot(111)\n",
    "ax1.grid(linewidth=1, linestyle='--', alpha=0.5)\n",
    "\n",
    "ax1.errorbar(mass_center_10mpc , f_sat_10mpc, yerr = err_10mpc, capsize = 3, label = '$\\ell = 10Mpch^{-1}$')\n",
    "ax1.errorbar(mass_center_15mpc , f_sat_15mpc, yerr = err_15mpc, capsize = 3, label = '$\\ell = 15Mpch^{-1}$')\n",
    "ax1.errorbar(mass_center_20mpc , f_sat_20mpc, yerr = err_20mpc, capsize = 3, label = '$\\ell = 20Mpch^{-1}$')\n",
    "ax1.errorbar(mass_center_50mpc , f_sat_50mpc, yerr = err_50mpc, capsize = 3, label = '$\\ell = 50Mpch^{-1}$')\n",
    "ax1.errorbar(mass_center_100mpc , f_sat_100mpc, yerr = err_100mpc, capsize = 3, label = '$\\ell = 100Mpch^{-1}$')\n",
    "ax1.errorbar(mass_center_true , f_sat_true, color = 'k', linewidth = 2,ls = '--', label = 'True')\n",
    "\n",
    "\n",
    "ax1.set_xlabel(r'$\\log M_{\\star max}$', fontsize = 18)\n",
    "ax1.set_ylabel(r'$f_{sat}$', fontsize = 18)\n",
    "ax1.set_title('Model')\n",
    "ax1.legend()"
   ]
  },
  {
   "cell_type": "markdown",
   "metadata": {},
   "source": [
    "#### Now we want to mock up photo-z errors.\n",
    "\n",
    "**I'm not 100% clear on the process, but here is what I am going to do first:**\n",
    "\n",
    "1) Using `numpy.random.rand()`, I will draw `len(model_table)*.06` random numbers\n",
    "\n",
    "2) I will multiply the array of random numbers by `len(model_table)`, then convert those numbers to integers.\n",
    "\n",
    "3) The integers will correspond to the indices of the rows of the table. These will be given the extra distortion, which I will work on next."
   ]
  },
  {
   "cell_type": "code",
   "execution_count": 125,
   "metadata": {},
   "outputs": [],
   "source": [
    "# Find how many random numbers to draw\n",
    "n_with_photoz = len(model_table) * .06\n",
    "n_to_draw = np.int(n_with_photoz) # round to integer to take from random fn\n",
    "\n",
    "random_sample = np.random.rand(n_to_draw)\n",
    "random_index = random_sample * len(model_table)\n",
    "\n",
    "# Turn array of indices into integers\n",
    "for i in range(len(random_index)):\n",
    "    random_index[i] = np.int(random_index[i])\n",
    "    \n",
    "\n",
    "random_index_integer = random_index.astype(int) # this is the final array of numbers to use"
   ]
  },
  {
   "cell_type": "markdown",
   "metadata": {},
   "source": [
    "This next part (actually creating and applying the kick) is where I'm a bit more unclear. I'm going to do what I *think* I'm supposed to do and see where that gets me. I will lay that out in the following markdown cell."
   ]
  },
  {
   "cell_type": "markdown",
   "metadata": {},
   "source": [
    "So from what Marie sent, I'm looking at a scatter of the form\n",
    "$$ \\sigma = \\frac{\\Delta z}{1 + z} \\sim 0.03$$\n",
    "If I'm supposed to find the $\\Delta z$ and the corresponding comoving distance, then I would rearrange the function as $ \\Delta z \\sim \\frac{0.03}{1 + z} $. In this case, $ z = z_{UM} = .37 $. Plugging in yields $\\Delta z \\sim 0.02$. From this, I can use `cosmo.comovingDistance()` to find the $\\ell$. Once I have that, I will use `np.random.normal(0.0, cosmo.comovingDistance(.37, .37+.02))` for the kick."
   ]
  },
  {
   "cell_type": "code",
   "execution_count": 126,
   "metadata": {},
   "outputs": [],
   "source": [
    "delta_z = 0.02 # from above\n",
    "l_comoving = cosmo.comovingDistance(0.37, 0.37 +delta_z)\n",
    "\n",
    "# here are the random distortions\n",
    "l_kick = np.random.normal(0.0, l_comoving, size = len(random_index))"
   ]
  },
  {
   "cell_type": "code",
   "execution_count": 127,
   "metadata": {},
   "outputs": [],
   "source": [
    "# ---------- Now add the distortions to the model data ----------\n",
    "\n",
    "# Copy the original table so I can mess with the z-column\n",
    "model_table_with_kick = copy.deepcopy(model_table)\n",
    "\n",
    "\n",
    "# Add errors to the random rows\n",
    "for i in range(len(random_index_integer)):\n",
    "    model_table_with_kick['z_dist'][random_index_integer[i]] = \\\n",
    "    model_table_with_kick['z_dist'][random_index_integer[i]] + l_kick[i]"
   ]
  },
  {
   "cell_type": "code",
   "execution_count": 128,
   "metadata": {},
   "outputs": [],
   "source": [
    "# ---------- Now run sat finding code ---------\n",
    "\n",
    "\n",
    "# ---------- l = 10 ---------------------------------------\n",
    "\n",
    "# creating new columns useful for the satellite finding inside of the function\n",
    "model_table_with_kick['flag'] = np.zeros(len(model_table['logms_tot_mod'])) \n",
    "model_table_with_kick['sep'] = np.zeros(len(model_table['logms_tot_mod'])) #column of separations\n",
    "\n",
    "for idx in range(len(model_table_with_kick)):\n",
    "    satellite(idx, model_table_with_kick, 10)\n",
    "    \n",
    "model_table_with_kick.remove_columns(['sep'])\n",
    "\n",
    "cen_table = Table(names = model_table_with_kick.colnames) #make tables of cent/satdata\n",
    "sat_table = Table(names = model_table_with_kick.colnames)\n",
    "\n",
    "for i in range(len(model_table_with_kick['flag'])):\n",
    "    if model_table_with_kick['flag'][i] == 0:\n",
    "        cen_table.add_row(model_table_with_kick[i])\n",
    "    if model_table_with_kick['flag'][i] == 1:\n",
    "        sat_table.add_row(model_table_with_kick[i])\n",
    "\n",
    "model_table_with_kick.remove_columns(['flag'])        \n",
    "        \n",
    "# range of masses\n",
    "mmin = np.min(model_table['logms_tot_mod'])\n",
    "mmax = np.max(model_table['logms_tot_mod'])\n",
    "\n",
    "# from Song's satellite finding code \n",
    "\n",
    "hist_cen_10mpc_kick, edges_cen_10mpc_kick = np.histogram(cen_table['logms_tot_mod'], \n",
    "                                               range = [11.5,mmax], bins=8)\n",
    "hist_sat_10mpc_kick, edges_sat_10mpc_kick = np.histogram(sat_table['logms_tot_mod'], \n",
    "                                               range = [11.5,mmax], bins=8)\n",
    "\n",
    "mass_center_10mpc_kick = (edges_cen_10mpc_kick[1:] + edges_cen_10mpc_kick[:-1]) / 2\n",
    "\n",
    "f_sat_10mpc_kick = (hist_sat_10mpc_kick / hist_cen_10mpc_kick) * 100"
   ]
  },
  {
   "cell_type": "code",
   "execution_count": 129,
   "metadata": {},
   "outputs": [],
   "source": [
    "# ---------- l = 15 ---------------------------------------\n",
    "\n",
    "# creating new columns useful for the satellite finding inside of the function\n",
    "model_table_with_kick['flag'] = np.zeros(len(model_table['logms_tot_mod'])) \n",
    "model_table_with_kick['sep'] = np.zeros(len(model_table['logms_tot_mod'])) #column of separations\n",
    "\n",
    "for idx in range(len(model_table_with_kick)):\n",
    "    satellite(idx, model_table_with_kick, 15)\n",
    "    \n",
    "model_table_with_kick.remove_columns(['sep'])\n",
    "\n",
    "cen_table = Table(names = model_table_with_kick.colnames) #make tables of cent/satdata\n",
    "sat_table = Table(names = model_table_with_kick.colnames)\n",
    "\n",
    "for i in range(len(model_table_with_kick['flag'])):\n",
    "    if model_table_with_kick['flag'][i] == 0:\n",
    "        cen_table.add_row(model_table_with_kick[i])\n",
    "    if model_table_with_kick['flag'][i] == 1:\n",
    "        sat_table.add_row(model_table_with_kick[i])\n",
    "\n",
    "model_table_with_kick.remove_columns(['flag'])        \n",
    "        \n",
    "# range of masses\n",
    "mmin = np.min(model_table['logms_tot_mod'])\n",
    "mmax = np.max(model_table['logms_tot_mod'])\n",
    "\n",
    "# from Song's satellite finding code \n",
    "\n",
    "hist_cen_15mpc_kick, edges_cen_15mpc_kick = np.histogram(cen_table['logms_tot_mod'], \n",
    "                                               range = [11.5,mmax], bins=8)\n",
    "hist_sat_15mpc_kick, edges_sat_15mpc_kick = np.histogram(sat_table['logms_tot_mod'], \n",
    "                                               range = [11.5,mmax], bins=8)\n",
    "\n",
    "mass_center_15mpc_kick = (edges_cen_15mpc_kick[1:] + edges_cen_15mpc_kick[:-1]) / 2\n",
    "\n",
    "f_sat_15mpc_kick = (hist_sat_15mpc_kick / hist_cen_15mpc_kick) * 100"
   ]
  },
  {
   "cell_type": "code",
   "execution_count": 130,
   "metadata": {},
   "outputs": [],
   "source": [
    "# ---------- l = 20 ---------------------------------------\n",
    "\n",
    "# creating new columns useful for the satellite finding inside of the function\n",
    "model_table_with_kick['flag'] = np.zeros(len(model_table['logms_tot_mod'])) \n",
    "model_table_with_kick['sep'] = np.zeros(len(model_table['logms_tot_mod'])) #column of separations\n",
    "\n",
    "for idx in range(len(model_table_with_kick)):\n",
    "    satellite(idx, model_table_with_kick, 20)\n",
    "    \n",
    "model_table_with_kick.remove_columns(['sep'])\n",
    "\n",
    "cen_table = Table(names = model_table_with_kick.colnames) #make tables of cent/satdata\n",
    "sat_table = Table(names = model_table_with_kick.colnames)\n",
    "\n",
    "for i in range(len(model_table_with_kick['flag'])):\n",
    "    if model_table_with_kick['flag'][i] == 0:\n",
    "        cen_table.add_row(model_table_with_kick[i])\n",
    "    if model_table_with_kick['flag'][i] == 1:\n",
    "        sat_table.add_row(model_table_with_kick[i])\n",
    "\n",
    "model_table_with_kick.remove_columns(['flag'])        \n",
    "        \n",
    "# range of masses\n",
    "mmin = np.min(model_table['logms_tot_mod'])\n",
    "mmax = np.max(model_table['logms_tot_mod'])\n",
    "\n",
    "# from Song's satellite finding code \n",
    "\n",
    "hist_cen_20mpc_kick, edges_cen_20mpc_kick = np.histogram(cen_table['logms_tot_mod'], \n",
    "                                               range = [11.5,mmax], bins=8)\n",
    "hist_sat_20mpc_kick, edges_sat_20mpc_kick = np.histogram(sat_table['logms_tot_mod'], \n",
    "                                               range = [11.5,mmax], bins=8)\n",
    "\n",
    "mass_center_20mpc_kick = (edges_cen_20mpc_kick[1:] + edges_cen_20mpc_kick[:-1]) / 2\n",
    "\n",
    "f_sat_20mpc_kick = (hist_sat_20mpc_kick / hist_cen_20mpc_kick) * 100"
   ]
  },
  {
   "cell_type": "code",
   "execution_count": 131,
   "metadata": {},
   "outputs": [],
   "source": [
    "# ---------- l = 50 ---------------------------------------\n",
    "\n",
    "# creating new columns useful for the satellite finding inside of the function\n",
    "model_table_with_kick['flag'] = np.zeros(len(model_table['logms_tot_mod'])) \n",
    "model_table_with_kick['sep'] = np.zeros(len(model_table['logms_tot_mod'])) #column of separations\n",
    "\n",
    "for idx in range(len(model_table_with_kick)):\n",
    "    satellite(idx, model_table_with_kick, 50)\n",
    "    \n",
    "model_table_with_kick.remove_columns(['sep'])\n",
    "\n",
    "cen_table = Table(names = model_table_with_kick.colnames) #make tables of cent/satdata\n",
    "sat_table = Table(names = model_table_with_kick.colnames)\n",
    "\n",
    "for i in range(len(model_table_with_kick['flag'])):\n",
    "    if model_table_with_kick['flag'][i] == 0:\n",
    "        cen_table.add_row(model_table_with_kick[i])\n",
    "    if model_table_with_kick['flag'][i] == 1:\n",
    "        sat_table.add_row(model_table_with_kick[i])\n",
    "\n",
    "model_table_with_kick.remove_columns(['flag'])        \n",
    "        \n",
    "# range of masses\n",
    "mmin = np.min(model_table['logms_tot_mod'])\n",
    "mmax = np.max(model_table['logms_tot_mod'])\n",
    "\n",
    "# from Song's satellite finding code \n",
    "\n",
    "hist_cen_50mpc_kick, edges_cen_50mpc_kick = np.histogram(cen_table['logms_tot_mod'], \n",
    "                                               range = [11.5,mmax], bins=8)\n",
    "hist_sat_50mpc_kick, edges_sat_50mpc_kick = np.histogram(sat_table['logms_tot_mod'], \n",
    "                                               range = [11.5,mmax], bins=8)\n",
    "\n",
    "mass_center_50mpc_kick = (edges_cen_50mpc_kick[1:] + edges_cen_50mpc_kick[:-1]) / 2\n",
    "\n",
    "f_sat_50mpc_kick = (hist_sat_50mpc_kick / hist_cen_50mpc_kick) * 100"
   ]
  },
  {
   "cell_type": "code",
   "execution_count": 132,
   "metadata": {},
   "outputs": [],
   "source": [
    "# ---------- l = 100 ---------------------------------------\n",
    "\n",
    "# creating new columns useful for the satellite finding inside of the function\n",
    "model_table_with_kick['flag'] = np.zeros(len(model_table['logms_tot_mod'])) \n",
    "model_table_with_kick['sep'] = np.zeros(len(model_table['logms_tot_mod'])) #column of separations\n",
    "\n",
    "for idx in range(len(model_table_with_kick)):\n",
    "    satellite(idx, model_table_with_kick, 100)\n",
    "    \n",
    "model_table_with_kick.remove_columns(['sep'])\n",
    "\n",
    "cen_table = Table(names = model_table_with_kick.colnames) #make tables of cent/satdata\n",
    "sat_table = Table(names = model_table_with_kick.colnames)\n",
    "\n",
    "for i in range(len(model_table_with_kick['flag'])):\n",
    "    if model_table_with_kick['flag'][i] == 0:\n",
    "        cen_table.add_row(model_table_with_kick[i])\n",
    "    if model_table_with_kick['flag'][i] == 1:\n",
    "        sat_table.add_row(model_table_with_kick[i])\n",
    "\n",
    "model_table_with_kick.remove_columns(['flag'])        \n",
    "        \n",
    "# range of masses\n",
    "mmin = np.min(model_table['logms_tot_mod'])\n",
    "mmax = np.max(model_table['logms_tot_mod'])\n",
    "\n",
    "# from Song's satellite finding code \n",
    "\n",
    "hist_cen_100mpc_kick, edges_cen_100mpc_kick = np.histogram(cen_table['logms_tot_mod'], \n",
    "                                               range = [11.5,mmax], bins=8)\n",
    "hist_sat_100mpc_kick, edges_sat_100mpc_kick = np.histogram(sat_table['logms_tot_mod'], \n",
    "                                               range = [11.5,mmax], bins=8)\n",
    "\n",
    "mass_center_100mpc_kick = (edges_cen_100mpc_kick[1:] + edges_cen_100mpc_kick[:-1]) / 2\n",
    "\n",
    "f_sat_100mpc_kick = (hist_sat_100mpc_kick / hist_cen_100mpc_kick) * 100"
   ]
  }
 ],
 "metadata": {
  "kernelspec": {
   "display_name": "Python 3",
   "language": "python",
   "name": "python3"
  },
  "language_info": {
   "codemirror_mode": {
    "name": "ipython",
    "version": 3
   },
   "file_extension": ".py",
   "mimetype": "text/x-python",
   "name": "python",
   "nbconvert_exporter": "python",
   "pygments_lexer": "ipython3",
   "version": "3.6.4"
  }
 },
 "nbformat": 4,
 "nbformat_minor": 2
}
