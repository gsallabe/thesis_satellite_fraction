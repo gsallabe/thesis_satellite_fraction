{
 "cells": [
  {
   "cell_type": "markdown",
   "metadata": {},
   "source": [
    "This is my first time using Jupyter Lab *and* Python 3, so we'll see how this goes."
   ]
  },
  {
   "cell_type": "code",
   "execution_count": 2,
   "metadata": {},
   "outputs": [],
   "source": [
    "from astropy.io import fits\n",
    "import numpy as np\n",
    "from astropy.table import Table\n",
    "import matplotlib.pyplot as plt\n",
    "%matplotlib inline"
   ]
  },
  {
   "cell_type": "markdown",
   "metadata": {},
   "source": [
    "### Read in the data"
   ]
  },
  {
   "cell_type": "code",
   "execution_count": 3,
   "metadata": {},
   "outputs": [],
   "source": [
    "# This is the file that Song said to start with.\n",
    "data_file_1 = '/Users/greg/Desktop/git_projects/catalog_plots/data/s16a_massive_logmMax_11.45_z_0.25_0.47_mhalo.fits'\n",
    "hdu1 = fits.open(data_file_1)"
   ]
  },
  {
   "cell_type": "markdown",
   "metadata": {},
   "source": [
    "So here I'm going to list the useful bits of this data set:\n",
    "\n",
    "`ra`: Right Ascension\n",
    "\n",
    "`dec`: Declination\n",
    "(*These will be useful when I make the galaxy map plot*)\n",
    "\n",
    "`z_best`: Best redshift value\n",
    "\n",
    "`logm_max`: I think this is the mass I want for the radius. Or `logmh_host`?\n"
   ]
  },
  {
   "cell_type": "code",
   "execution_count": 4,
   "metadata": {},
   "outputs": [],
   "source": [
    "data_table = Table(hdu1[1].data) # For visualization, just in case."
   ]
  },
  {
   "cell_type": "markdown",
   "metadata": {},
   "source": [
    "Now what I want to do is take the galaxy halo masses and assign them a radius. To do this, I will use  `Colossus` (Diemer 2017)."
   ]
  },
  {
   "cell_type": "code",
   "execution_count": 5,
   "metadata": {},
   "outputs": [],
   "source": [
    "from colossus.cosmology import cosmology\n",
    "cosmology.setCosmology('planck15')\n",
    "from colossus.halo import mass_so"
   ]
  },
  {
   "cell_type": "code",
   "execution_count": 6,
   "metadata": {},
   "outputs": [
    {
     "data": {
      "text/plain": [
       "['object_id',\n",
       " 'ra',\n",
       " 'dec',\n",
       " 'z_spec',\n",
       " 'z_best',\n",
       " 'z_phot',\n",
       " 'z_type',\n",
       " 'gcmodel_mag',\n",
       " 'gcmodel_mag_err',\n",
       " 'rcmodel_mag',\n",
       " 'rcmodel_mag_err',\n",
       " 'icmodel_mag',\n",
       " 'icmodel_mag_err',\n",
       " 'zcmodel_mag',\n",
       " 'zcmodel_mag_err',\n",
       " 'ycmodel_mag',\n",
       " 'ycmodel_mag_err',\n",
       " 'MSTAR',\n",
       " 'logm_10',\n",
       " 'logm_30',\n",
       " 'logm_100',\n",
       " 'logm_max',\n",
       " 'vdisp_sdss',\n",
       " 'vdisp_err_sdss',\n",
       " 'logms_gama',\n",
       " 'logms_err_gama',\n",
       " 'id_cluster_redm',\n",
       " 'p_mem_redm',\n",
       " 'z_lambda_redm',\n",
       " 'lambda_redm',\n",
       " 'p_cen_1_redm',\n",
       " 'id_camira',\n",
       " 'z_camira',\n",
       " 'n_cor_camira',\n",
       " 'logms_camira',\n",
       " 'r50_max',\n",
       " 'r50_100',\n",
       " 'logmh_peak',\n",
       " 'logmh_vir',\n",
       " 'logmh_host']"
      ]
     },
     "execution_count": 6,
     "metadata": {},
     "output_type": "execute_result"
    }
   ],
   "source": [
    "data_table.colnames # find the useful columns"
   ]
  },
  {
   "cell_type": "code",
   "execution_count": 7,
   "metadata": {},
   "outputs": [],
   "source": [
    "# Put the data into nice arrays\n",
    "z_best = np.array(data_table['z_best'])\n",
    "logm_max = np.array(data_table['logm_max'])\n",
    "ra = np.array(data_table['ra'])\n",
    "dec = np.array(data_table['dec'])"
   ]
  },
  {
   "cell_type": "code",
   "execution_count": 13,
   "metadata": {},
   "outputs": [
    {
     "data": {
      "text/plain": [
       "<matplotlib.collections.PathCollection at 0x10cc99ef0>"
      ]
     },
     "execution_count": 13,
     "metadata": {},
     "output_type": "execute_result"
    },
    {
     "data": {
      "image/png": "[encoded data removed]",
      "text/plain": [
       "<matplotlib.figure.Figure at 0x10cc6f390>"
      ]
     },
     "metadata": {},
     "output_type": "display_data"
    }
   ],
   "source": [
    "# First, I'm just going to plot the RA and Dec to be sure things line up.\n",
    "plt.figure(figsize = [10,10])\n",
    "plt.xlabel(\"RA\")\n",
    "plt.ylabel(\"Dec\")\n",
    "plt.title(\"Whole Catalogue Coordinates\", fontsize = 15)\n",
    "plt.scatter(ra , dec, marker = 'x', color = 'k')"
   ]
  },
  {
   "cell_type": "code",
   "execution_count": null,
   "metadata": {},
   "outputs": [],
   "source": []
  }
 ],
 "metadata": {
  "kernelspec": {
   "display_name": "Python 3",
   "language": "python",
   "name": "python3"
  },
  "language_info": {
   "codemirror_mode": {
    "name": "ipython",
    "version": 3
   },
   "file_extension": ".py",
   "mimetype": "text/x-python",
   "name": "python",
   "nbconvert_exporter": "python",
   "pygments_lexer": "ipython3",
   "version": "3.6.4"
  }
 },
 "nbformat": 4,
 "nbformat_minor": 2
}
