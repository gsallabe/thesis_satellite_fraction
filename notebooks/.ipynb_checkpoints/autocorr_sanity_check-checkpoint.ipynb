{
 "cells": [
  {
   "cell_type": "markdown",
   "metadata": {},
   "source": [
    "# Sanity check for HSC clustering"
   ]
  },
  {
   "cell_type": "code",
   "execution_count": 1,
   "metadata": {},
   "outputs": [],
   "source": [
    "from astropy.cosmology import FlatLambdaCDM\n",
    "from astropy.io import fits\n",
    "from astropy import units as u\n",
    "import numpy as np\n",
    "from astropy.table import Table\n",
    "import matplotlib.pyplot as plt\n",
    "import matplotlib as mpl\n",
    "mpl.rcParams['mathtext.fontset'] = 'stix'\n",
    "mpl.rcParams['font.family'] = 'stixgeneral'\n",
    "%matplotlib inline\n",
    "#matplotlib.matplotlib_fname()\n",
    "#import linetools.utils as ltu\n",
    "from astropy.coordinates import Angle\n",
    "from astropy.coordinates import SkyCoord\n",
    "import copy\n",
    "from colossus.halo import profile_nfw\n",
    "%config InlineBackend.figure_format = 'retina'"
   ]
  },
  {
   "cell_type": "code",
   "execution_count": 2,
   "metadata": {},
   "outputs": [],
   "source": [
    "# read in the data\n",
    "data_pth = '/Users/astro/Desktop/GitHub/satellite_fraction/data/'\n",
    "data_file = data_pth + 's16a_massive_logmMax_11.45_z_0.25_0.47_mhalo.fits'\n",
    "\n",
    "hdu1 = fits.open(data_file)\n",
    "data_table = Table(hdu1[1].data)\n",
    "\n",
    "# set cosmology params\n",
    "import colossus\n",
    "from colossus.cosmology import cosmology\n",
    "params = {'flat': True , 'H0': 70.0 , 'Om0': 0.3 , 'Ob0': 0.049, 'sigma8': 0.81, 'ns': 0.95}\n",
    "h = .7\n",
    "cosmology.addCosmology('huang18',params)\n",
    "cosmology.setCosmology('huang18')\n",
    "from colossus.halo import mass_so\n",
    "\n",
    "# cut the table\n",
    "pdr_use = Table(names = data_table.colnames)\n",
    "\n",
    "for i in range(len(np.array(data_table['logm_max']))):\n",
    "    if data_table['logm_max'][i] > 11.4 and data_table['z_best'][i] > .25 and data_table['z_best'][i] < .45:\n",
    "        pdr_use.add_row(data_table[i])\n",
    "        \n",
    "# get rid of two bad galaxies\n",
    "pdr_use.remove_row(np.where(pdr_use['ra'] == 33.121181211450285)[0][0])\n",
    "pdr_use.remove_row(np.where(pdr_use['ra'] == 333.7062012551158)[0][0])"
   ]
  },
  {
   "cell_type": "code",
   "execution_count": 3,
   "metadata": {},
   "outputs": [
    {
     "data": {
      "text/html": [
       "<i>Table length=500000</i>\n",
       "<table id=\"table103504864704\" class=\"table-striped table-bordered table-condensed\">\n",
       "<thead><tr><th>ra</th><th>dec</th><th>z</th><th>index</th></tr></thead>\n",
       "<thead><tr><th>float64</th><th>float64</th><th>float64</th><th>float64</th></tr></thead>\n",
       "<tr><td>29.932068028235665</td><td>-3.990383163553301</td><td>0.40700000524520874</td><td>0.0</td></tr>\n",
       "<tr><td>132.71031544050894</td><td>1.1812907640265562</td><td>0.41190001368522644</td><td>1.0</td></tr>\n",
       "<tr><td>140.12196091406872</td><td>3.240460489530151</td><td>0.4103800058364868</td><td>2.0</td></tr>\n",
       "<tr><td>136.49921258499833</td><td>-1.0299306731749192</td><td>0.25751999020576477</td><td>3.0</td></tr>\n",
       "<tr><td>237.246892560633</td><td>42.47810251960571</td><td>0.38192999362945557</td><td>4.0</td></tr>\n",
       "<tr><td>221.91656450744262</td><td>0.6307976659972396</td><td>0.4396609365940094</td><td>5.0</td></tr>\n",
       "<tr><td>216.01995830503026</td><td>-0.8049424725083352</td><td>0.3255600035190582</td><td>6.0</td></tr>\n",
       "<tr><td>334.04642925504425</td><td>1.5125417691335883</td><td>0.3712399899959564</td><td>7.0</td></tr>\n",
       "<tr><td>36.71679133447393</td><td>-2.729743420142457</td><td>0.32818999886512756</td><td>8.0</td></tr>\n",
       "<tr><td>129.5571624272636</td><td>1.0940313071496814</td><td>0.32389000058174133</td><td>9.0</td></tr>\n",
       "<tr><td>...</td><td>...</td><td>...</td><td>...</td></tr>\n",
       "<tr><td>38.7779147437708</td><td>-4.332490359737966</td><td>0.444350004196167</td><td>499990.0</td></tr>\n",
       "<tr><td>129.50359922253108</td><td>1.7572382527150838</td><td>0.3184700012207031</td><td>499991.0</td></tr>\n",
       "<tr><td>339.4069762111447</td><td>1.5128234539053944</td><td>0.35550999641418457</td><td>499992.0</td></tr>\n",
       "<tr><td>139.60377339238275</td><td>3.938338335473159</td><td>0.3128499984741211</td><td>499993.0</td></tr>\n",
       "<tr><td>333.5352737500419</td><td>0.17045061500149164</td><td>0.4435640871524811</td><td>499994.0</td></tr>\n",
       "<tr><td>139.2397443148299</td><td>2.4410751419845784</td><td>0.39149999618530273</td><td>499995.0</td></tr>\n",
       "<tr><td>34.54353969091038</td><td>-6.127839794324354</td><td>0.3745799958705902</td><td>499996.0</td></tr>\n",
       "<tr><td>218.16470803061213</td><td>0.4512644843908812</td><td>0.3775399923324585</td><td>499997.0</td></tr>\n",
       "<tr><td>31.141281122990325</td><td>-6.06677411920933</td><td>0.3387399911880493</td><td>499998.0</td></tr>\n",
       "<tr><td>139.71563561078545</td><td>-0.2837180797198162</td><td>0.31909000873565674</td><td>499999.0</td></tr>\n",
       "</table>"
      ],
      "text/plain": [
       "<Table length=500000>\n",
       "        ra                 dec                  z           index  \n",
       "     float64             float64             float64       float64 \n",
       "------------------ ------------------- ------------------- --------\n",
       "29.932068028235665  -3.990383163553301 0.40700000524520874      0.0\n",
       "132.71031544050894  1.1812907640265562 0.41190001368522644      1.0\n",
       "140.12196091406872   3.240460489530151  0.4103800058364868      2.0\n",
       "136.49921258499833 -1.0299306731749192 0.25751999020576477      3.0\n",
       "  237.246892560633   42.47810251960571 0.38192999362945557      4.0\n",
       "221.91656450744262  0.6307976659972396  0.4396609365940094      5.0\n",
       "216.01995830503026 -0.8049424725083352  0.3255600035190582      6.0\n",
       "334.04642925504425  1.5125417691335883  0.3712399899959564      7.0\n",
       " 36.71679133447393  -2.729743420142457 0.32818999886512756      8.0\n",
       " 129.5571624272636  1.0940313071496814 0.32389000058174133      9.0\n",
       "               ...                 ...                 ...      ...\n",
       "  38.7779147437708  -4.332490359737966   0.444350004196167 499990.0\n",
       "129.50359922253108  1.7572382527150838  0.3184700012207031 499991.0\n",
       " 339.4069762111447  1.5128234539053944 0.35550999641418457 499992.0\n",
       "139.60377339238275   3.938338335473159  0.3128499984741211 499993.0\n",
       " 333.5352737500419 0.17045061500149164  0.4435640871524811 499994.0\n",
       " 139.2397443148299  2.4410751419845784 0.39149999618530273 499995.0\n",
       " 34.54353969091038  -6.127839794324354  0.3745799958705902 499996.0\n",
       "218.16470803061213  0.4512644843908812  0.3775399923324585 499997.0\n",
       "31.141281122990325   -6.06677411920933  0.3387399911880493 499998.0\n",
       "139.71563561078545 -0.2837180797198162 0.31909000873565674 499999.0"
      ]
     },
     "execution_count": 3,
     "metadata": {},
     "output_type": "execute_result"
    }
   ],
   "source": [
    "#randoms\n",
    "\n",
    "random_file = data_pth +'s16a_random_500k.npy'\n",
    "\n",
    "# read in the array and make a table\n",
    "randoms = Table(np.load(random_file))\n",
    "randoms.remove_columns(['field', 'jk', 'redshift'])\n",
    "\n",
    "# populate redshift column with random HSC values\n",
    "hsc_sample_z = pdr_use['z_best'] # all sample redshifts\n",
    "random_redshift_index = np.random.randint(len(hsc_sample_z), size = len(randoms))\n",
    "randoms['z'] = hsc_sample_z[random_redshift_index]\n",
    "\n",
    "# Make an index column\n",
    "randoms['index'] = np.zeros(len(randoms['z']))\n",
    "\n",
    "for i in range(len(randoms['index'])):\n",
    "     randoms['index'][i] = i\n",
    "randoms"
   ]
  },
  {
   "cell_type": "code",
   "execution_count": 29,
   "metadata": {
    "scrolled": true
   },
   "outputs": [
    {
     "name": "stderr",
     "output_type": "stream",
     "text": [
      "check_ra_dec_cz_double> Out of range values found for cz. Expected input to be `cz' but found `z' instead. max_cz (found in input) = 0.450000 threshold = 10.000000\n",
      "check_ra_dec_cz_double> Out of range values found for cz. Expected input to be `cz' but found `z' instead. max_cz (found in input) = 0.450000 threshold = 10.000000\n"
     ]
    }
   ],
   "source": [
    "# import the corrfunc stuff\n",
    "from Corrfunc.mocks.DDrppi_mocks import DDrppi_mocks\n",
    "from Corrfunc.theory.DDrppi import DDrppi\n",
    "\n",
    "cosmology = 2\n",
    "\n",
    "rp = np.linspace(0.000001, 1, num=2)\n",
    "\n",
    "hsc_ra = np.array(pdr_use['ra'])\n",
    "hsc_dec = np.array(pdr_use['dec'])\n",
    "hsc_z= np.array(pdr_use['z_best'])\n",
    "\n",
    "random_ra = np.array(randoms['ra'])\n",
    "random_dec = np.array(randoms['dec'])\n",
    "random_z = np.array(randoms['z'])\n",
    "\n",
    "\n",
    "DD = DDrppi_mocks(autocorr = True, cosmology = 2, nthreads = 12, pimax = 10, \n",
    "                  binfile = rp, RA1 = hsc_ra, DEC1 = hsc_dec, CZ1 = hsc_z, is_comoving_dist = True)\n",
    "DR = DDrppi_mocks(autocorr=False, cosmology = 2, nthreads = 12, pimax = 10, \n",
    "                  binfile = rp, RA1 = hsc_ra, DEC1 = hsc_dec, CZ1 = hsc_z, \n",
    "                  RA2 = random_ra, DEC2 = random_dec, CZ2 = random_z, is_comoving_dist = True)\n",
    "RR = DDrppi_mocks(autocorr = True, cosmology = 2, nthreads = 12, pimax = 10, \n",
    "                  binfile = rp, RA1 = random_ra, DEC1 = random_dec, CZ1 = random_z, is_comoving_dist = True)"
   ]
  },
  {
   "cell_type": "markdown",
   "metadata": {},
   "source": [
    "Corrfunc.utils.convert_rp_pi_counts_to_wp(ND1, ND2, NR1, NR2, D1D2, D1R2, D2R1, R1R2, nrpbins, pimax, dpi=1.0, estimator=u'LS')[source]\n",
    "Converts raw pair counts to a correlation function.\n",
    "\n",
    "Parameters:\t\n",
    "* ND1 (integer) – Number of points in the first dataset\n",
    "* ND2 (integer) – Number of points in the second dataset\n",
    "* NR1 (integer) – Number of points in the randoms for first dataset\n",
    "* NR2 (integer) – Number of points in the randoms for second dataset\n",
    "* D1D2 (array-like, integer) – Pair-counts for the cross-correlation between D1 and D2\n",
    "* D1R2 (array-like, integer) – Pair-counts for the cross-correlation between D1 and R2\n",
    "* D2R1 (array-like, integer) – Pair-counts for the cross-correlation between D2 and R1\n",
    "* R1R2 (array-like, integer) – Pair-counts for the cross-correlation between R1 and R2\n",
    "* all of these pair-counts arrays, the corresponding numpy (For) –\n",
    "* returned by the theory/mocks modules can also be passed (struct) –\n",
    "* nrpbins (integer) – Number of bins in rp\n",
    "* pimax (float) – Integration distance along the line of sight direction\n",
    "* dpi (float, default=1.0 Mpc/h) – Binsize in the line of sight direction\n",
    "* estimator (string, default='LS' (Landy-Szalay)) – The kind of estimator to use for computing the correlation function. Currently, only supports Landy-Szalay\n",
    "Returns:\t\n",
    "* wp – The projected correlation function, calculated using the chosen estimator, is returned. If any of the pi bins (in an rp bin) contains 0 for the RR counts, then NAN is returned for that rp bin.\n",
    "\n",
    "Return type:\t\n",
    "* A numpy array"
   ]
  },
  {
   "cell_type": "code",
   "execution_count": 31,
   "metadata": {},
   "outputs": [],
   "source": [
    "from Corrfunc.utils import convert_rp_pi_counts_to_wp\n",
    "nd = len(pdr_use)\n",
    "nr = len(randoms)\n",
    "\n",
    "wp = convert_rp_pi_counts_to_wp(nd, nd, nr, nr, DD, DR, DR, RR, 1, pimax = 10)"
   ]
  },
  {
   "cell_type": "code",
   "execution_count": 32,
   "metadata": {},
   "outputs": [
    {
     "data": {
      "text/plain": [
       "array([nan])"
      ]
     },
     "execution_count": 32,
     "metadata": {},
     "output_type": "execute_result"
    }
   ],
   "source": [
    "wp"
   ]
  },
  {
   "cell_type": "code",
   "execution_count": null,
   "metadata": {},
   "outputs": [],
   "source": []
  }
 ],
 "metadata": {
  "kernelspec": {
   "display_name": "Python 3",
   "language": "python",
   "name": "python3"
  },
  "language_info": {
   "codemirror_mode": {
    "name": "ipython",
    "version": 3
   },
   "file_extension": ".py",
   "mimetype": "text/x-python",
   "name": "python",
   "nbconvert_exporter": "python",
   "pygments_lexer": "ipython3",
   "version": "3.6.4"
  }
 },
 "nbformat": 4,
 "nbformat_minor": 2
}
