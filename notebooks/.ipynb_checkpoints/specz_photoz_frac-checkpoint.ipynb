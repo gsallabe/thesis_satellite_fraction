{
 "cells": [
  {
   "cell_type": "markdown",
   "metadata": {},
   "source": [
    "# I'm making a new notebook for investigating the fraction of galaxies with photoz versus specz in the data"
   ]
  },
  {
   "cell_type": "code",
   "execution_count": 1,
   "metadata": {},
   "outputs": [],
   "source": [
    "from astropy.cosmology import FlatLambdaCDM\n",
    "from astropy.io import fits\n",
    "from astropy import units as u\n",
    "import numpy as np\n",
    "from astropy.table import Table\n",
    "import matplotlib.pyplot as plt\n",
    "import matplotlib as mpl\n",
    "from astropy.coordinates import Angle\n",
    "from astropy.coordinates import SkyCoord\n",
    "import copy\n",
    "mpl.rcParams['mathtext.fontset'] = 'stix'\n",
    "mpl.rcParams['font.family'] = 'stixgeneral'\n",
    "%matplotlib inline\n",
    "%config InlineBackend.figure_format = 'retina'"
   ]
  },
  {
   "cell_type": "code",
   "execution_count": 2,
   "metadata": {},
   "outputs": [
    {
     "data": {
      "text/html": [
       "&lt;Row index=0&gt;\n",
       "<table id=\"table4493783952\">\n",
       "<thead><tr><th>object_id</th><th>ra</th><th>dec</th><th>z_spec</th><th>z_best</th><th>z_phot</th><th>z_type</th><th>gcmodel_mag</th><th>gcmodel_mag_err</th><th>rcmodel_mag</th><th>rcmodel_mag_err</th><th>icmodel_mag</th><th>icmodel_mag_err</th><th>zcmodel_mag</th><th>zcmodel_mag_err</th><th>ycmodel_mag</th><th>ycmodel_mag_err</th><th>MSTAR</th><th>logm_10</th><th>logm_30</th><th>logm_100</th><th>logm_max</th><th>vdisp_sdss</th><th>vdisp_err_sdss</th><th>logms_gama</th><th>logms_err_gama</th><th>id_cluster_redm</th><th>p_mem_redm</th><th>z_lambda_redm</th><th>lambda_redm</th><th>p_cen_1_redm</th><th>id_camira</th><th>z_camira</th><th>n_cor_camira</th><th>logms_camira</th><th>r50_max</th><th>r50_100</th><th>logmh_peak</th><th>logmh_vir</th><th>logmh_host</th><th>ra_pdr</th><th>dec_pdr</th><th>sep_arcsec_pdr</th></tr></thead>\n",
       "<thead><tr><th>int64</th><th>float64</th><th>float64</th><th>float64</th><th>float64</th><th>float64</th><th>int64</th><th>float32</th><th>float32</th><th>float32</th><th>float32</th><th>float32</th><th>float32</th><th>float32</th><th>float32</th><th>float32</th><th>float32</th><th>float64</th><th>float64</th><th>float64</th><th>float64</th><th>float64</th><th>float64</th><th>float64</th><th>float64</th><th>float64</th><th>int32</th><th>float64</th><th>float64</th><th>float64</th><th>float64</th><th>int64</th><th>float64</th><th>float64</th><th>float64</th><th>float64</th><th>float64</th><th>float64</th><th>float64</th><th>float64</th><th>float64</th><th>float64</th><th>float64</th></tr></thead>\n",
       "<tr><td>41584100993172458</td><td>339.30221049833926</td><td>-0.5047939798739985</td><td>0.25033000111579895</td><td>0.25033000111579895</td><td>nan</td><td>1</td><td>19.598822</td><td>0.0011392573</td><td>18.23641</td><td>0.0005367848</td><td>17.667036</td><td>0.00047776435</td><td>17.3642</td><td>0.0005285235</td><td>17.17294</td><td>0.0007222131</td><td>11.41357421875</td><td>11.288285695874468</td><td>11.449909889861537</td><td>11.512434451810856</td><td>11.515238377804888</td><td>239.67552185058594</td><td>19.472776412963867</td><td>nan</td><td>nan</td><td>-9999</td><td>nan</td><td>nan</td><td>nan</td><td>nan</td><td>-9999</td><td>nan</td><td>nan</td><td>nan</td><td>6.954138891157053</td><td>6.867189000762649</td><td>12.736635497686821</td><td>12.736635497686821</td><td>12.736635497686821</td><td>339.30221049833926</td><td>-0.5047939798740074</td><td>3.2203116149818104e-11</td></tr>\n",
       "</table>"
      ],
      "text/plain": [
       "<Row index=0>\n",
       "    object_id             ra                 dec                z_spec              z_best        z_phot z_type gcmodel_mag gcmodel_mag_err rcmodel_mag rcmodel_mag_err icmodel_mag icmodel_mag_err zcmodel_mag zcmodel_mag_err ycmodel_mag ycmodel_mag_err     MSTAR           logm_10            logm_30            logm_100           logm_max          vdisp_sdss       vdisp_err_sdss   logms_gama logms_err_gama id_cluster_redm p_mem_redm z_lambda_redm lambda_redm p_cen_1_redm id_camira z_camira n_cor_camira logms_camira      r50_max           r50_100          logmh_peak         logmh_vir          logmh_host           ra_pdr             dec_pdr           sep_arcsec_pdr    \n",
       "      int64            float64             float64             float64             float64       float64 int64    float32       float32       float32       float32       float32       float32       float32       float32       float32       float32        float64          float64            float64            float64            float64            float64            float64        float64      float64          int32       float64      float64      float64     float64      int64   float64    float64      float64         float64           float64           float64            float64            float64            float64             float64              float64        \n",
       "----------------- ------------------ ------------------- ------------------- ------------------- ------- ------ ----------- --------------- ----------- --------------- ----------- --------------- ----------- --------------- ----------- --------------- -------------- ------------------ ------------------ ------------------ ------------------ ------------------ ------------------ ---------- -------------- --------------- ---------- ------------- ----------- ------------ --------- -------- ------------ ------------ ----------------- ----------------- ------------------ ------------------ ------------------ ------------------ ------------------- ----------------------\n",
       "41584100993172458 339.30221049833926 -0.5047939798739985 0.25033000111579895 0.25033000111579895     nan      1   19.598822    0.0011392573    18.23641    0.0005367848   17.667036   0.00047776435     17.3642    0.0005285235    17.17294    0.0007222131 11.41357421875 11.288285695874468 11.449909889861537 11.512434451810856 11.515238377804888 239.67552185058594 19.472776412963867        nan            nan           -9999        nan           nan         nan          nan     -9999      nan          nan          nan 6.954138891157053 6.867189000762649 12.736635497686821 12.736635497686821 12.736635497686821 339.30221049833926 -0.5047939798740074 3.2203116149818104e-11"
      ]
     },
     "execution_count": 2,
     "metadata": {},
     "output_type": "execute_result"
    }
   ],
   "source": [
    "# read in the data\n",
    "data_pth = '/Users/astro/Desktop/GitHub/satellite_fraction/data/'\n",
    "data_file = data_pth + 's16a_massive_logmMax_11.45_z_0.25_0.47_mhalo_pdr_full.fits'\n",
    "\n",
    "hdu1 = fits.open(data_file)\n",
    "pdr_data= Table(hdu1[1].data)\n",
    "pdr_data[0]"
   ]
  },
  {
   "cell_type": "code",
   "execution_count": 3,
   "metadata": {},
   "outputs": [],
   "source": [
    "# constrain by total stellar mass\n",
    "pdr_mass_cut = Table(names = pdr_data.colnames)\n",
    "for i in range(len(pdr_data)):\n",
    "    if pdr_data['logm_max'][i] > 11.5 and pdr_data['z_best'][i] > .25 and pdr_data['z_best'][i] < .45:\n",
    "        pdr_mass_cut.add_row(pdr_data[i])"
   ]
  },
  {
   "cell_type": "markdown",
   "metadata": {},
   "source": [
    "**Now comes the fun part**\n",
    "\n",
    "I have to determine how many galaxies have only a photo-z and then plot the fraction of only photo-z and spec-z against the galaxy mass. Here I need to make use of the `np.isnan` function that Marie showed me. I think I want to use a histogram method like what we did when plotting the satellite fraction. Here is the way I'm thinking:\n",
    "* 1) I will loop over the table and flag the ones with only photo-z\n",
    "* 2) I will separate the galaxies into two tables based on the flags\n",
    "* 3) Then perform histogram operation"
   ]
  },
  {
   "cell_type": "code",
   "execution_count": 4,
   "metadata": {},
   "outputs": [],
   "source": [
    "# test np.isnan\n",
    "pdr_no_specz = np.isnan(pdr_mass_cut['z_spec'])"
   ]
  },
  {
   "cell_type": "code",
   "execution_count": 5,
   "metadata": {},
   "outputs": [
    {
     "name": "stdout",
     "output_type": "stream",
     "text": [
      "Fraction of galaxies without spec-z = 0.07567567567567568\n"
     ]
    }
   ],
   "source": [
    "# now just use that to make my new tables\n",
    "pdr_photoz = Table(names = pdr_data.colnames)\n",
    "pdr_specz = Table(names = pdr_data.colnames)\n",
    "\n",
    "for i in range(len(pdr_mass_cut)):\n",
    "    if pdr_no_specz[i] == False:\n",
    "        pdr_specz.add_row(pdr_mass_cut[i])\n",
    "    else:\n",
    "        pdr_photoz.add_row(pdr_mass_cut[i])\n",
    "z_frac = len(pdr_photoz)/len(pdr_mass_cut)\n",
    "print('Fraction of galaxies without spec-z =', z_frac)"
   ]
  },
  {
   "cell_type": "code",
   "execution_count": 6,
   "metadata": {},
   "outputs": [
    {
     "data": {
      "text/plain": [
       "182"
      ]
     },
     "execution_count": 6,
     "metadata": {},
     "output_type": "execute_result"
    }
   ],
   "source": [
    "len(pdr_photoz)"
   ]
  },
  {
   "cell_type": "code",
   "execution_count": 7,
   "metadata": {},
   "outputs": [],
   "source": [
    "# place the data into histograms\n",
    "mass_bins = [11.5, 11.6, 11.7, 11.8, 11.9, 12.0, 12.1, 12.2, 12.3]\n",
    "\n",
    "specz_number, specz_edges = np.histogram(pdr_specz['logm_max'], bins = mass_bins) # specz only\n",
    "photoz_number, photoz_edges = np.histogram(pdr_photoz['logm_max'], bins = mass_bins) # photoz only\n",
    "z_tot, z_tot_edges = np.histogram(pdr_mass_cut['logm_max'], bins = mass_bins) # all gals\n",
    "\n",
    "bin_centers = (specz_edges[1:] + z_tot_edges[:-1]) / 2\n",
    "\n",
    "# the important result\n",
    "\n",
    "frac_specz = specz_number / z_tot\n",
    "\n"
   ]
  },
  {
   "cell_type": "code",
   "execution_count": 8,
   "metadata": {},
   "outputs": [
    {
     "data": {
      "image/png": "[encoded data removed]",
      "text/plain": [
       "<matplotlib.figure.Figure at 0x11254ca20>"
      ]
     },
     "metadata": {
      "image/png": {
       "height": 347,
       "width": 456
      }
     },
     "output_type": "display_data"
    }
   ],
   "source": [
    "fig = plt.figure(figsize = [7,5])\n",
    "\n",
    "ax1 = fig.add_subplot(111)\n",
    "ax1.grid(linewidth=1, linestyle='--', alpha=0.5)\n",
    "ax1.plot([np.min(pdr_mass_cut['logm_max']), np.max(pdr_mass_cut['logm_max'])], \n",
    "         [1.0,1.0], color = 'blue', ls = '--', alpha = 0.5)\n",
    "ax1.plot(bin_centers, frac_specz, color = 'k')\n",
    "ax1.set_ylim(0.7,1.01)\n",
    "ax1.set_xlim(np.min(pdr_mass_cut['logm_max']), np.max(pdr_mass_cut['logm_max']))\n",
    "ax1.set_xlabel('$\\log M_{\\star, max}$', fontsize = 20)\n",
    "ax1.set_ylabel('$f_{spec-z}$', fontsize = 20)\n",
    "ax1.set_title('Fraction of Galaxies With Spec-z by Mass', fontsize = 20)\n",
    "\n",
    "plt.savefig('specz_frac.eps', dpi = 1000)"
   ]
  },
  {
   "cell_type": "markdown",
   "metadata": {},
   "source": [
    "### The next order of business here is to find close photo-z pairs. To do this, I'm going to modify my satellite finding code below"
   ]
  },
  {
   "cell_type": "code",
   "execution_count": 9,
   "metadata": {},
   "outputs": [],
   "source": [
    "# set cosmology params\n",
    "import colossus\n",
    "from colossus.cosmology import cosmology\n",
    "params = {'flat': True , 'H0': 70.0 , 'Om0': 0.3 , 'Ob0': 0.049, 'sigma8': 0.81, 'ns': 0.95}\n",
    "h = .7\n",
    "cosmology.addCosmology('huang18',params)\n",
    "cosmology.setCosmology('huang18')\n",
    "from colossus.halo import mass_so\n",
    "\n",
    "# Now to find r_halo\n",
    "r_halo = mass_so.M_to_R((10**pdr_mass_cut['logmh_vir'])/h , pdr_mass_cut['z_best'], '200m')/h # kpc\n",
    "\n",
    "# Turn the physical radius into an angular size in degrees\n",
    "theta_per_kpc = FlatLambdaCDM(H0=70 , Om0= 0.3).arcsec_per_kpc_proper(pdr_mass_cut['z_best'])\n",
    "r_halo_deg = ((r_halo*u.kpc * theta_per_kpc).to(u.deg))/u.deg\n",
    "\n",
    "# put the array data into a new table\n",
    "pdr_mass_cut['r_halo'] = r_halo_deg\n",
    "pdr_mass_cut.sort('logm_max')\n",
    "\n",
    "# bins before reversing table\n",
    "mass_bins = [11.5, 11.6, 11.7, 11.8, 11.9, 12.0, 12.1, 12.2, 12.3]\n",
    "pdr_mass_cut.reverse() # rank order by mass"
   ]
  },
  {
   "cell_type": "code",
   "execution_count": 10,
   "metadata": {},
   "outputs": [
    {
     "name": "stdout",
     "output_type": "stream",
     "text": [
      "missing_specz\n",
      "-------------\n",
      "        False\n",
      "        False\n",
      "        False\n",
      "        False\n",
      "        False\n",
      "        False\n",
      "        False\n",
      "        False\n",
      "        False\n",
      "        False\n",
      "          ...\n",
      "        False\n",
      "         True\n",
      "        False\n",
      "        False\n",
      "        False\n",
      "        False\n",
      "         True\n",
      "        False\n",
      "        False\n",
      "        False\n",
      "         True\n",
      "Length = 2405 rows\n"
     ]
    }
   ],
   "source": [
    "# redo the isnan\n",
    "pdr_mass_cut['missing_specz'] = np.isnan(pdr_mass_cut['z_spec'])\n",
    "print(pdr_mass_cut['missing_specz'])"
   ]
  },
  {
   "cell_type": "code",
   "execution_count": 14,
   "metadata": {},
   "outputs": [],
   "source": [
    "# ---------- PDR Functions ---------------------\n",
    "\n",
    "def pdr_pair(i, table, z_lim):\n",
    "   \n",
    "    # the object we choose here is going to be a central by the way we have defined things\n",
    "    cent_gal = table[i] \n",
    "    \n",
    "    # this was a trick that song used to make a new catalog for the other objects of interest.\n",
    "    # the utility is that we don't have to loop through the whole catalog EVERY TIME\n",
    "    cat_use = copy.deepcopy(table[(table['logm_max'] < cent_gal['logm_max'])])\n",
    "    \n",
    "    \n",
    "    # find the galaxies within the delta z limit\n",
    "    dz= cat_use[np.abs(cent_gal['z_best'] - cat_use['z_best']) <= z_lim]\n",
    "    \n",
    "    if len(dz) > 0:\n",
    "        # find separation for gals within dz\n",
    "        dz['sep'] = cent_gal['coord'].separation(dz['coord']).degree \n",
    "    for i in range(len(dz)):\n",
    "        if dz['sep'][i] <= cent_gal['r_halo'] and dz['missing_specz'][i] == True and cent_gal['missing_specz'] == True:\n",
    "            table['flag'][int(dz['index'][i])] = 1\n",
    "            table['flag'][int(cent_gal['index'])] = 1\n",
    "            \n",
    "            \n",
    "            \n",
    "        if dz['sep'][i] <= cent_gal['r_halo'] and dz['missing_specz'][i] == False and cent_gal['missing_specz'] == True:\n",
    "            table['flag'][int(dz['index'][i])] = 2\n",
    "            table['flag'][int(cent_gal['index'])] = 2\n",
    "            \n",
    "        if dz['sep'][i] <= cent_gal['r_halo'] and dz['missing_specz'][i] == True and cent_gal['missing_specz'] == False:\n",
    "            table['flag'][int(dz['index'][i])] = 2\n",
    "            table['flag'][int(cent_gal['index'])] = 2\n",
    "            \n",
    "\n",
    "def run_pdr_pair(in_table, dz, bin_edges):\n",
    "\n",
    "    in_table['coord'] = SkyCoord(in_table['ra']*u.deg, in_table['dec']*u.deg) # angular coordinate of each galaxy\n",
    "\n",
    "    in_table['flag'] = np.zeros(len(in_table['logm_max'])) \n",
    "\n",
    "    in_table['index'] = np.zeros(len(in_table['logm_max']))\n",
    "    for i in range(len(in_table['index'])):\n",
    "        in_table['index'][i] = i\n",
    "        in_table['sep'] = np.zeros(len(in_table['logm_max'])) #column of angular separations\n",
    "\n",
    "    for idx in range(len(in_table)):\n",
    "        pdr_pair(idx, in_table, dz)\n",
    "    \n",
    "    in_table.remove_columns(['sep','coord'])\n",
    "\n",
    "    pair_sat = Table(names = in_table.colnames)\n",
    "    pair_cen = Table(names = in_table.colnames)\n",
    "\n",
    "    for i in range(len(in_table['flag'])):\n",
    "        if in_table['flag'][i] == 1:\n",
    "            pair_table.add_row(in_table[i])\n",
    "\n",
    "    hist_pair, edges_pair = np.histogram(pair_table['logm_max'], bins = bin_edges)\n",
    "\n",
    "    mass_center = np.log10((10**(edges_pair[1:]) + 10**(edges_pair[:-1])) / 2)\n",
    "\n",
    "\n",
    "    return(mass_center, hist_pair)\n"
   ]
  },
  {
   "cell_type": "code",
   "execution_count": 15,
   "metadata": {},
   "outputs": [],
   "source": [
    "mass_center, pairs = run_pdr_pair(pdr_mass_cut, .04, mass_bins)"
   ]
  },
  {
   "cell_type": "code",
   "execution_count": 16,
   "metadata": {},
   "outputs": [
    {
     "data": {
      "text/plain": [
       "array([4, 2, 0, 0, 0, 0, 0, 0])"
      ]
     },
     "execution_count": 16,
     "metadata": {},
     "output_type": "execute_result"
    }
   ],
   "source": [
    "pairs"
   ]
  },
  {
   "cell_type": "code",
   "execution_count": null,
   "metadata": {},
   "outputs": [],
   "source": []
  }
 ],
 "metadata": {
  "kernelspec": {
   "display_name": "Python 3",
   "language": "python",
   "name": "python3"
  },
  "language_info": {
   "codemirror_mode": {
    "name": "ipython",
    "version": 3
   },
   "file_extension": ".py",
   "mimetype": "text/x-python",
   "name": "python",
   "nbconvert_exporter": "python",
   "pygments_lexer": "ipython3",
   "version": "3.6.4"
  }
 },
 "nbformat": 4,
 "nbformat_minor": 2
}
