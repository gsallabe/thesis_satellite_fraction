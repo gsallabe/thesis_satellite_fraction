{
 "cells": [
  {
   "cell_type": "markdown",
   "metadata": {},
   "source": [
    "## Load properties of April targets"
   ]
  },
  {
   "cell_type": "code",
   "execution_count": 1,
   "metadata": {
    "collapsed": true
   },
   "outputs": [],
   "source": [
    "# imports\n",
    "from astropy.coordinates import SkyCoord\n",
    "import astropy.units as u\n",
    "from astropy.io import fits\n",
    "from astropy.table import Table\n",
    "import numpy as np\n",
    "import matplotlib.pyplot as plt\n",
    "%matplotlib inline"
   ]
  },
  {
   "cell_type": "code",
   "execution_count": 2,
   "metadata": {
    "collapsed": false,
    "scrolled": true
   },
   "outputs": [
    {
     "name": "stdout",
     "output_type": "stream",
     "text": [
      "s16a_massive_logm100_11.45_z_0.25_0.45_all.fits\r\n",
      "s16a_massive_logm100_11.45_z_0.25_0.45_photz_pair.fits\r\n",
      "s16a_massive_logm100_11.45_z_0.25_0.45_photz_pair_pdr.fits\r\n",
      "s16a_massive_logm100_11.45_z_0.25_0.47_mhalo.fits\r\n",
      "s16a_massive_logmMax_11.45_z_0.25_0.47_mhalo.fits\r\n",
      "s16a_massive_logmMax_11.45_z_0.25_0.47_mhalo_pdr_full.fits\r\n",
      "s16a_massive_logmMax_11.45_z_0.25_0.47_photz_pair_kast.fits\r\n",
      "um_smdpl_model_logms_tot_11.4.fits\r\n"
     ]
    }
   ],
   "source": [
    "# List catalogs\n",
    "! ls ../data"
   ]
  },
  {
   "cell_type": "code",
   "execution_count": 3,
   "metadata": {
    "collapsed": false
   },
   "outputs": [
    {
     "data": {
      "text/html": [
       "&lt;Table length=46&gt;\n",
       "<table id=\"table4587337808\" class=\"table-striped table-bordered table-condensed\">\n",
       "<thead><tr><th>object_id</th><th>ra</th><th>dec</th><th>z_spec</th><th>z_best</th><th>z_phot</th><th>z_type</th><th>gcmodel_mag</th><th>gcmodel_mag_err</th><th>rcmodel_mag</th><th>rcmodel_mag_err</th><th>icmodel_mag</th><th>icmodel_mag_err</th><th>zcmodel_mag</th><th>zcmodel_mag_err</th><th>ycmodel_mag</th><th>ycmodel_mag_err</th><th>MSTAR</th><th>logm_10</th><th>logm_30</th><th>logm_100</th><th>logm_max</th><th>vdisp_sdss</th><th>vdisp_err_sdss</th><th>logms_gama</th><th>logms_err_gama</th><th>id_cluster_redm</th><th>p_mem_redm</th><th>z_lambda_redm</th><th>lambda_redm</th><th>p_cen_1_redm</th><th>id_camira</th><th>z_camira</th><th>n_cor_camira</th><th>logms_camira</th><th>r50_max</th><th>r50_100</th><th>logmh_peak</th><th>logmh_vir</th><th>logmh_host</th><th>ra_pdr</th><th>dec_pdr</th><th>sep_arcsec_pdr</th></tr></thead>\n",
       "<thead><tr><th>int64</th><th>float64</th><th>float64</th><th>float64</th><th>float64</th><th>float64</th><th>int64</th><th>float32</th><th>float32</th><th>float32</th><th>float32</th><th>float32</th><th>float32</th><th>float32</th><th>float32</th><th>float32</th><th>float32</th><th>float64</th><th>float64</th><th>float64</th><th>float64</th><th>float64</th><th>float64</th><th>float64</th><th>float64</th><th>float64</th><th>int32</th><th>float64</th><th>float64</th><th>float64</th><th>float64</th><th>int64</th><th>float64</th><th>float64</th><th>float64</th><th>float64</th><th>float64</th><th>float64</th><th>float64</th><th>float64</th><th>float64</th><th>float64</th><th>float64</th></tr></thead>\n",
       "<tr><td>42050409887458522</td><td>136.033926167</td><td>0.00946156427934</td><td>nan</td><td>0.42199999094</td><td>0.42199999094</td><td>6</td><td>21.7798</td><td>0.00557045</td><td>20.0523</td><td>0.00204754</td><td>19.2794</td><td>0.00112363</td><td>18.8842</td><td>0.00113549</td><td>18.6965</td><td>0.00193175</td><td>11.3452348709</td><td>11.1684532059</td><td>11.3575644532</td><td>11.4648025341</td><td>11.5000087127</td><td>nan</td><td>nan</td><td>nan</td><td>nan</td><td>-9999</td><td>nan</td><td>nan</td><td>nan</td><td>nan</td><td>-9999</td><td>nan</td><td>nan</td><td>nan</td><td>11.3913304462</td><td>9.80682499939</td><td>13.452093249</td><td>13.452093249</td><td>13.452093249</td><td>136.033926467</td><td>0.00946164574865</td><td>0.00111753260645</td></tr>\n",
       "<tr><td>42032276535533522</td><td>130.980803519</td><td>0.387902495853</td><td>nan</td><td>0.461400002241</td><td>0.461400002241</td><td>6</td><td>21.7285</td><td>0.00428321</td><td>20.0027</td><td>0.00161226</td><td>19.1107</td><td>0.000844855</td><td>18.7488</td><td>0.00102594</td><td>18.5527</td><td>0.00149755</td><td>11.5034828186</td><td>11.2632186587</td><td>11.4338016617</td><td>11.5248673027</td><td>11.5643399552</td><td>nan</td><td>nan</td><td>nan</td><td>nan</td><td>-9999</td><td>nan</td><td>nan</td><td>nan</td><td>nan</td><td>-9999</td><td>nan</td><td>nan</td><td>nan</td><td>10.003446303</td><td>8.60180898439</td><td>13.3400473177</td><td>13.2743887956</td><td>13.2743887956</td><td>130.980803519</td><td>0.387902495996</td><td>6.87836027379e-07</td></tr>\n",
       "<tr><td>43109926779773057</td><td>134.276552973</td><td>1.52519542701</td><td>nan</td><td>0.418202012777</td><td>0.418202012777</td><td>8</td><td>21.5196</td><td>0.00531378</td><td>19.7667</td><td>0.0020656</td><td>18.9736</td><td>0.00105219</td><td>18.5409</td><td>0.00104454</td><td>18.3543</td><td>0.00173683</td><td>11.4932441711</td><td>11.2355965161</td><td>11.4391070344</td><td>11.5201233242</td><td>11.5521268584</td><td>nan</td><td>nan</td><td>nan</td><td>nan</td><td>-9999</td><td>nan</td><td>nan</td><td>nan</td><td>nan</td><td>-9999</td><td>nan</td><td>nan</td><td>nan</td><td>10.5917241485</td><td>9.43846256296</td><td>13.3573630306</td><td>13.3188977146</td><td>13.3188977146</td><td>134.276553087</td><td>1.52519566909</td><td>0.000962576561787</td></tr>\n",
       "<tr><td>43101693327466363</td><td>130.610838696</td><td>2.07124794432</td><td>nan</td><td>0.418894588947</td><td>0.418894588947</td><td>8</td><td>21.5296</td><td>0.00549084</td><td>19.7517</td><td>0.00194443</td><td>18.8249</td><td>0.00108857</td><td>18.4905</td><td>0.00124574</td><td>18.1286</td><td>0.00168969</td><td>11.5713167191</td><td>11.2193098713</td><td>11.4118088071</td><td>11.4614387884</td><td>11.4767765214</td><td>nan</td><td>nan</td><td>nan</td><td>nan</td><td>-9999</td><td>nan</td><td>nan</td><td>nan</td><td>nan</td><td>-9999</td><td>nan</td><td>nan</td><td>nan</td><td>8.74385502527</td><td>8.35964719022</td><td>13.3420276881</td><td>13.3420276881</td><td>13.3420276881</td><td>130.610838696</td><td>2.07124794473</td><td>1.7767044138e-06</td></tr>\n",
       "<tr><td>42046029020818370</td><td>134.658738465</td><td>0.817874855276</td><td>nan</td><td>0.430032759905</td><td>0.430032759905</td><td>8</td><td>21.801</td><td>0.00440871</td><td>20.1972</td><td>0.00181126</td><td>19.4787</td><td>0.00142821</td><td>19.1236</td><td>0.00139534</td><td>18.9786</td><td>0.00245185</td><td>11.2107448578</td><td>11.0784765882</td><td>11.2023269335</td><td>11.3999981648</td><td>11.4690759512</td><td>nan</td><td>nan</td><td>nan</td><td>nan</td><td>-9999</td><td>nan</td><td>nan</td><td>nan</td><td>nan</td><td>-9999</td><td>nan</td><td>nan</td><td>nan</td><td>20.9194728042</td><td>11.1680565755</td><td>13.815976001</td><td>13.815976001</td><td>13.815976001</td><td>134.658738466</td><td>0.817874860578</td><td>1.92946243859e-05</td></tr>\n",
       "<tr><td>43110618269503149</td><td>133.241567575</td><td>1.61820962728</td><td>nan</td><td>0.443770051003</td><td>0.443770051003</td><td>8</td><td>21.4271</td><td>0.00675767</td><td>19.89</td><td>0.00358885</td><td>19.0166</td><td>0.00233587</td><td>18.5629</td><td>0.00257615</td><td>18.281</td><td>0.00443429</td><td>11.4580574036</td><td>10.7702137701</td><td>11.2033256466</td><td>11.459232894</td><td>11.5467627993</td><td>nan</td><td>nan</td><td>nan</td><td>nan</td><td>-9999</td><td>nan</td><td>nan</td><td>nan</td><td>nan</td><td>-9999</td><td>nan</td><td>nan</td><td>nan</td><td>34.0685717247</td><td>26.0024978405</td><td>14.2174839442</td><td>14.0111473608</td><td>14.9170326222</td><td>133.241567578</td><td>1.618209931</td><td>0.00109340147412</td></tr>\n",
       "<tr><td>43105683352082529</td><td>132.511121144</td><td>2.19748288736</td><td>nan</td><td>0.450667887926</td><td>0.450667887926</td><td>8</td><td>21.7478</td><td>0.00451514</td><td>20.0452</td><td>0.00179486</td><td>19.2614</td><td>0.00130668</td><td>18.8788</td><td>0.00137347</td><td>18.6909</td><td>0.00220774</td><td>11.355214119</td><td>11.1366875321</td><td>11.334545392</td><td>11.4393102631</td><td>11.4666972036</td><td>nan</td><td>nan</td><td>nan</td><td>nan</td><td>-9999</td><td>nan</td><td>nan</td><td>nan</td><td>nan</td><td>-9999</td><td>nan</td><td>nan</td><td>nan</td><td>11.2359508177</td><td>10.0600730699</td><td>13.6572471299</td><td>13.6390878711</td><td>13.6390878711</td><td>132.51112113</td><td>2.19748289411</td><td>5.56928280003e-05</td></tr>\n",
       "<tr><td>42050684765371494</td><td>135.731228902</td><td>0.0704648793068</td><td>nan</td><td>0.451575309038</td><td>0.451575309038</td><td>8</td><td>20.9761</td><td>0.00300813</td><td>19.5747</td><td>0.00144137</td><td>18.815</td><td>0.00115347</td><td>18.3793</td><td>0.00111127</td><td>18.2357</td><td>0.00223975</td><td>11.4968709946</td><td>11.2723389431</td><td>11.4058190098</td><td>11.4152763091</td><td>11.4552400313</td><td>nan</td><td>nan</td><td>nan</td><td>nan</td><td>-9999</td><td>nan</td><td>nan</td><td>nan</td><td>nan</td><td>-9999</td><td>nan</td><td>nan</td><td>nan</td><td>6.60700793637</td><td>5.87218696347</td><td>12.7463227651</td><td>12.7463227651</td><td>12.7463227651</td><td>135.731228969</td><td>0.0704649471424</td><td>0.000342593765446</td></tr>\n",
       "<tr><td>42041214362474522</td><td>133.72664047</td><td>0.548827933446</td><td>nan</td><td>0.453986436129</td><td>0.453986436129</td><td>8</td><td>22.0959</td><td>0.00581075</td><td>20.337</td><td>0.00222402</td><td>19.4914</td><td>0.0013564</td><td>19.0718</td><td>0.00157267</td><td>18.8584</td><td>0.00235952</td><td>11.3595094681</td><td>11.1999856152</td><td>11.3929665687</td><td>11.5037677649</td><td>11.5806965605</td><td>nan</td><td>nan</td><td>nan</td><td>nan</td><td>-9999</td><td>nan</td><td>nan</td><td>nan</td><td>nan</td><td>-9999</td><td>nan</td><td>nan</td><td>nan</td><td>15.0624638428</td><td>10.1327298171</td><td>13.8489277132</td><td>13.8489277132</td><td>13.8489277132</td><td>133.72664047</td><td>0.548827933374</td><td>6.30210363944e-07</td></tr>\n",
       "<tr><td>43101006132699438</td><td>131.393706076</td><td>2.08728807125</td><td>nan</td><td>0.455652922392</td><td>0.455652922392</td><td>8</td><td>21.8406</td><td>0.00562392</td><td>20.1284</td><td>0.00227675</td><td>19.3119</td><td>0.00115873</td><td>18.9332</td><td>0.00151701</td><td>18.7095</td><td>0.00190257</td><td>11.3878421783</td><td>11.3136301445</td><td>11.5033639923</td><td>11.5511483619</td><td>11.5617040601</td><td>nan</td><td>nan</td><td>nan</td><td>nan</td><td>-9999</td><td>nan</td><td>nan</td><td>nan</td><td>nan</td><td>-9999</td><td>nan</td><td>nan</td><td>nan</td><td>8.76541904712</td><td>8.56446789866</td><td>12.8929289824</td><td>12.8929289824</td><td>13.2667019669</td><td>131.393706077</td><td>2.08728806849</td><td>1.09348326277e-05</td></tr>\n",
       "<tr><td>...</td><td>...</td><td>...</td><td>...</td><td>...</td><td>...</td><td>...</td><td>...</td><td>...</td><td>...</td><td>...</td><td>...</td><td>...</td><td>...</td><td>...</td><td>...</td><td>...</td><td>...</td><td>...</td><td>...</td><td>...</td><td>...</td><td>...</td><td>...</td><td>...</td><td>...</td><td>...</td><td>...</td><td>...</td><td>...</td><td>...</td><td>...</td><td>...</td><td>...</td><td>...</td><td>...</td><td>...</td><td>...</td><td>...</td><td>...</td><td>...</td><td>...</td><td>...</td></tr>\n",
       "<tr><td>69626182986924272</td><td>244.408444516</td><td>42.6371374781</td><td>nan</td><td>0.274134039879</td><td>0.274134039879</td><td>8</td><td>20.6134</td><td>0.00264335</td><td>19.1175</td><td>0.00104161</td><td>18.6106</td><td>0.00063244</td><td>18.0535</td><td>0.000879835</td><td>17.9483</td><td>0.00138086</td><td>11.2258167267</td><td>11.2199708591</td><td>11.4241874584</td><td>11.5459628568</td><td>11.6587828549</td><td>nan</td><td>nan</td><td>nan</td><td>nan</td><td>-9999</td><td>nan</td><td>nan</td><td>nan</td><td>nan</td><td>-9999</td><td>nan</td><td>nan</td><td>nan</td><td>20.6908393926</td><td>11.3227205357</td><td>13.7635028655</td><td>12.6570558529</td><td>14.2574385669</td><td>244.408444713</td><td>42.6371373669</td><td>0.000657346977059</td></tr>\n",
       "<tr><td>70412879261626057</td><td>246.919150749</td><td>43.9265965203</td><td>nan</td><td>0.32568576932</td><td>0.32568576932</td><td>8</td><td>20.6701</td><td>0.00226736</td><td>19.1434</td><td>0.000860311</td><td>18.4852</td><td>0.000575158</td><td>18.1542</td><td>0.000947629</td><td>18.0023</td><td>0.00122564</td><td>11.3593206406</td><td>11.2453829608</td><td>11.3706283632</td><td>11.4421984415</td><td>11.4625084943</td><td>nan</td><td>nan</td><td>nan</td><td>nan</td><td>-9999</td><td>nan</td><td>nan</td><td>nan</td><td>nan</td><td>-9999</td><td>nan</td><td>nan</td><td>nan</td><td>6.51362554505</td><td>5.96158661086</td><td>12.7403626895</td><td>12.730136004</td><td>12.730136004</td><td>246.919150749</td><td>43.9265965203</td><td>3.5036990371e-09</td></tr>\n",
       "<tr><td>70417951618011244</td><td>247.695440645</td><td>43.4167852424</td><td>nan</td><td>0.337761133909</td><td>0.337761133909</td><td>8</td><td>21.265</td><td>0.00397029</td><td>19.6528</td><td>0.00146047</td><td>18.9862</td><td>0.000823723</td><td>18.6716</td><td>0.00141156</td><td>18.51</td><td>0.00200501</td><td>11.2076005936</td><td>11.3118986414</td><td>11.4454422133</td><td>11.4762979385</td><td>11.4860779877</td><td>nan</td><td>nan</td><td>nan</td><td>nan</td><td>-9999</td><td>nan</td><td>nan</td><td>nan</td><td>nan</td><td>-9999</td><td>nan</td><td>nan</td><td>nan</td><td>6.56982534107</td><td>6.4498299123</td><td>12.7516639463</td><td>12.7516639463</td><td>12.7516639463</td><td>247.695440645</td><td>43.4167852424</td><td>3.43499905598e-09</td></tr>\n",
       "<tr><td>70413291578483063</td><td>246.004353306</td><td>43.8490277417</td><td>nan</td><td>0.34686717391</td><td>0.34686717391</td><td>8</td><td>19.9776</td><td>0.00265293</td><td>18.4098</td><td>0.00143368</td><td>17.5127</td><td>0.000960231</td><td>17.3921</td><td>0.0016026</td><td>17.0866</td><td>0.00260183</td><td>11.7710294724</td><td>11.0798907627</td><td>11.4066740067</td><td>11.4424182767</td><td>11.4601046847</td><td>nan</td><td>nan</td><td>nan</td><td>nan</td><td>-9999</td><td>nan</td><td>nan</td><td>nan</td><td>nan</td><td>-9999</td><td>nan</td><td>nan</td><td>nan</td><td>11.650975816</td><td>11.2355659483</td><td>13.9499751778</td><td>13.9499751778</td><td>13.9499751778</td><td>246.004353306</td><td>43.8490277417</td><td>3.48079904339e-09</td></tr>\n",
       "<tr><td>70413429017436627</td><td>245.933281246</td><td>43.8566867417</td><td>nan</td><td>0.370810389519</td><td>0.370810389519</td><td>8</td><td>21.4953</td><td>0.00524796</td><td>19.8419</td><td>0.00174507</td><td>19.1163</td><td>0.000961994</td><td>18.7574</td><td>0.00161838</td><td>18.5661</td><td>0.00262208</td><td>11.2526950836</td><td>11.075698602</td><td>11.252508309</td><td>11.4080869704</td><td>11.483039151</td><td>nan</td><td>nan</td><td>nan</td><td>nan</td><td>-9999</td><td>nan</td><td>nan</td><td>nan</td><td>nan</td><td>-9999</td><td>nan</td><td>nan</td><td>nan</td><td>18.0676032587</td><td>11.4862758283</td><td>13.7362370989</td><td>13.7362370989</td><td>13.7362370989</td><td>245.933281246</td><td>43.8566867417</td><td>3.5036990371e-09</td></tr>\n",
       "<tr><td>70412879261627992</td><td>246.900479891</td><td>43.9520625381</td><td>nan</td><td>0.407061845064</td><td>0.407061845064</td><td>8</td><td>21.0618</td><td>0.00402397</td><td>19.4532</td><td>0.00123699</td><td>18.7476</td><td>0.000943301</td><td>18.4262</td><td>0.00137062</td><td>18.2715</td><td>0.00219273</td><td>11.4082422256</td><td>11.2026973009</td><td>11.4115238378</td><td>11.5156195076</td><td>11.5460369401</td><td>nan</td><td>nan</td><td>nan</td><td>nan</td><td>-9999</td><td>nan</td><td>nan</td><td>nan</td><td>nan</td><td>-9999</td><td>nan</td><td>nan</td><td>nan</td><td>11.8928451808</td><td>10.4913360888</td><td>13.5281450783</td><td>13.5281450783</td><td>13.5281450783</td><td>246.900479891</td><td>43.9520625381</td><td>3.5036990371e-09</td></tr>\n",
       "<tr><td>69626320425873393</td><td>244.206634021</td><td>42.56913353</td><td>nan</td><td>0.433170855045</td><td>0.433170855045</td><td>8</td><td>21.2827</td><td>0.00467639</td><td>19.6119</td><td>0.00161491</td><td>18.8227</td><td>0.000775385</td><td>18.4649</td><td>0.00131132</td><td>18.2781</td><td>0.00201558</td><td>11.5074005127</td><td>11.2869938814</td><td>11.4526999586</td><td>11.5413606856</td><td>11.5654615218</td><td>nan</td><td>nan</td><td>nan</td><td>nan</td><td>-9999</td><td>nan</td><td>nan</td><td>nan</td><td>nan</td><td>-9999</td><td>nan</td><td>nan</td><td>nan</td><td>9.07925602234</td><td>8.23555368716</td><td>13.5154764414</td><td>13.5154764414</td><td>13.5154764414</td><td>244.206633739</td><td>42.5691332073</td><td>0.00138195723129</td></tr>\n",
       "<tr><td>70412862081760001</td><td>246.909302511</td><td>43.1733211021</td><td>nan</td><td>0.438495248556</td><td>0.438495248556</td><td>8</td><td>20.6816</td><td>0.00313262</td><td>19.1725</td><td>0.00158844</td><td>18.1858</td><td>0.00101121</td><td>17.9504</td><td>0.00172924</td><td>17.6717</td><td>0.00307824</td><td>11.7090806961</td><td>11.0210978724</td><td>11.3753837229</td><td>11.4179267314</td><td>11.5052117984</td><td>nan</td><td>nan</td><td>nan</td><td>nan</td><td>-9999</td><td>nan</td><td>nan</td><td>nan</td><td>nan</td><td>-9999</td><td>nan</td><td>nan</td><td>nan</td><td>14.86676012</td><td>12.2439250689</td><td>13.4563660331</td><td>13.1804126328</td><td>14.9844823064</td><td>246.909302511</td><td>43.1733211021</td><td>3.41209906227e-09</td></tr>\n",
       "<tr><td>69626320425872434</td><td>244.208786322</td><td>42.552381265</td><td>nan</td><td>0.451811313629</td><td>0.451811313629</td><td>8</td><td>21.7145</td><td>0.00517315</td><td>19.9907</td><td>0.00170846</td><td>19.1669</td><td>0.000909506</td><td>18.7941</td><td>0.00165557</td><td>18.6207</td><td>0.00273081</td><td>11.448805809</td><td>11.292200196</td><td>11.4147524815</td><td>11.4576569434</td><td>11.4614910081</td><td>nan</td><td>nan</td><td>nan</td><td>nan</td><td>-9999</td><td>nan</td><td>nan</td><td>nan</td><td>nan</td><td>-9999</td><td>nan</td><td>nan</td><td>nan</td><td>6.47001454029</td><td>6.3927048632</td><td>12.7463227651</td><td>12.7463227651</td><td>12.7463227651</td><td>244.208786085</td><td>42.5523809611</td><td>0.0012618530484</td></tr>\n",
       "<tr><td>69626049842932041</td><td>244.760183324</td><td>42.7263407927</td><td>nan</td><td>0.460948914289</td><td>0.460948914289</td><td>8</td><td>21.6329</td><td>0.00657692</td><td>19.9078</td><td>0.00218751</td><td>19.0543</td><td>0.00132644</td><td>18.6833</td><td>0.00207954</td><td>18.4834</td><td>0.00312292</td><td>11.5174427032</td><td>11.2855509841</td><td>11.4587620241</td><td>11.5528258055</td><td>11.5650753811</td><td>nan</td><td>nan</td><td>nan</td><td>nan</td><td>-9999</td><td>nan</td><td>nan</td><td>nan</td><td>nan</td><td>-9999</td><td>nan</td><td>nan</td><td>nan</td><td>9.16324246917</td><td>8.72623187036</td><td>13.4034637013</td><td>13.4034637013</td><td>13.4034637013</td><td>244.760183247</td><td>42.7263407274</td><td>0.000311096168903</td></tr>\n",
       "</table>"
      ],
      "text/plain": [
       "<Table length=46>\n",
       "    object_id           ra      ...     dec_pdr        sep_arcsec_pdr \n",
       "      int64          float64    ...     float64           float64     \n",
       "----------------- ------------- ... ---------------- -----------------\n",
       "42050409887458522 136.033926167 ... 0.00946164574865  0.00111753260645\n",
       "42032276535533522 130.980803519 ...   0.387902495996 6.87836027379e-07\n",
       "43109926779773057 134.276552973 ...    1.52519566909 0.000962576561787\n",
       "43101693327466363 130.610838696 ...    2.07124794473  1.7767044138e-06\n",
       "42046029020818370 134.658738465 ...   0.817874860578 1.92946243859e-05\n",
       "43110618269503149 133.241567575 ...      1.618209931  0.00109340147412\n",
       "43105683352082529 132.511121144 ...    2.19748289411 5.56928280003e-05\n",
       "42050684765371494 135.731228902 ...  0.0704649471424 0.000342593765446\n",
       "42041214362474522  133.72664047 ...   0.548827933374 6.30210363944e-07\n",
       "43101006132699438 131.393706076 ...    2.08728806849 1.09348326277e-05\n",
       "              ...           ... ...              ...               ...\n",
       "69626182986924272 244.408444516 ...    42.6371373669 0.000657346977059\n",
       "70412879261626057 246.919150749 ...    43.9265965203  3.5036990371e-09\n",
       "70417951618011244 247.695440645 ...    43.4167852424 3.43499905598e-09\n",
       "70413291578483063 246.004353306 ...    43.8490277417 3.48079904339e-09\n",
       "70413429017436627 245.933281246 ...    43.8566867417  3.5036990371e-09\n",
       "70412879261627992 246.900479891 ...    43.9520625381  3.5036990371e-09\n",
       "69626320425873393 244.206634021 ...    42.5691332073  0.00138195723129\n",
       "70412862081760001 246.909302511 ...    43.1733211021 3.41209906227e-09\n",
       "69626320425872434 244.208786322 ...    42.5523809611   0.0012618530484\n",
       "69626049842932041 244.760183324 ...    42.7263407274 0.000311096168903"
      ]
     },
     "execution_count": 3,
     "metadata": {},
     "output_type": "execute_result"
    }
   ],
   "source": [
    "# Load target list\n",
    "hdulist = fits.open('../data/s16a_massive_logmMax_11.45_z_0.25_0.47_photz_pair_kast.fits')\n",
    "photz_pair_pdr = Table(hdulist[1].data)\n",
    "photz_pair_pdr"
   ]
  },
  {
   "cell_type": "code",
   "execution_count": 4,
   "metadata": {
    "collapsed": false,
    "scrolled": true
   },
   "outputs": [
    {
     "data": {
      "text/html": [
       "&lt;Table length=10&gt;\n",
       "<table id=\"table4587470544\" class=\"table-striped table-bordered table-condensed\">\n",
       "<thead><tr><th>ra</th><th>dec</th><th>z_phot</th><th>logm_100</th><th>gcmodel_mag</th><th>rcmodel_mag</th></tr></thead>\n",
       "<thead><tr><th>float64</th><th>float64</th><th>float64</th><th>float64</th><th>float32</th><th>float32</th></tr></thead>\n",
       "<tr><td>134.276552973</td><td>1.52519542701</td><td>0.418202012777</td><td>11.5201233242</td><td>21.5196</td><td>19.7667</td></tr>\n",
       "<tr><td>177.450819598</td><td>-0.364884544516</td><td>0.430099993944</td><td>11.5258449682</td><td>22.0104</td><td>20.3826</td></tr>\n",
       "<tr><td>180.943788081</td><td>-0.107843008733</td><td>0.416589170694</td><td>11.5941513055</td><td>22.0039</td><td>20.2213</td></tr>\n",
       "<tr><td>217.889927539</td><td>-0.753110175608</td><td>0.434587538242</td><td>11.5722126742</td><td>22.0773</td><td>20.27</td></tr>\n",
       "<tr><td>246.508520601</td><td>43.6982667512</td><td>0.259600013494</td><td>11.6072814544</td><td>19.7633</td><td>18.3714</td></tr>\n",
       "<tr><td>247.123133594</td><td>43.2487928028</td><td>0.380199998617</td><td>11.5012583192</td><td>20.5987</td><td>18.9418</td></tr>\n",
       "<tr><td>246.351531274</td><td>43.6363820747</td><td>0.396800011396</td><td>11.562584142</td><td>21.3033</td><td>19.5793</td></tr>\n",
       "<tr><td>244.408444516</td><td>42.6371374781</td><td>0.274134039879</td><td>11.5459628568</td><td>20.6134</td><td>19.1175</td></tr>\n",
       "<tr><td>246.900479891</td><td>43.9520625381</td><td>0.407061845064</td><td>11.5156195076</td><td>21.0618</td><td>19.4532</td></tr>\n",
       "<tr><td>244.206634021</td><td>42.56913353</td><td>0.433170855045</td><td>11.5413606856</td><td>21.2827</td><td>19.6119</td></tr>\n",
       "</table>"
      ],
      "text/plain": [
       "<Table length=10>\n",
       "      ra            dec           z_phot     ... gcmodel_mag rcmodel_mag\n",
       "   float64        float64        float64     ...   float32     float32  \n",
       "------------- --------------- -------------- ... ----------- -----------\n",
       "134.276552973   1.52519542701 0.418202012777 ...     21.5196     19.7667\n",
       "177.450819598 -0.364884544516 0.430099993944 ...     22.0104     20.3826\n",
       "180.943788081 -0.107843008733 0.416589170694 ...     22.0039     20.2213\n",
       "217.889927539 -0.753110175608 0.434587538242 ...     22.0773       20.27\n",
       "246.508520601   43.6982667512 0.259600013494 ...     19.7633     18.3714\n",
       "247.123133594   43.2487928028 0.380199998617 ...     20.5987     18.9418\n",
       "246.351531274   43.6363820747 0.396800011396 ...     21.3033     19.5793\n",
       "244.408444516   42.6371374781 0.274134039879 ...     20.6134     19.1175\n",
       "246.900479891   43.9520625381 0.407061845064 ...     21.0618     19.4532\n",
       "244.206634021     42.56913353 0.433170855045 ...     21.2827     19.6119"
      ]
     },
     "execution_count": 4,
     "metadata": {},
     "output_type": "execute_result"
    }
   ],
   "source": [
    "# Select first priority targets\n",
    "prior1 = np.where((photz_pair_pdr['z_phot'] < 0.45) & (photz_pair_pdr['logm_100'] > 11.5))\n",
    "photz_pair_pdr['ra','dec','z_phot','logm_100','gcmodel_mag','rcmodel_mag'][prior1]"
   ]
  },
  {
   "cell_type": "code",
   "execution_count": 11,
   "metadata": {
    "collapsed": false
   },
   "outputs": [
    {
     "data": {
      "text/plain": [
       "[u'08h57m06.3727s +01d31m30.7035s',\n",
       " u'11h49m48.1967s -00d21m53.5844s',\n",
       " u'12h03m46.5091s -00d06m28.2348s',\n",
       " u'14h31m33.5826s -00d45m11.1966s',\n",
       " u'16h26m02.0449s +43d41m53.7603s',\n",
       " u'16h28m29.5521s +43d14m55.6541s',\n",
       " u'16h25m24.3675s +43d38m10.9755s',\n",
       " u'16h17m38.0267s +42d38m13.6949s',\n",
       " u'16h27m36.1152s +43d57m07.4251s',\n",
       " u'16h16m49.5922s +42d34m08.8807s']"
      ]
     },
     "execution_count": 11,
     "metadata": {},
     "output_type": "execute_result"
    }
   ],
   "source": [
    "# Print coordinates in better formats\n",
    "SkyCoord(photz_pair_pdr['ra'][prior1]*u.deg,photz_pair_pdr['dec'][prior1]*u.deg).to_string('hmsdms')"
   ]
  },
  {
   "cell_type": "markdown",
   "metadata": {},
   "source": [
    "## J1617 is discarded. Near a bright star. "
   ]
  },
  {
   "cell_type": "code",
   "execution_count": 17,
   "metadata": {
    "collapsed": false
   },
   "outputs": [
    {
     "data": {
      "text/html": [
       "&lt;Table length=6&gt;\n",
       "<table id=\"table4579820176\" class=\"table-striped table-bordered table-condensed\">\n",
       "<thead><tr><th>ra</th><th>dec</th><th>z_phot</th><th>logm_100</th><th>rcmodel_mag</th></tr></thead>\n",
       "<thead><tr><th>float64</th><th>float64</th><th>float64</th><th>float64</th><th>float32</th></tr></thead>\n",
       "<tr><td>136.033926167</td><td>0.00946156427934</td><td>0.42199999094</td><td>11.4648025341</td><td>20.0523</td></tr>\n",
       "<tr><td>133.241567575</td><td>1.61820962728</td><td>0.443770051003</td><td>11.459232894</td><td>19.89</td></tr>\n",
       "<tr><td>178.79653754</td><td>-0.524059496654</td><td>0.332009375095</td><td>11.4678010303</td><td>19.0606</td></tr>\n",
       "<tr><td>247.825092021</td><td>43.036571882</td><td>0.411900013685</td><td>11.4902656669</td><td>20.0475</td></tr>\n",
       "<tr><td>245.496233276</td><td>43.2124343023</td><td>0.440400004387</td><td>11.493754301</td><td>20.173</td></tr>\n",
       "<tr><td>246.909302511</td><td>43.1733211021</td><td>0.438495248556</td><td>11.4179267314</td><td>19.1725</td></tr>\n",
       "</table>"
      ],
      "text/plain": [
       "<Table length=6>\n",
       "      ra            dec            z_phot        logm_100   rcmodel_mag\n",
       "   float64        float64         float64        float64      float32  \n",
       "------------- ---------------- -------------- ------------- -----------\n",
       "136.033926167 0.00946156427934  0.42199999094 11.4648025341     20.0523\n",
       "133.241567575    1.61820962728 0.443770051003  11.459232894       19.89\n",
       " 178.79653754  -0.524059496654 0.332009375095 11.4678010303     19.0606\n",
       "247.825092021     43.036571882 0.411900013685 11.4902656669     20.0475\n",
       "245.496233276    43.2124343023 0.440400004387  11.493754301      20.173\n",
       "246.909302511    43.1733211021 0.438495248556 11.4179267314     19.1725"
      ]
     },
     "execution_count": 17,
     "metadata": {},
     "output_type": "execute_result"
    }
   ],
   "source": [
    "# Try relaxing the mass criterion\n",
    "prior2 = np.where((photz_pair_pdr['z_phot'] < 0.45) & (photz_pair_pdr['logm_max'] > 11.5) & \n",
    "                  (photz_pair_pdr['logm_100'] <= 11.5))\n",
    "photz_pair_pdr['ra','dec','z_phot','logm_100','rcmodel_mag'][prior2]"
   ]
  },
  {
   "cell_type": "code",
   "execution_count": 18,
   "metadata": {
    "collapsed": false
   },
   "outputs": [
    {
     "data": {
      "text/plain": [
       "[u'09h04m08.1423s +00d00m34.0616s',\n",
       " u'08h52m57.9762s +01d37m05.5547s',\n",
       " u'11h55m11.169s -00d31m26.6142s',\n",
       " u'16h31m18.0221s +43d02m11.6588s',\n",
       " u'16h21m59.096s +43d12m44.7635s',\n",
       " u'16h27m38.2326s +43d10m23.956s']"
      ]
     },
     "execution_count": 18,
     "metadata": {},
     "output_type": "execute_result"
    }
   ],
   "source": [
    "# Print coordinates in better formats\n",
    "SkyCoord(photz_pair_pdr['ra'][prior2]*u.deg,photz_pair_pdr['dec'][prior2]*u.deg).to_string('hmsdms')"
   ]
  },
  {
   "cell_type": "code",
   "execution_count": null,
   "metadata": {
    "collapsed": true
   },
   "outputs": [],
   "source": []
  }
 ],
 "metadata": {
  "kernelspec": {
   "display_name": "Python 2",
   "language": "python",
   "name": "python2"
  },
  "language_info": {
   "codemirror_mode": {
    "name": "ipython",
    "version": 2
   },
   "file_extension": ".py",
   "mimetype": "text/x-python",
   "name": "python",
   "nbconvert_exporter": "python",
   "pygments_lexer": "ipython2",
   "version": "2.7.12"
  }
 },
 "nbformat": 4,
 "nbformat_minor": 0
}
