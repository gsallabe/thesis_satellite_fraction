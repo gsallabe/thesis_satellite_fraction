{
 "cells": [
  {
   "cell_type": "markdown",
   "metadata": {},
   "source": [
    "# I'm making a new notebook for investigating the fraction of galaxies with photoz versus specz in the data"
   ]
  },
  {
   "cell_type": "code",
   "execution_count": 44,
   "metadata": {},
   "outputs": [],
   "source": [
    "from astropy.cosmology import FlatLambdaCDM\n",
    "from astropy.io import fits\n",
    "from astropy import units as u\n",
    "import numpy as np\n",
    "from astropy.table import Table\n",
    "import matplotlib.pyplot as plt\n",
    "import matplotlib as mpl\n",
    "mpl.rcParams['mathtext.fontset'] = 'stix'\n",
    "mpl.rcParams['font.family'] = 'stixgeneral'\n",
    "%matplotlib inline"
   ]
  },
  {
   "cell_type": "code",
   "execution_count": 45,
   "metadata": {},
   "outputs": [
    {
     "data": {
      "text/html": [
       "&lt;Row index=0&gt;\n",
       "<table id=\"table103413480976\">\n",
       "<thead><tr><th>object_id</th><th>ra</th><th>dec</th><th>z_spec</th><th>z_best</th><th>z_phot</th><th>z_type</th><th>gcmodel_mag</th><th>gcmodel_mag_err</th><th>rcmodel_mag</th><th>rcmodel_mag_err</th><th>icmodel_mag</th><th>icmodel_mag_err</th><th>zcmodel_mag</th><th>zcmodel_mag_err</th><th>ycmodel_mag</th><th>ycmodel_mag_err</th><th>MSTAR</th><th>logm_10</th><th>logm_30</th><th>logm_100</th><th>logm_max</th><th>vdisp_sdss</th><th>vdisp_err_sdss</th><th>logms_gama</th><th>logms_err_gama</th><th>id_cluster_redm</th><th>p_mem_redm</th><th>z_lambda_redm</th><th>lambda_redm</th><th>p_cen_1_redm</th><th>id_camira</th><th>z_camira</th><th>n_cor_camira</th><th>logms_camira</th><th>r50_max</th><th>r50_100</th><th>logmh_peak</th><th>logmh_vir</th><th>logmh_host</th><th>ra_pdr</th><th>dec_pdr</th><th>sep_arcsec_pdr</th></tr></thead>\n",
       "<thead><tr><th>int64</th><th>float64</th><th>float64</th><th>float64</th><th>float64</th><th>float64</th><th>int64</th><th>float32</th><th>float32</th><th>float32</th><th>float32</th><th>float32</th><th>float32</th><th>float32</th><th>float32</th><th>float32</th><th>float32</th><th>float64</th><th>float64</th><th>float64</th><th>float64</th><th>float64</th><th>float64</th><th>float64</th><th>float64</th><th>float64</th><th>int32</th><th>float64</th><th>float64</th><th>float64</th><th>float64</th><th>int64</th><th>float64</th><th>float64</th><th>float64</th><th>float64</th><th>float64</th><th>float64</th><th>float64</th><th>float64</th><th>float64</th><th>float64</th><th>float64</th></tr></thead>\n",
       "<tr><td>41584100993172458</td><td>339.30221049833926</td><td>-0.5047939798739985</td><td>0.25033000111579895</td><td>0.25033000111579895</td><td>nan</td><td>1</td><td>19.598822</td><td>0.0011392573</td><td>18.23641</td><td>0.0005367848</td><td>17.667036</td><td>0.00047776435</td><td>17.3642</td><td>0.0005285235</td><td>17.17294</td><td>0.0007222131</td><td>11.41357421875</td><td>11.288285695874468</td><td>11.449909889861537</td><td>11.512434451810856</td><td>11.515238377804888</td><td>239.67552185058594</td><td>19.472776412963867</td><td>nan</td><td>nan</td><td>-9999</td><td>nan</td><td>nan</td><td>nan</td><td>nan</td><td>-9999</td><td>nan</td><td>nan</td><td>nan</td><td>6.954138891157053</td><td>6.867189000762649</td><td>12.736635497686821</td><td>12.736635497686821</td><td>12.736635497686821</td><td>339.30221049833926</td><td>-0.5047939798740074</td><td>3.2203116149818104e-11</td></tr>\n",
       "</table>"
      ],
      "text/plain": [
       "<Row index=0>\n",
       "    object_id             ra                 dec                z_spec              z_best        z_phot z_type gcmodel_mag gcmodel_mag_err rcmodel_mag rcmodel_mag_err icmodel_mag icmodel_mag_err zcmodel_mag zcmodel_mag_err ycmodel_mag ycmodel_mag_err     MSTAR           logm_10            logm_30            logm_100           logm_max          vdisp_sdss       vdisp_err_sdss   logms_gama logms_err_gama id_cluster_redm p_mem_redm z_lambda_redm lambda_redm p_cen_1_redm id_camira z_camira n_cor_camira logms_camira      r50_max           r50_100          logmh_peak         logmh_vir          logmh_host           ra_pdr             dec_pdr           sep_arcsec_pdr    \n",
       "      int64            float64             float64             float64             float64       float64 int64    float32       float32       float32       float32       float32       float32       float32       float32       float32       float32        float64          float64            float64            float64            float64            float64            float64        float64      float64          int32       float64      float64      float64     float64      int64   float64    float64      float64         float64           float64           float64            float64            float64            float64             float64              float64        \n",
       "----------------- ------------------ ------------------- ------------------- ------------------- ------- ------ ----------- --------------- ----------- --------------- ----------- --------------- ----------- --------------- ----------- --------------- -------------- ------------------ ------------------ ------------------ ------------------ ------------------ ------------------ ---------- -------------- --------------- ---------- ------------- ----------- ------------ --------- -------- ------------ ------------ ----------------- ----------------- ------------------ ------------------ ------------------ ------------------ ------------------- ----------------------\n",
       "41584100993172458 339.30221049833926 -0.5047939798739985 0.25033000111579895 0.25033000111579895     nan      1   19.598822    0.0011392573    18.23641    0.0005367848   17.667036   0.00047776435     17.3642    0.0005285235    17.17294    0.0007222131 11.41357421875 11.288285695874468 11.449909889861537 11.512434451810856 11.515238377804888 239.67552185058594 19.472776412963867        nan            nan           -9999        nan           nan         nan          nan     -9999      nan          nan          nan 6.954138891157053 6.867189000762649 12.736635497686821 12.736635497686821 12.736635497686821 339.30221049833926 -0.5047939798740074 3.2203116149818104e-11"
      ]
     },
     "execution_count": 45,
     "metadata": {},
     "output_type": "execute_result"
    }
   ],
   "source": [
    "# read in the data\n",
    "data_pth = '/Users/astro/Desktop/GitHub/satellite_fraction/data/'\n",
    "data_file = data_pth + 's16a_massive_logmMax_11.45_z_0.25_0.47_mhalo_pdr_full.fits'\n",
    "\n",
    "hdu1 = fits.open(data_file)\n",
    "pdr_data= Table(hdu1[1].data)\n",
    "pdr_data[0]"
   ]
  },
  {
   "cell_type": "code",
   "execution_count": 46,
   "metadata": {},
   "outputs": [],
   "source": [
    "# constrain by total stellar mass\n",
    "pdr_mass_cut = Table(names = pdr_data.colnames)\n",
    "for i in range(len(pdr_data)):\n",
    "    if pdr_data['logm_max'][i] > 11.5:\n",
    "        pdr_mass_cut.add_row(pdr_data[i])"
   ]
  },
  {
   "cell_type": "markdown",
   "metadata": {},
   "source": [
    "**Now comes the fun part**\n",
    "\n",
    "I have to determine how many galaxies have only a photo-z and then plot the fraction of only photo-z and spec-z against the galaxy mass. Here I need to make use of the `np.isnan` function that Marie showed me. I think I want to use a histogram method like what we did when plotting the satellite fraction. Here is the way I'm thinking:\n",
    "* 1) I will loop over the table and flag the ones with only photo-z\n",
    "* 2) I will separate the galaxies into two tables based on the flags\n",
    "* 3) Then perform histogram operation"
   ]
  },
  {
   "cell_type": "code",
   "execution_count": 47,
   "metadata": {},
   "outputs": [],
   "source": [
    "# test np.isnan\n",
    "pdr_no_specz = np.isnan(pdr_mass_cut['z_spec'])"
   ]
  },
  {
   "cell_type": "code",
   "execution_count": 48,
   "metadata": {},
   "outputs": [
    {
     "name": "stdout",
     "output_type": "stream",
     "text": [
      "Fraction of galaxies without spec-z = 0.09397303727200634\n"
     ]
    }
   ],
   "source": [
    "# now just use that to make my new tables\n",
    "pdr_photoz = Table(names = pdr_data.colnames)\n",
    "pdr_specz = Table(names = pdr_data.colnames)\n",
    "\n",
    "for i in range(len(pdr_mass_cut)):\n",
    "    if pdr_no_specz[i] == False:\n",
    "        pdr_specz.add_row(pdr_mass_cut[i])\n",
    "    else:\n",
    "        pdr_photoz.add_row(pdr_mass_cut[i])\n",
    "z_frac = len(pdr_photoz)/len(pdr_specz)\n",
    "print('Fraction of galaxies without spec-z =', z_frac)"
   ]
  },
  {
   "cell_type": "code",
   "execution_count": 57,
   "metadata": {},
   "outputs": [],
   "source": [
    "# place the data into histograms\n",
    "\n",
    "specz_number, specz_edges = np.histogram(pdr_specz['logm_max'], bins = 12) # specz only\n",
    "photoz_number, photoz_edges = np.histogram(pdr_photoz['logm_max'], bins = 12) # photoz only\n",
    "z_tot, z_tot_edges = np.histogram(pdr_mass_cut['logm_max'], bins = 12) # all gals\n",
    "\n",
    "bin_centers = (specz_edges[1:] + z_tot_edges[:-1]) / 2\n",
    "\n",
    "# the important result\n",
    "\n",
    "frac_specz = specz_number / z_tot\n",
    "\n"
   ]
  },
  {
   "cell_type": "code",
   "execution_count": 58,
   "metadata": {},
   "outputs": [
    {
     "data": {
      "text/plain": [
       "Text(0.5,1,'Fraction of Galaxies With Spec-z by Mass')"
      ]
     },
     "execution_count": 58,
     "metadata": {},
     "output_type": "execute_result"
    },
    {
     "data": {
      "image/png": "[encoded data removed]",
      "text/plain": [
       "<matplotlib.figure.Figure at 0x1813864780>"
      ]
     },
     "metadata": {},
     "output_type": "display_data"
    }
   ],
   "source": [
    "fig = plt.figure(figsize = [7,5])\n",
    "\n",
    "ax1 = fig.add_subplot(111)\n",
    "ax1.grid(linewidth=1, linestyle='--', alpha=0.5)\n",
    "ax1.plot([np.min(pdr_mass_cut['logm_max']), np.max(pdr_mass_cut['logm_max'])], \n",
    "         [1.0,1.0], color = 'red', ls = '--', alpha = 0.5)\n",
    "ax1.plot(bin_centers, frac_specz, color = 'k')\n",
    "ax1.set_ylim(0.7,1.05)\n",
    "ax1.set_xlim(np.min(pdr_mass_cut['logm_max']), np.max(pdr_mass_cut['logm_max']))\n",
    "ax1.set_xlabel('$\\log M_{\\star, max}$', fontsize = 20)\n",
    "ax1.set_ylabel('$f_{spec-z}$', fontsize = 20)\n",
    "ax1.set_title('Fraction of Galaxies With Spec-z by Mass', fontsize = 20)"
   ]
  },
  {
   "cell_type": "code",
   "execution_count": null,
   "metadata": {},
   "outputs": [],
   "source": []
  },
  {
   "cell_type": "code",
   "execution_count": null,
   "metadata": {},
   "outputs": [],
   "source": []
  }
 ],
 "metadata": {
  "kernelspec": {
   "display_name": "Python 3",
   "language": "python",
   "name": "python3"
  },
  "language_info": {
   "codemirror_mode": {
    "name": "ipython",
    "version": 3
   },
   "file_extension": ".py",
   "mimetype": "text/x-python",
   "name": "python",
   "nbconvert_exporter": "python",
   "pygments_lexer": "ipython3",
   "version": "3.6.4"
  }
 },
 "nbformat": 4,
 "nbformat_minor": 2
}
