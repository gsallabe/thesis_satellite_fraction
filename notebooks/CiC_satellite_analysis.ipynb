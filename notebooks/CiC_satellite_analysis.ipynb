{
 "cells": [
  {
   "cell_type": "markdown",
   "metadata": {},
   "source": [
    "## Fresh notebook for using `halotools` on PDR catalog "
   ]
  },
  {
   "cell_type": "code",
   "execution_count": 1,
   "metadata": {},
   "outputs": [],
   "source": [
    "from astropy.cosmology import FlatLambdaCDM\n",
    "from astropy.io import fits\n",
    "from astropy import units as u\n",
    "import numpy as np\n",
    "from astropy.table import Table\n",
    "import matplotlib.pyplot as plt\n",
    "import matplotlib as mpl\n",
    "mpl.rcParams['mathtext.fontset'] = 'stix'\n",
    "mpl.rcParams['font.family'] = 'stixgeneral'\n",
    "%matplotlib inline\n",
    "#matplotlib.matplotlib_fname()\n",
    "#import linetools.utils as ltu\n",
    "from astropy.coordinates import Angle\n",
    "from astropy.coordinates import SkyCoord\n",
    "import copy\n",
    "from colossus.halo import profile_nfw\n",
    "%config InlineBackend.figure_format = 'retina'"
   ]
  },
  {
   "cell_type": "code",
   "execution_count": 44,
   "metadata": {},
   "outputs": [],
   "source": [
    "# read in the data\n",
    "data_pth = '/Users/astro/Desktop/GitHub/satellite_fraction/data/'\n",
    "data_file = data_pth + 's16a_massive_logmMax_11.45_z_0.25_0.47_mhalo.fits'\n",
    "\n",
    "hdu1 = fits.open(data_file)\n",
    "data_table = Table(hdu1[1].data)\n",
    "\n",
    "# set cosmology params\n",
    "import colossus\n",
    "from colossus.cosmology import cosmology\n",
    "params = {'flat': True , 'H0': 70.0 , 'Om0': 0.3 , 'Ob0': 0.049, 'sigma8': 0.81, 'ns': 0.95}\n",
    "h = .7\n",
    "cosmology.addCosmology('huang18',params)\n",
    "cosmology.setCosmology('huang18')\n",
    "from colossus.halo import mass_so\n",
    "\n",
    "# cut the table\n",
    "pdr_use = Table(names = data_table.colnames)\n",
    "\n",
    "for i in range(len(np.array(data_table['logm_max']))):\n",
    "    if data_table['logm_max'][i] > 11.5 and data_table['z_best'][i] > .25 and data_table['z_best'][i] < .45:\n",
    "        pdr_use.add_row(data_table[i])\n",
    "        \n",
    "# get rid of two bad galaxies\n",
    "pdr_use.remove_row(np.where(pdr_use['ra'] == 33.121181211450285)[0][0])\n",
    "pdr_use.remove_row(np.where(pdr_use['ra'] == 333.7062012551158)[0][0])\n",
    "\n",
    "# define mass bin edges\n",
    "mass_bins = [11.5,11.6,11.7,11.8,11.9,12.0,12.2,np.max(pdr_use['logm_max'])]\n"
   ]
  },
  {
   "cell_type": "markdown",
   "metadata": {},
   "source": [
    "### Now try getting he PDR data curve. `halotools` doesn't like our coordinates (ra, dec, z), so I'll write my own (similar) function"
   ]
  },
  {
   "cell_type": "code",
   "execution_count": 48,
   "metadata": {},
   "outputs": [],
   "source": [
    "def pdr_pairs(i, j, in_table, z_lim): \n",
    "    \n",
    "    # the object we choose here is going to be a central by the way we have defined things\n",
    "    cent_gal = in_table[i] \n",
    "    \n",
    "    # this was a trick that song used to make a new catalog for the other objects of interest.\n",
    "    # the utility is that we don't have to loop through the whole catalog EVERY TIME\n",
    "    cat_use = copy.deepcopy(pdr_use[(pdr_use['logm_max'] > mass_bins[j+1])])\n",
    "    \n",
    "    \n",
    "    # find the galaxies within the delta z limit\n",
    "    dz = cat_use[np.abs(cent_gal['z_best'] - cat_use['z_best']) <= z_lim]\n",
    "    \n",
    "    pair_index = [] # list of indices of objects within cylinder\n",
    "    \n",
    "    if len(dz) > 0:\n",
    "        # find separation for gals within dz\n",
    "        dz['sep'] = SkyCoord(cent_gal['ra']*u.deg, cent_gal['dec']*u.deg).separation(SkyCoord(dz['ra']*u.deg, dz['dec']*u.deg)).degree \n",
    "    for i in range(len(dz)):\n",
    "        if dz['sep'][i] <= cent_gal['r_vir']:\n",
    "            pair_index.append(dz['index'][i])\n",
    "            \n",
    "    num_pairs = len(pair_index)\n",
    "    \n",
    "    return(num_pairs) # need the normalization factor for later. Length of the threshold sample\n",
    "\n"
   ]
  },
  {
   "cell_type": "code",
   "execution_count": 49,
   "metadata": {},
   "outputs": [],
   "source": [
    "# useful quantities\n",
    "pdr_use['index'] = np.zeros(len(pdr_use['logm_max']))\n",
    "for i in range(len(pdr_use['index'])):\n",
    "    pdr_use['index'][i] = i\n",
    "\n",
    "# Now to find r_halo\n",
    "r_halo = mass_so.M_to_R((10**pdr_use['logmh_vir'])*h , pdr_use['z_best'], 'vir')/h #kpc\n",
    "\n",
    "# Turn the physical radius into an angular size in degrees\n",
    "theta_per_kpc = FlatLambdaCDM(H0=70 , Om0= 0.3).arcsec_per_kpc_proper(pdr_use['z_best'])\n",
    "pdr_use['r_vir'] = ((r_halo*u.kpc * theta_per_kpc).to(u.deg))/u.deg"
   ]
  },
  {
   "cell_type": "code",
   "execution_count": 50,
   "metadata": {},
   "outputs": [],
   "source": [
    "# attempt to clean up the process\n",
    "mass_binned_tables = [Table(names = pdr_use.colnames), Table(names = pdr_use.colnames), \n",
    "                      Table(names = pdr_use.colnames), Table(names = pdr_use.colnames),\n",
    "                      Table(names = pdr_use.colnames), Table(names = pdr_use.colnames),\n",
    "                      Table(names = pdr_use.colnames)]\n",
    "\n",
    "for i in range(len(pdr_use)):\n",
    "    if pdr_use['logm_max'][i] > 11.5 and pdr_use['logm_max'][i] < 11.6:\n",
    "        mass_binned_tables[0].add_row(pdr_use[i])\n",
    "    if pdr_use['logm_max'][i] > 11.6 and pdr_use['logm_max'][i] < 11.7:\n",
    "        mass_binned_tables[1].add_row(pdr_use[i])\n",
    "    if pdr_use['logm_max'][i] > 11.7 and pdr_use['logm_max'][i] < 11.8:\n",
    "        mass_binned_tables[2].add_row(pdr_use[i])\n",
    "    if pdr_use['logm_max'][i] > 11.8 and pdr_use['logm_max'][i] < 11.9:\n",
    "        mass_binned_tables[3].add_row(pdr_use[i])\n",
    "    if pdr_use['logm_max'][i] > 11.9 and pdr_use['logm_max'][i] < 12.0:\n",
    "        mass_binned_tables[4].add_row(pdr_use[i])\n",
    "    if pdr_use['logm_max'][i] > 12.0 and pdr_use['logm_max'][i] < 12.2:\n",
    "        mass_binned_tables[5].add_row(pdr_use[i])\n",
    "    if pdr_use['logm_max'][i] > 12.2:\n",
    "        mass_binned_tables[6].add_row(pdr_use[i])"
   ]
  },
  {
   "cell_type": "code",
   "execution_count": 60,
   "metadata": {},
   "outputs": [],
   "source": [
    "counts = [[], [], [], [], [], []] # empty array to populate with counts\n",
    "# now actually do CiC\n",
    "for i in range(6):\n",
    "    for j in range(len(mass_binned_tables[i])):\n",
    "        counts[i].append(pdr_pairs(j, i, mass_binned_tables[i], .008))"
   ]
  },
  {
   "cell_type": "code",
   "execution_count": 61,
   "metadata": {},
   "outputs": [
    {
     "data": {
      "text/plain": [
       "[127, 56, 20, 5, 1, 0]"
      ]
     },
     "execution_count": 61,
     "metadata": {},
     "output_type": "execute_result"
    }
   ],
   "source": [
    "total_counts = []\n",
    "for i in range(len(counts)):\n",
    "    total_counts.append(sum(counts[i]))\n",
    "total_counts"
   ]
  },
  {
   "cell_type": "code",
   "execution_count": 63,
   "metadata": {},
   "outputs": [
    {
     "data": {
      "text/plain": [
       "<Container object of 3 artists>"
      ]
     },
     "execution_count": 63,
     "metadata": {},
     "output_type": "execute_result"
    },
    {
     "data": {
      "image/png": "[encoded data removed]",
      "text/plain": [
       "<matplotlib.figure.Figure at 0x181677a780>"
      ]
     },
     "metadata": {
      "image/png": {
       "height": 333,
       "width": 465
      }
     },
     "output_type": "display_data"
    }
   ],
   "source": [
    "bins = [0,1,2,3,4,5,6,7]\n",
    "hist_11_5, edges_11_5 = np.histogram(counts[0],bins)\n",
    "hist_11_6, edges_11_6 = np.histogram(counts[1],bins)\n",
    "hist_11_7, edges_11_7 = np.histogram(counts[2],bins)\n",
    "hist_11_8, edges_11_8 = np.histogram(counts[3],bins)\n",
    "hist_11_9, edges_11_9 = np.histogram(counts[4],bins)\n",
    "hist_12_0, edges_12_0 = np.histogram(counts[5],bins)\n",
    "\n",
    "\n",
    "mean_11_5 = (0*hist_11_5[0] + 1*hist_11_5[1] + 2*hist_11_5[2] + 3*hist_11_5[3])/sum(hist_11_5)\n",
    "mean_11_6 = (0*hist_11_6[0] + 1*hist_11_6[1] + 2*hist_11_6[2])/sum(hist_11_6)\n",
    "mean_11_7 = (0*hist_11_7[0] + 1*hist_11_7[1] + 2*hist_11_7[2])/sum(hist_11_7)\n",
    "mean_11_8 = (0*hist_11_8[0] + 1*hist_11_8[1] + 2*hist_11_8[2])/sum(hist_11_8)\n",
    "mean_11_9 = (0*hist_11_9[0] + 1*hist_11_9[1] + 2*hist_11_9[2])/sum(hist_11_9)\n",
    "mean_12_0 = (0*hist_12_0[0] + 1*hist_12_0[1] + 2*hist_12_0[2])/sum(hist_12_0)\n",
    "\n",
    "means = [mean_11_5, mean_11_6, mean_11_7, mean_11_8, mean_11_9, mean_12_0]\n",
    "\n",
    "err = [np.sqrt(sum(hist_11_5))/sum(hist_11_5),\n",
    "      np.sqrt(sum(hist_11_6))/sum(hist_11_6),\n",
    "      np.sqrt(sum(hist_11_7))/sum(hist_11_7),\n",
    "      np.sqrt(sum(hist_11_8))/sum(hist_11_8),0,0]\n",
    "#      np.sqrt(sum(hist_11_9))/sum(hist_11_9),\n",
    "#      np.sqrt(sum(hist_12_0))/sum(hist_12_0),\n",
    "#      np.sqrt(sum(hist_12_1))/sum(hist_12_1),\n",
    "#      np.sqrt(sum(hist_12_2))/sum(hist_12_2)]\n",
    "\n",
    "# where to plot the points. Mean mass in the bin\n",
    "mass_bins = [11.5,11.6,11.7,11.8,11.9,12.0,12.2]\n",
    "hist, edges = np.histogram(pdr_use['logm_max'],mass_bins)\n",
    "mass_mean = np.log10((10**(edges[1:]) + 10**(edges[:-1])) / 2)\n",
    "mass_mean\n",
    "\n",
    "\n",
    "fig = plt.figure(figsize = [7,5])\n",
    "ax1 = fig.add_subplot(111)\n",
    "ax1.grid(linewidth=1, linestyle='--', alpha=0.5)\n",
    "\n",
    "for tick in ax1.xaxis.get_major_ticks():\n",
    "    tick.label.set_fontsize(15) \n",
    "for tick in ax1.yaxis.get_major_ticks():\n",
    "    tick.label.set_fontsize(15)\n",
    "\n",
    "ax1.set_ylabel(r'$ \\bar{N}_{\\rm in}$', fontsize = 20)\n",
    "ax1.set_xlabel(r'$\\log \\rm M_{\\star}$', fontsize = 20)\n",
    "ax1.errorbar(mass_mean, means, fmt = 'o')"
   ]
  },
  {
   "cell_type": "markdown",
   "metadata": {},
   "source": [
    "## Now I want to work with randoms. The first thing I'm going to do is set up the table and check that the catalog Song sent is for the correct region."
   ]
  },
  {
   "cell_type": "code",
   "execution_count": 64,
   "metadata": {},
   "outputs": [
    {
     "data": {
      "text/html": [
       "<i>Table length=500000</i>\n",
       "<table id=\"table103568482936\" class=\"table-striped table-bordered table-condensed\">\n",
       "<thead><tr><th>ra</th><th>dec</th><th>field</th><th>jk</th><th>redshift</th><th>z</th></tr></thead>\n",
       "<thead><tr><th>float64</th><th>float64</th><th>int64</th><th>int64</th><th>float64</th><th>float64</th></tr></thead>\n",
       "<tr><td>29.932068028235665</td><td>-3.990383163553301</td><td>5</td><td>0</td><td>0.0</td><td>0.823228405030071</td></tr>\n",
       "<tr><td>132.71031544050894</td><td>1.1812907640265562</td><td>1</td><td>0</td><td>0.0</td><td>0.7173560438258898</td></tr>\n",
       "<tr><td>140.12196091406872</td><td>3.240460489530151</td><td>1</td><td>0</td><td>0.0</td><td>0.257594664133045</td></tr>\n",
       "<tr><td>136.49921258499833</td><td>-1.0299306731749192</td><td>1</td><td>0</td><td>0.0</td><td>0.7246959564215889</td></tr>\n",
       "<tr><td>237.246892560633</td><td>42.47810251960571</td><td>4</td><td>0</td><td>0.0</td><td>0.356747536865089</td></tr>\n",
       "<tr><td>221.91656450744262</td><td>0.6307976659972396</td><td>2</td><td>0</td><td>0.0</td><td>0.47977608822262463</td></tr>\n",
       "<tr><td>216.01995830503026</td><td>-0.8049424725083352</td><td>2</td><td>0</td><td>0.0</td><td>0.6853082039340612</td></tr>\n",
       "<tr><td>334.04642925504425</td><td>1.5125417691335883</td><td>6</td><td>0</td><td>0.0</td><td>0.2874827387193755</td></tr>\n",
       "<tr><td>36.71679133447393</td><td>-2.729743420142457</td><td>5</td><td>0</td><td>0.0</td><td>0.339125399445356</td></tr>\n",
       "<tr><td>129.5571624272636</td><td>1.0940313071496814</td><td>1</td><td>0</td><td>0.0</td><td>0.7536696345553446</td></tr>\n",
       "<tr><td>...</td><td>...</td><td>...</td><td>...</td><td>...</td><td>...</td></tr>\n",
       "<tr><td>38.7779147437708</td><td>-4.332490359737966</td><td>5</td><td>0</td><td>0.0</td><td>0.33013531689842107</td></tr>\n",
       "<tr><td>129.50359922253108</td><td>1.7572382527150838</td><td>1</td><td>0</td><td>0.0</td><td>0.9478591060568823</td></tr>\n",
       "<tr><td>339.4069762111447</td><td>1.5128234539053944</td><td>6</td><td>0</td><td>0.0</td><td>0.5400306549292747</td></tr>\n",
       "<tr><td>139.60377339238275</td><td>3.938338335473159</td><td>1</td><td>0</td><td>0.0</td><td>0.5970662448226968</td></tr>\n",
       "<tr><td>333.5352737500419</td><td>0.17045061500149164</td><td>6</td><td>0</td><td>0.0</td><td>0.27153955867985347</td></tr>\n",
       "<tr><td>139.2397443148299</td><td>2.4410751419845784</td><td>1</td><td>0</td><td>0.0</td><td>0.5473626366595342</td></tr>\n",
       "<tr><td>34.54353969091038</td><td>-6.127839794324354</td><td>5</td><td>0</td><td>0.0</td><td>0.09498560980944872</td></tr>\n",
       "<tr><td>218.16470803061213</td><td>0.4512644843908812</td><td>2</td><td>0</td><td>0.0</td><td>0.8725561534642744</td></tr>\n",
       "<tr><td>31.141281122990325</td><td>-6.06677411920933</td><td>5</td><td>0</td><td>0.0</td><td>0.9215047884350489</td></tr>\n",
       "<tr><td>139.71563561078545</td><td>-0.2837180797198162</td><td>1</td><td>0</td><td>0.0</td><td>0.49922878215057787</td></tr>\n",
       "</table>"
      ],
      "text/plain": [
       "<Table length=500000>\n",
       "        ra                 dec         field   jk  redshift          z         \n",
       "     float64             float64       int64 int64 float64        float64      \n",
       "------------------ ------------------- ----- ----- -------- -------------------\n",
       "29.932068028235665  -3.990383163553301     5     0      0.0   0.823228405030071\n",
       "132.71031544050894  1.1812907640265562     1     0      0.0  0.7173560438258898\n",
       "140.12196091406872   3.240460489530151     1     0      0.0   0.257594664133045\n",
       "136.49921258499833 -1.0299306731749192     1     0      0.0  0.7246959564215889\n",
       "  237.246892560633   42.47810251960571     4     0      0.0   0.356747536865089\n",
       "221.91656450744262  0.6307976659972396     2     0      0.0 0.47977608822262463\n",
       "216.01995830503026 -0.8049424725083352     2     0      0.0  0.6853082039340612\n",
       "334.04642925504425  1.5125417691335883     6     0      0.0  0.2874827387193755\n",
       " 36.71679133447393  -2.729743420142457     5     0      0.0   0.339125399445356\n",
       " 129.5571624272636  1.0940313071496814     1     0      0.0  0.7536696345553446\n",
       "               ...                 ...   ...   ...      ...                 ...\n",
       "  38.7779147437708  -4.332490359737966     5     0      0.0 0.33013531689842107\n",
       "129.50359922253108  1.7572382527150838     1     0      0.0  0.9478591060568823\n",
       " 339.4069762111447  1.5128234539053944     6     0      0.0  0.5400306549292747\n",
       "139.60377339238275   3.938338335473159     1     0      0.0  0.5970662448226968\n",
       " 333.5352737500419 0.17045061500149164     6     0      0.0 0.27153955867985347\n",
       " 139.2397443148299  2.4410751419845784     1     0      0.0  0.5473626366595342\n",
       " 34.54353969091038  -6.127839794324354     5     0      0.0 0.09498560980944872\n",
       "218.16470803061213  0.4512644843908812     2     0      0.0  0.8725561534642744\n",
       "31.141281122990325   -6.06677411920933     5     0      0.0  0.9215047884350489\n",
       "139.71563561078545 -0.2837180797198162     1     0      0.0 0.49922878215057787"
      ]
     },
     "execution_count": 64,
     "metadata": {},
     "output_type": "execute_result"
    }
   ],
   "source": [
    "# path to the data file\n",
    "random_file = data_pth +'s16a_random_500k.npy'\n",
    "\n",
    "# read in the array and make a table\n",
    "randoms = Table(np.load(random_file))\n",
    "randoms"
   ]
  },
  {
   "cell_type": "markdown",
   "metadata": {},
   "source": [
    "It looks like the information we actually need here is in the `ra`, `dec`, and `z` columns. In fact, we actually want to replace every value  in the `z` column with a random redshift from our sample. I will write up some quick code to do so."
   ]
  },
  {
   "cell_type": "code",
   "execution_count": 65,
   "metadata": {},
   "outputs": [
    {
     "data": {
      "text/html": [
       "<i>Table length=500000</i>\n",
       "<table id=\"table103568482936\" class=\"table-striped table-bordered table-condensed\">\n",
       "<thead><tr><th>ra</th><th>dec</th><th>z</th></tr></thead>\n",
       "<thead><tr><th>float64</th><th>float64</th><th>float64</th></tr></thead>\n",
       "<tr><td>29.932068028235665</td><td>-3.990383163553301</td><td>0.823228405030071</td></tr>\n",
       "<tr><td>132.71031544050894</td><td>1.1812907640265562</td><td>0.7173560438258898</td></tr>\n",
       "<tr><td>140.12196091406872</td><td>3.240460489530151</td><td>0.257594664133045</td></tr>\n",
       "<tr><td>136.49921258499833</td><td>-1.0299306731749192</td><td>0.7246959564215889</td></tr>\n",
       "<tr><td>237.246892560633</td><td>42.47810251960571</td><td>0.356747536865089</td></tr>\n",
       "<tr><td>221.91656450744262</td><td>0.6307976659972396</td><td>0.47977608822262463</td></tr>\n",
       "<tr><td>216.01995830503026</td><td>-0.8049424725083352</td><td>0.6853082039340612</td></tr>\n",
       "<tr><td>334.04642925504425</td><td>1.5125417691335883</td><td>0.2874827387193755</td></tr>\n",
       "<tr><td>36.71679133447393</td><td>-2.729743420142457</td><td>0.339125399445356</td></tr>\n",
       "<tr><td>129.5571624272636</td><td>1.0940313071496814</td><td>0.7536696345553446</td></tr>\n",
       "<tr><td>...</td><td>...</td><td>...</td></tr>\n",
       "<tr><td>38.7779147437708</td><td>-4.332490359737966</td><td>0.33013531689842107</td></tr>\n",
       "<tr><td>129.50359922253108</td><td>1.7572382527150838</td><td>0.9478591060568823</td></tr>\n",
       "<tr><td>339.4069762111447</td><td>1.5128234539053944</td><td>0.5400306549292747</td></tr>\n",
       "<tr><td>139.60377339238275</td><td>3.938338335473159</td><td>0.5970662448226968</td></tr>\n",
       "<tr><td>333.5352737500419</td><td>0.17045061500149164</td><td>0.27153955867985347</td></tr>\n",
       "<tr><td>139.2397443148299</td><td>2.4410751419845784</td><td>0.5473626366595342</td></tr>\n",
       "<tr><td>34.54353969091038</td><td>-6.127839794324354</td><td>0.09498560980944872</td></tr>\n",
       "<tr><td>218.16470803061213</td><td>0.4512644843908812</td><td>0.8725561534642744</td></tr>\n",
       "<tr><td>31.141281122990325</td><td>-6.06677411920933</td><td>0.9215047884350489</td></tr>\n",
       "<tr><td>139.71563561078545</td><td>-0.2837180797198162</td><td>0.49922878215057787</td></tr>\n",
       "</table>"
      ],
      "text/plain": [
       "<Table length=500000>\n",
       "        ra                 dec                  z         \n",
       "     float64             float64             float64      \n",
       "------------------ ------------------- -------------------\n",
       "29.932068028235665  -3.990383163553301   0.823228405030071\n",
       "132.71031544050894  1.1812907640265562  0.7173560438258898\n",
       "140.12196091406872   3.240460489530151   0.257594664133045\n",
       "136.49921258499833 -1.0299306731749192  0.7246959564215889\n",
       "  237.246892560633   42.47810251960571   0.356747536865089\n",
       "221.91656450744262  0.6307976659972396 0.47977608822262463\n",
       "216.01995830503026 -0.8049424725083352  0.6853082039340612\n",
       "334.04642925504425  1.5125417691335883  0.2874827387193755\n",
       " 36.71679133447393  -2.729743420142457   0.339125399445356\n",
       " 129.5571624272636  1.0940313071496814  0.7536696345553446\n",
       "               ...                 ...                 ...\n",
       "  38.7779147437708  -4.332490359737966 0.33013531689842107\n",
       "129.50359922253108  1.7572382527150838  0.9478591060568823\n",
       " 339.4069762111447  1.5128234539053944  0.5400306549292747\n",
       "139.60377339238275   3.938338335473159  0.5970662448226968\n",
       " 333.5352737500419 0.17045061500149164 0.27153955867985347\n",
       " 139.2397443148299  2.4410751419845784  0.5473626366595342\n",
       " 34.54353969091038  -6.127839794324354 0.09498560980944872\n",
       "218.16470803061213  0.4512644843908812  0.8725561534642744\n",
       "31.141281122990325   -6.06677411920933  0.9215047884350489\n",
       "139.71563561078545 -0.2837180797198162 0.49922878215057787"
      ]
     },
     "execution_count": 65,
     "metadata": {},
     "output_type": "execute_result"
    }
   ],
   "source": [
    "randoms.remove_columns(['field', 'jk', 'redshift'])\n",
    "randoms"
   ]
  },
  {
   "cell_type": "code",
   "execution_count": 66,
   "metadata": {},
   "outputs": [],
   "source": [
    "hsc_sample_z = pdr_use['z_best'] # all sample redshifts\n",
    "random_redshift_index = np.random.randint(len(hsc_sample_z), size = len(randoms))\n",
    "randoms['z'] = hsc_sample_z[random_redshift_index]\n",
    "\n",
    "# Make an index column\n",
    "randoms['index'] = np.zeros(len(randoms['z']))\n",
    "\n",
    "for i in range(len(randoms['index'])):\n",
    "     randoms['index'][i] = i"
   ]
  },
  {
   "cell_type": "code",
   "execution_count": 67,
   "metadata": {},
   "outputs": [
    {
     "data": {
      "text/html": [
       "<i>Table length=500000</i>\n",
       "<table id=\"table103568482936\" class=\"table-striped table-bordered table-condensed\">\n",
       "<thead><tr><th>ra</th><th>dec</th><th>z</th><th>index</th></tr></thead>\n",
       "<thead><tr><th>float64</th><th>float64</th><th>float64</th><th>float64</th></tr></thead>\n",
       "<tr><td>29.932068028235665</td><td>-3.990383163553301</td><td>0.4345875382423401</td><td>0.0</td></tr>\n",
       "<tr><td>132.71031544050894</td><td>1.1812907640265562</td><td>0.302480012178421</td><td>1.0</td></tr>\n",
       "<tr><td>140.12196091406872</td><td>3.240460489530151</td><td>0.25398001074790955</td><td>2.0</td></tr>\n",
       "<tr><td>136.49921258499833</td><td>-1.0299306731749192</td><td>0.40310001373291016</td><td>3.0</td></tr>\n",
       "<tr><td>237.246892560633</td><td>42.47810251960571</td><td>0.34345000982284546</td><td>4.0</td></tr>\n",
       "<tr><td>221.91656450744262</td><td>0.6307976659972396</td><td>0.25751999020576477</td><td>5.0</td></tr>\n",
       "<tr><td>216.01995830503026</td><td>-0.8049424725083352</td><td>0.28273001313209534</td><td>6.0</td></tr>\n",
       "<tr><td>334.04642925504425</td><td>1.5125417691335883</td><td>0.42024675011634827</td><td>7.0</td></tr>\n",
       "<tr><td>36.71679133447393</td><td>-2.729743420142457</td><td>0.4490000009536743</td><td>8.0</td></tr>\n",
       "<tr><td>129.5571624272636</td><td>1.0940313071496814</td><td>0.3743700087070465</td><td>9.0</td></tr>\n",
       "<tr><td>...</td><td>...</td><td>...</td><td>...</td></tr>\n",
       "<tr><td>38.7779147437708</td><td>-4.332490359737966</td><td>0.2989799976348877</td><td>499990.0</td></tr>\n",
       "<tr><td>129.50359922253108</td><td>1.7572382527150838</td><td>0.3703399896621704</td><td>499991.0</td></tr>\n",
       "<tr><td>339.4069762111447</td><td>1.5128234539053944</td><td>0.30055001378059387</td><td>499992.0</td></tr>\n",
       "<tr><td>139.60377339238275</td><td>3.938338335473159</td><td>0.3990600109100342</td><td>499993.0</td></tr>\n",
       "<tr><td>333.5352737500419</td><td>0.17045061500149164</td><td>0.414970725774765</td><td>499994.0</td></tr>\n",
       "<tr><td>139.2397443148299</td><td>2.4410751419845784</td><td>0.387719988822937</td><td>499995.0</td></tr>\n",
       "<tr><td>34.54353969091038</td><td>-6.127839794324354</td><td>0.33021000027656555</td><td>499996.0</td></tr>\n",
       "<tr><td>218.16470803061213</td><td>0.4512644843908812</td><td>0.2774899899959564</td><td>499997.0</td></tr>\n",
       "<tr><td>31.141281122990325</td><td>-6.06677411920933</td><td>0.259799987077713</td><td>499998.0</td></tr>\n",
       "<tr><td>139.71563561078545</td><td>-0.2837180797198162</td><td>0.3133000135421753</td><td>499999.0</td></tr>\n",
       "</table>"
      ],
      "text/plain": [
       "<Table length=500000>\n",
       "        ra                 dec                  z           index  \n",
       "     float64             float64             float64       float64 \n",
       "------------------ ------------------- ------------------- --------\n",
       "29.932068028235665  -3.990383163553301  0.4345875382423401      0.0\n",
       "132.71031544050894  1.1812907640265562   0.302480012178421      1.0\n",
       "140.12196091406872   3.240460489530151 0.25398001074790955      2.0\n",
       "136.49921258499833 -1.0299306731749192 0.40310001373291016      3.0\n",
       "  237.246892560633   42.47810251960571 0.34345000982284546      4.0\n",
       "221.91656450744262  0.6307976659972396 0.25751999020576477      5.0\n",
       "216.01995830503026 -0.8049424725083352 0.28273001313209534      6.0\n",
       "334.04642925504425  1.5125417691335883 0.42024675011634827      7.0\n",
       " 36.71679133447393  -2.729743420142457  0.4490000009536743      8.0\n",
       " 129.5571624272636  1.0940313071496814  0.3743700087070465      9.0\n",
       "               ...                 ...                 ...      ...\n",
       "  38.7779147437708  -4.332490359737966  0.2989799976348877 499990.0\n",
       "129.50359922253108  1.7572382527150838  0.3703399896621704 499991.0\n",
       " 339.4069762111447  1.5128234539053944 0.30055001378059387 499992.0\n",
       "139.60377339238275   3.938338335473159  0.3990600109100342 499993.0\n",
       " 333.5352737500419 0.17045061500149164   0.414970725774765 499994.0\n",
       " 139.2397443148299  2.4410751419845784   0.387719988822937 499995.0\n",
       " 34.54353969091038  -6.127839794324354 0.33021000027656555 499996.0\n",
       "218.16470803061213  0.4512644843908812  0.2774899899959564 499997.0\n",
       "31.141281122990325   -6.06677411920933   0.259799987077713 499998.0\n",
       "139.71563561078545 -0.2837180797198162  0.3133000135421753 499999.0"
      ]
     },
     "execution_count": 67,
     "metadata": {},
     "output_type": "execute_result"
    }
   ],
   "source": [
    "randoms"
   ]
  },
  {
   "cell_type": "markdown",
   "metadata": {},
   "source": [
    "Looks like that worked! Now to check that the regions line up in `ra` and `dec`"
   ]
  },
  {
   "cell_type": "code",
   "execution_count": 68,
   "metadata": {},
   "outputs": [
    {
     "data": {
      "text/plain": [
       "<matplotlib.legend.Legend at 0x181b64cc50>"
      ]
     },
     "execution_count": 68,
     "metadata": {},
     "output_type": "execute_result"
    },
    {
     "data": {
      "image/png": "[encoded data removed]",
      "text/plain": [
       "<matplotlib.figure.Figure at 0x181d38b860>"
      ]
     },
     "metadata": {
      "image/png": {
       "height": 440,
       "width": 451
      }
     },
     "output_type": "display_data"
    }
   ],
   "source": [
    "# plot setup\n",
    "fig = plt.figure(figsize = [7,7])\n",
    "ax1 = fig.add_subplot(111)\n",
    "ax1.grid(linewidth=1, linestyle='--', alpha=0.5)\n",
    "\n",
    "for tick in ax1.xaxis.get_major_ticks():\n",
    "    tick.label.set_fontsize(15) \n",
    "for tick in ax1.yaxis.get_major_ticks():\n",
    "    tick.label.set_fontsize(15)\n",
    "\n",
    "ax1.set_ylabel(r'Dec', fontsize = 20)\n",
    "ax1.set_xlabel(r'RA', fontsize = 20)\n",
    "\n",
    "ax1.scatter(pdr_use['ra'],pdr_use['dec'] , marker = 'o', color = 'k', label = 'HSC Data')\n",
    "ax1.scatter(randoms['ra'],randoms['dec'] , marker = '.', color = 'r', alpha = .3, label = 'Randoms')\n",
    "ax1.legend()"
   ]
  },
  {
   "cell_type": "markdown",
   "metadata": {},
   "source": [
    "$\\Rightarrow$ okay, cool, so that worked! Now I need to perfrom the CiC and cross-correlate with the sample and randoms"
   ]
  },
  {
   "cell_type": "markdown",
   "metadata": {},
   "source": [
    "So, as I understand it from the screenshot sent by Alexie on 9/26, I can determibe the cross-correlation function from \n",
    "$$\\xi(R) = \\frac{BT}{BR}\\frac{n_R}{n_T} - 1$$\n",
    "In this notation on which Alexie and I agreed, $B$ is the *Bin Sample*, the sample of galaxies in a given bin of mass $M_* = [M_1,M_2]$, $T$ is the *Threshold Sample* with $M_* > M_2$, and $R$ is our catalog of randoms. $\\frac{n_R}{n_T}$ is a normalization factor. Now, $BT$ is the result of the CiC above. Now I need to find the CiC between the bins and the randoms, $BR$."
   ]
  },
  {
   "cell_type": "code",
   "execution_count": 69,
   "metadata": {},
   "outputs": [
    {
     "data": {
      "text/plain": [
       "[127, 56, 20, 5, 1, 0]"
      ]
     },
     "execution_count": 69,
     "metadata": {},
     "output_type": "execute_result"
    }
   ],
   "source": [
    "# find the CiC of the randoms and catalog galaxies\n",
    "# the DD in the above equation is the result in each mass bin for counts. I will do that first.\n",
    "BT = total_counts\n",
    "BT"
   ]
  },
  {
   "cell_type": "code",
   "execution_count": 70,
   "metadata": {},
   "outputs": [],
   "source": [
    "def random_pairs(i, in_table, z_lim):\n",
    "    # the object we choose here is going to be a central by the way we have defined things\n",
    "    cent_gal = in_table[i] \n",
    "    \n",
    "    \n",
    "    # find the galaxies within the delta z limit\n",
    "    dz= randoms[np.abs(cent_gal['z_best'] - randoms['z']) <= z_lim]\n",
    "    \n",
    "    pair_index = [] # list of indices of objects within cylinder\n",
    "    \n",
    "    if len(dz) > 0:\n",
    "        # find separation for gals within dz\n",
    "        dz['sep'] = SkyCoord(cent_gal['ra']*u.deg, cent_gal['dec']*u.deg).separation(SkyCoord(dz['ra']*u.deg, dz['dec']*u.deg)).degree \n",
    "    for i in range(len(dz)):\n",
    "        if dz['sep'][i] <= cent_gal['r_vir']:\n",
    "            pair_index.append(dz['index'][i])\n",
    "            \n",
    "    num_pairs = len(pair_index)\n",
    "    \n",
    "    return(num_pairs)"
   ]
  },
  {
   "cell_type": "code",
   "execution_count": 33,
   "metadata": {},
   "outputs": [],
   "source": [
    "counts = [[],[],[],[],[],[]]\n",
    "\n",
    "for i in range(len(mass_binned_tables)):\n",
    "    for j in range(len(mass_binned_tables[i])):\n",
    "        counts[i].append(random_pairs(j, mass_binned_tables[i], .008))\n",
    "        \n",
    "BR = []\n",
    "for i in range(len(counts)):\n",
    "    BR.append(sum(counts[i]))"
   ]
  },
  {
   "cell_type": "code",
   "execution_count": 34,
   "metadata": {},
   "outputs": [
    {
     "data": {
      "text/plain": [
       "[1778, 1428, 920, 571, 254, 127]"
      ]
     },
     "execution_count": 34,
     "metadata": {},
     "output_type": "execute_result"
    }
   ],
   "source": [
    "BR"
   ]
  },
  {
   "cell_type": "code",
   "execution_count": 71,
   "metadata": {},
   "outputs": [
    {
     "data": {
      "text/plain": [
       "[1980, 865, 332, 108, 29, 2]"
      ]
     },
     "execution_count": 71,
     "metadata": {},
     "output_type": "execute_result"
    }
   ],
   "source": [
    "# Normalization factor\n",
    "# n will be different for each mass bin\n",
    "m2 = [11.6,11.7,11.8,11.9,12.0,12.2]\n",
    "nT = []\n",
    "for i in range(len(m2)):\n",
    "    nT.append(len(np.where(pdr_use['logm_max']>m2[i])[0]))\n",
    "nR = len(randoms)\n",
    "nT"
   ]
  },
  {
   "cell_type": "code",
   "execution_count": 74,
   "metadata": {},
   "outputs": [
    {
     "data": {
      "text/plain": [
       "array([17.03751804, 21.66802675, 31.73965427, 39.53966401, 66.8794461 ,\n",
       "       -1.        ])"
      ]
     },
     "execution_count": 74,
     "metadata": {},
     "output_type": "execute_result"
    }
   ],
   "source": [
    "xi_with_norm = (np.array(BT) / np.array(BR))*(nR/np.array(nT))- 1\n",
    "xi_no_norm = (np.array(BT) / np.array(BR))- 1\n",
    "\n",
    "xi_with_norm"
   ]
  },
  {
   "cell_type": "markdown",
   "metadata": {},
   "source": [
    "### I've been thinking about this and didn't we want a plot of $M*$ vs $\\xi$?\n",
    "\n",
    "Despite what I started with `corrfunc` below, I will make this plot and we can discuss"
   ]
  },
  {
   "cell_type": "code",
   "execution_count": 77,
   "metadata": {},
   "outputs": [
    {
     "data": {
      "text/plain": [
       "<Container object of 3 artists>"
      ]
     },
     "execution_count": 77,
     "metadata": {},
     "output_type": "execute_result"
    },
    {
     "data": {
      "image/png": "[encoded data removed]",
      "text/plain": [
       "<matplotlib.figure.Figure at 0x181f039eb8>"
      ]
     },
     "metadata": {
      "image/png": {
       "height": 336,
       "width": 452
      }
     },
     "output_type": "display_data"
    }
   ],
   "source": [
    "fig = plt.figure(figsize = [7,5])\n",
    "ax1 = fig.add_subplot(111)\n",
    "ax1.grid(linewidth=1, linestyle='--', alpha=0.5)\n",
    "\n",
    "for tick in ax1.xaxis.get_major_ticks():\n",
    "    tick.label.set_fontsize(15) \n",
    "for tick in ax1.yaxis.get_major_ticks():\n",
    "    tick.label.set_fontsize(15)\n",
    "\n",
    "ax1.set_ylabel(r'$ \\xi$ (I think)', fontsize = 20)\n",
    "ax1.set_xlabel(r'$\\log \\rm M_{\\star}$', fontsize = 20)\n",
    "ax1.errorbar(mass_mean, xi_with_norm, fmt = 'o')"
   ]
  },
  {
   "cell_type": "markdown",
   "metadata": {},
   "source": [
    "## After speaking with Chris, going to try a package called `corrfunc` which will do what I already did, but probably better."
   ]
  },
  {
   "cell_type": "code",
   "execution_count": 32,
   "metadata": {},
   "outputs": [],
   "source": [
    "import Corrfunc\n",
    "from Corrfunc.mocks.DDrppi_mocks import DDrppi_mocks"
   ]
  },
  {
   "cell_type": "code",
   "execution_count": null,
   "metadata": {},
   "outputs": [],
   "source": [
    "# setup params for function\n",
    "autocorr = False # cross-corr\n",
    "cosmology = 2 # planck\n"
   ]
  }
 ],
 "metadata": {
  "kernelspec": {
   "display_name": "Python 3",
   "language": "python",
   "name": "python3"
  }
 },
 "nbformat": 4,
 "nbformat_minor": 2
}
