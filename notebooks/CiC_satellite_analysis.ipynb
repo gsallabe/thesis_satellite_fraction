{
 "cells": [
  {
   "cell_type": "markdown",
   "metadata": {},
   "source": [
    "## Fresh notebook for using `halotools` on PDR catalog "
   ]
  },
  {
   "cell_type": "code",
   "execution_count": 25,
   "metadata": {},
   "outputs": [],
   "source": [
    "from astropy.cosmology import FlatLambdaCDM\n",
    "from astropy.io import fits\n",
    "from astropy import units as u\n",
    "import numpy as np\n",
    "from astropy.table import Table\n",
    "import matplotlib.pyplot as plt\n",
    "import matplotlib as mpl\n",
    "mpl.rcParams['mathtext.fontset'] = 'stix'\n",
    "mpl.rcParams['font.family'] = 'stixgeneral'\n",
    "%matplotlib inline\n",
    "#matplotlib.matplotlib_fname()\n",
    "#import linetools.utils as ltu\n",
    "from astropy.coordinates import Angle\n",
    "from astropy.coordinates import SkyCoord\n",
    "import copy\n",
    "from colossus.halo import profile_nfw\n",
    "%config InlineBackend.figure_format = 'retina'"
   ]
  },
  {
   "cell_type": "code",
   "execution_count": 26,
   "metadata": {},
   "outputs": [],
   "source": [
    "# read in the data\n",
    "data_pth = '/Users/astro/Desktop/GitHub/satellite_fraction/data/'\n",
    "data_file = data_pth + 's16a_massive_logmMax_11.45_z_0.25_0.47_mhalo.fits'\n",
    "\n",
    "hdu1 = fits.open(data_file)\n",
    "data_table = Table(hdu1[1].data)\n",
    "\n",
    "# set cosmology params\n",
    "import colossus\n",
    "from colossus.cosmology import cosmology\n",
    "params = {'flat': True , 'H0': 70.0 , 'Om0': 0.3 , 'Ob0': 0.049, 'sigma8': 0.81, 'ns': 0.95}\n",
    "h = .7\n",
    "cosmology.addCosmology('huang18',params)\n",
    "cosmology.setCosmology('huang18')\n",
    "from colossus.halo import mass_so\n",
    "\n",
    "# cut the table\n",
    "pdr_use = Table(names = data_table.colnames)\n",
    "\n",
    "for i in range(len(np.array(data_table['logm_max']))):\n",
    "    if data_table['logm_max'][i] > 11.5 and data_table['z_best'][i] > .25 and data_table['z_best'][i] < .45:\n",
    "        pdr_use.add_row(data_table[i])\n",
    "        \n",
    "# get rid of two bad galaxies\n",
    "pdr_use.remove_row(np.where(pdr_use['ra'] == 33.121181211450285)[0][0])\n",
    "pdr_use.remove_row(np.where(pdr_use['ra'] == 333.7062012551158)[0][0])"
   ]
  },
  {
   "cell_type": "markdown",
   "metadata": {},
   "source": [
    "When using halotools, the assumption in the function is that positions are in comoving with units Mpc/h. So when I find the halo radius for the function, it needs to be in a form the function likes. Unfortunately, the observational data does not have inputs like that. I should look deeper into the function."
   ]
  },
  {
   "cell_type": "raw",
   "metadata": {},
   "source": [
    "# From halotools/mock_observables/counts_in_cylinders.py\n",
    "\n",
    "\n",
    "def counts_in_cylinders(sample1, sample2, proj_search_radius, cylinder_half_length,\n",
    "        period=None, verbose=False, num_threads=1,\n",
    "        approx_cell1_size=None, approx_cell2_size=None, return_indexes=False):\n",
    "    \"\"\"\n",
    "    Function counts the number of points in ``sample2`` separated by a xy-distance\n",
    "    *r* and z-distance *z* from each point in ``sample1``,\n",
    "    where *r* and *z* are defined by the input ``proj_search_radius``\n",
    "    and ``cylinder_half_length``, respectively.\n",
    "\n",
    "    Parameters\n",
    "    ----------\n",
    "    sample1 : array_like\n",
    "        Npts1 x 3 numpy array containing 3-D positions of points.\n",
    "        See the :ref:`mock_obs_pos_formatting` documentation page, or the\n",
    "        Examples section below, for instructions on how to transform\n",
    "        your coordinate position arrays into the\n",
    "        format accepted by the ``sample1`` and ``sample2`` arguments.\n",
    "        Length units are comoving and assumed to be in Mpc/h, here and throughout Halotools.\n",
    "\n",
    "    sample2 : array_like, optional\n",
    "        Npts2 x 3 array containing 3-D positions of points.\n",
    "\n",
    "    proj_search_radius : array_like\n",
    "        Length-Npts1 array defining the xy-distance around each point in ``sample1``\n",
    "        to search for points in ``sample2``.\n",
    "        Length units are comoving and assumed to be in Mpc/h, here and throughout Halotools.\n",
    "\n",
    "    cylinder_half_length : array_like\n",
    "        Length-Npts1 array defining the z-distance around each point in ``sample1``\n",
    "        to search for points in ``sample2``. Thus the *total* length of the cylinder\n",
    "        placed around each point in ``sample1`` will be *twice* the corresponding\n",
    "        value stored in the input ``cylinder_half_length``.\n",
    "        Length units are comoving and assumed to be in Mpc/h, here and throughout Halotools.\n",
    "\n",
    "    period : array_like, optional\n",
    "        Length-3 array defining the periodic boundary conditions.\n",
    "        If only one number is specified, the enclosing volume is assumed to\n",
    "        be a periodic cube (by far the most common case).\n",
    "        If period is set to None, the default option,\n",
    "        PBCs are set to infinity.\n",
    "\n",
    "    verbose : Boolean, optional\n",
    "        If True, print out information and progress.\n",
    "\n",
    "    num_threads : int, optional\n",
    "        Number of threads to use in calculation, where parallelization is performed\n",
    "        using the python ``multiprocessing`` module. Default is 1 for a purely serial\n",
    "        calculation, in which case a multiprocessing Pool object will\n",
    "        never be instantiated. A string 'max' may be used to indicate that\n",
    "        the pair counters should use all available cores on the machine.\n",
    "\n",
    "    approx_cell1_size : array_like, optional\n",
    "        Length-3 array serving as a guess for the optimal manner by how points\n",
    "        will be apportioned into subvolumes of the simulation box.\n",
    "        The optimum choice unavoidably depends on the specs of your machine.\n",
    "        Default choice is to use Lbox/10 in each dimension,\n",
    "        which will return reasonable result performance for most use-cases.\n",
    "        Performance can vary sensitively with this parameter, so it is highly\n",
    "        recommended that you experiment with this parameter when carrying out\n",
    "        performance-critical calculations.\n",
    "\n",
    "    approx_cell2_size : array_like, optional\n",
    "        Analogous to ``approx_cell1_size``, but for sample2.  See comments for\n",
    "        ``approx_cell1_size`` for details.\n",
    "\n",
    "    return_indexes: bool, optional\n",
    "        If true, return both counts and the indexes of the pairs.\n",
    "\n",
    "    Returns\n",
    "    -------\n",
    "    num_pairs : array_like\n",
    "        Numpy array of length Npts1 storing the numbers of points in ``sample2``\n",
    "        inside the cylinder surrounding each point in ``sample1``.\n",
    "\n",
    "    indexes : array_like, optional\n",
    "        If ``return_indexes`` is true, return a structured array of length\n",
    "        num_pairs with the indexes of the pairs. Column ``i1`` is the index in\n",
    "        ``sample1`` at the center of the cylinder and column ``i2`` is the index\n",
    "        in ``sample2`` that is contained in the cylinder.\n",
    "\n",
    "    Examples\n",
    "    --------\n",
    "    For illustration purposes, we'll create some fake data and call the pair counter.\n",
    "\n",
    "    >>> from halotools.sim_manager import FakeSim\n",
    "    >>> halocat = FakeSim()\n",
    "\n",
    "    In this first example, we'll demonstrate how to calculate the number of\n",
    "    low-mass host halos are in cylinders of *fixed length* surrounding high-mass halos.\n",
    "\n",
    "    >>> host_halo_mask = halocat.halo_table['halo_upid'] == -1\n",
    "    >>> host_halos = halocat.halo_table[host_halo_mask]\n",
    "    >>> high_mass_mask = host_halos['halo_mvir'] >= 5e13\n",
    "    >>> high_mass_hosts = host_halos[high_mass_mask]\n",
    "    >>> low_mass_mask = host_halos['halo_mvir'] <= 1e12\n",
    "    >>> low_mass_hosts = host_halos[low_mass_mask]\n",
    "\n",
    "    >>> x1, y1, z1 = high_mass_hosts['halo_x'], high_mass_hosts['halo_y'], high_mass_hosts['halo_z']\n",
    "    >>> x2, y2, z2 = low_mass_hosts['halo_x'], low_mass_hosts['halo_y'], low_mass_hosts['halo_z']\n",
    "\n",
    "    We transform our *x, y, z* points into the array shape used by the pair-counter by\n",
    "    taking the transpose of the result of `numpy.vstack`. This boilerplate transformation\n",
    "    is used throughout the `~halotools.mock_observables` sub-package:\n",
    "\n",
    "    >>> sample1 = np.vstack([x1, y1, z1]).T\n",
    "    >>> sample2 = np.vstack([x2, y2, z2]).T\n",
    "\n",
    "    Now let's drop a cylinder of radius 200 kpc/h and half-length 250 kpc/h around\n",
    "    each high-mass host halo, and for each high-mass host we'll count the number of\n",
    "    low-mass halos falling within that cylinder:\n",
    "\n",
    "    >>> period = halocat.Lbox\n",
    "    >>> proj_search_radius, cylinder_half_length = 0.2, 0.25\n",
    "    >>> result = counts_in_cylinders(sample1, sample2, proj_search_radius, cylinder_half_length, period=period)\n",
    "\n",
    "    For example usage of the `~halotools.mock_observables.counts_in_cylinders` function\n",
    "    on a realistic galaxy catalog that makes use of the variable search length feature,\n",
    "    see the :ref:`calculating_counts_in_cells` tutorial.\n",
    "\n",
    "\n",
    "    \"\"\"\n",
    "\n",
    "    # Process the inputs with the helper function\n",
    "    result = _counts_in_cylinders_process_args(sample1, sample2, proj_search_radius,\n",
    "            cylinder_half_length, period, verbose, num_threads, approx_cell1_size, approx_cell2_size,\n",
    "            return_indexes)\n",
    "    x1in, y1in, z1in, x2in, y2in, z2in, proj_search_radius, cylinder_half_length = result[0:8]\n",
    "    period, num_threads, PBCs, approx_cell1_size, approx_cell2_size = result[8:]\n",
    "    xperiod, yperiod, zperiod = period\n",
    "\n",
    "    rp_max = np.max(proj_search_radius)\n",
    "    pi_max = np.max(cylinder_half_length)\n",
    "    search_xlength, search_ylength, search_zlength = rp_max, rp_max, pi_max\n",
    "\n",
    "    # Compute the estimates for the cell sizes\n",
    "    approx_cell1_size, approx_cell2_size = (\n",
    "        _set_approximate_cell_sizes(approx_cell1_size, approx_cell2_size, period)\n",
    "        )\n",
    "    approx_x1cell_size, approx_y1cell_size, approx_z1cell_size = approx_cell1_size\n",
    "    approx_x2cell_size, approx_y2cell_size, approx_z2cell_size = approx_cell2_size\n",
    "\n",
    "    # Build the rectangular mesh\n",
    "    double_mesh = RectangularDoubleMesh(x1in, y1in, z1in, x2in, y2in, z2in,\n",
    "        approx_x1cell_size, approx_y1cell_size, approx_z1cell_size,\n",
    "        approx_x2cell_size, approx_y2cell_size, approx_z2cell_size,\n",
    "        search_xlength, search_ylength, search_zlength, xperiod, yperiod, zperiod, PBCs)\n",
    "\n",
    "    # Create a function object that has a single argument, for parallelization purposes\n",
    "    engine = partial(counts_in_cylinders_engine,\n",
    "        double_mesh, x1in, y1in, z1in, x2in, y2in, z2in, proj_search_radius, cylinder_half_length, return_indexes)\n",
    "\n",
    "    # Calculate the cell1 indices that will be looped over by the engine\n",
    "    num_threads, cell1_tuples = _cell1_parallelization_indices(\n",
    "        double_mesh.mesh1.ncells, num_threads)\n",
    "\n",
    "    if num_threads > 1:\n",
    "        pool = multiprocessing.Pool(num_threads)\n",
    "        result = pool.map(engine, cell1_tuples)\n",
    "        pool.close()\n",
    "        if return_indexes:\n",
    "            counts = np.sum([res[0] for res in result], axis=0)\n",
    "            indexes = np.concatenate([res[1] for res in result])\n",
    "        else:\n",
    "            counts = np.sum(result, axis=0)\n",
    "    else:\n",
    "        result = engine(cell1_tuples[0])\n",
    "        if return_indexes:\n",
    "            counts = result[0]\n",
    "            indexes = result[1]\n",
    "        else:\n",
    "            counts = result\n",
    "\n",
    "    if return_indexes:\n",
    "        return counts, indexes\n",
    "    return counts\n",
    "\n",
    "def _counts_in_cylinders_process_args(sample1, sample2, proj_search_radius, cylinder_half_length,\n",
    "        period, verbose, num_threads, approx_cell1_size, approx_cell2_size, return_indexes):\n",
    "    \"\"\"\n",
    "    \"\"\"\n",
    "    num_threads = get_num_threads(num_threads)\n",
    "\n",
    "    # Passively enforce that we are working with ndarrays\n",
    "    x1 = sample1[:, 0]\n",
    "    y1 = sample1[:, 1]\n",
    "    z1 = sample1[:, 2]\n",
    "    x2 = sample2[:, 0]\n",
    "    y2 = sample2[:, 1]\n",
    "    z2 = sample2[:, 2]\n",
    "\n",
    "    if return_indexes and ((len(x1) > 2e32) or (len(x2) > 2e32)):\n",
    "        msg = (\"Return indexes uses a uint32 and so can only handle inputs shorter than \" +\n",
    "            \"2e32 (~4 Billion). If you are affected by this please raise an Issue on \" +\n",
    "            \"https://github.com/astropy/halotools.\\n\")\n",
    "        raise ValueError(msg)\n",
    "\n",
    "    proj_search_radius = np.atleast_1d(proj_search_radius).astype('f8')\n",
    "    if len(proj_search_radius) == 1:\n",
    "        proj_search_radius = np.zeros_like(x1) + proj_search_radius[0]\n",
    "    elif len(proj_search_radius) == len(x1):\n",
    "        pass\n",
    "    else:\n",
    "        msg = \"Input ``proj_search_radius`` must be a scalar or length-Npts1 array\"\n",
    "        raise ValueError(msg)\n",
    "    max_rp_max = np.max(proj_search_radius)\n",
    "\n",
    "    cylinder_half_length = np.atleast_1d(cylinder_half_length).astype('f8')\n",
    "    if len(cylinder_half_length) == 1:\n",
    "        cylinder_half_length = np.zeros_like(x1) + cylinder_half_length[0]\n",
    "    elif len(cylinder_half_length) == len(x1):\n",
    "        pass\n",
    "    else:\n",
    "        msg = \"Input ``cylinder_half_length`` must be a scalar or length-Npts1 array\"\n",
    "        raise ValueError(msg)\n",
    "    max_pi_max = np.max(cylinder_half_length)\n",
    "\n",
    "    period, PBCs = get_period(period)\n",
    "    # At this point, period may still be set to None,\n",
    "    # in which case we must remap our points inside the smallest enclosing cube\n",
    "    # and set ``period`` equal to this cube size.\n",
    "    if period is None:\n",
    "        x1, y1, z1, x2, y2, z2, period = (\n",
    "            _enclose_in_box(\n",
    "                sample1[:, 0], sample1[:, 2], sample1[:, 2],\n",
    "                sample2[:, 0], sample2[:, 2], sample2[:, 2],\n",
    "                min_size=[max_rp_max*3.0, max_rp_max*3.0, max_pi_max*3.0]))\n",
    "        x1 = sample1[:, 0]\n",
    "        y1 = sample1[:, 1]\n",
    "        z1 = sample1[:, 2]\n",
    "        x2 = sample2[:, 0]\n",
    "        y2 = sample2[:, 1]\n",
    "        z2 = sample2[:, 2]\n",
    "    else:\n",
    "        x1 = sample1[:, 0]\n",
    "        y1 = sample1[:, 1]\n",
    "        z1 = sample1[:, 2]\n",
    "        x2 = sample2[:, 0]\n",
    "        y2 = sample2[:, 1]\n",
    "        z2 = sample2[:, 2]\n",
    "\n",
    "    _enforce_maximum_search_length(max_rp_max, period[0])\n",
    "    _enforce_maximum_search_length(max_rp_max, period[1])\n",
    "    _enforce_maximum_search_length(max_pi_max, period[2])\n",
    "\n",
    "    if approx_cell1_size is None:\n",
    "        approx_cell1_size = [max_rp_max, max_rp_max, max_pi_max]\n",
    "    elif custom_len(approx_cell1_size) == 1:\n",
    "        approx_cell1_size = [approx_cell1_size, approx_cell1_size, approx_cell1_size]\n",
    "    if approx_cell2_size is None:\n",
    "        approx_cell2_size = [max_rp_max, max_rp_max, max_pi_max]\n",
    "    elif custom_len(approx_cell2_size) == 1:\n",
    "        approx_cell2_size = [approx_cell2_size, approx_cell2_size, approx_cell2_size]\n",
    "\n",
    "    return (x1, y1, z1, x2, y2, z2,\n",
    "        proj_search_radius, cylinder_half_length, period, num_threads, PBCs,\n",
    "        approx_cell1_size, approx_cell2_size)"
   ]
  },
  {
   "cell_type": "markdown",
   "metadata": {},
   "source": [
    "## Test halotools function on mock data"
   ]
  },
  {
   "cell_type": "code",
   "execution_count": 27,
   "metadata": {},
   "outputs": [],
   "source": [
    "model = data_pth + 'um_ins_exs_logms_10.8_asap_180813_vel.fits'\n",
    "\n",
    "hdu1 = fits.open(model)\n",
    "um_table = Table(hdu1[1].data)\n",
    "\n",
    "# sort table\n",
    "um_table.sort('logms_max')\n",
    "um_table.reverse() # rank order by mass\n",
    "model_z = 0.37\n",
    "\n",
    "from halotools.mock_observables import apply_zspace_distortion\n",
    "from astropy.cosmology import Planck15 as cosmo # um uses planck cosmology\n",
    "# find the z-space distortions\n",
    "z_dis = apply_zspace_distortion(um_table['z'], um_table['vz'], model_z, cosmo, 400.0)\n",
    "um_table['z_dist'] = z_dis"
   ]
  },
  {
   "cell_type": "code",
   "execution_count": 28,
   "metadata": {},
   "outputs": [],
   "source": [
    "# define um cosmology\n",
    "params = {'flat': True , 'H0': 67.77 , 'Om0': 0.307115 , 'Ob0': 0.048206, 'sigma8': 0.8228, 'ns': 0.96}\n",
    "h = 0.6777\n",
    "cosmology.addCosmology('SMDPL',params) # this is what Song had me use when doing the sat frac\n",
    "cosmo = cosmology.setCosmology('SMDPL')"
   ]
  },
  {
   "cell_type": "markdown",
   "metadata": {},
   "source": [
    "All units are currently in comoving Mpc/h"
   ]
  },
  {
   "cell_type": "markdown",
   "metadata": {},
   "source": [
    "#### True satellite fractions for number reference"
   ]
  },
  {
   "cell_type": "code",
   "execution_count": 29,
   "metadata": {},
   "outputs": [],
   "source": [
    "centrals_true = um_table[um_table['upid'] == -1]\n",
    "sats_true = um_table[um_table['upid'] != -1]\n",
    "\n",
    "\n",
    "# from Song's satellite finding code\n",
    "mass_bins = [11.5, 11.6, 11.7, 11.8, 11.9, 12.0, 12.1, 12.2, 12.3]\n",
    "\n",
    "hist_all, edges_all = np.histogram(um_table['logms_max'], bins=mass_bins)\n",
    "hist_cen, edges_cen = np.histogram(centrals_true['logms_max'], bins=mass_bins)\n",
    "hist_sat, edges_sat = np.histogram(sats_true['logms_max'], bins=mass_bins)\n",
    "\n",
    "mass_center_true = np.log10((10**edges_all[1:] + 10**edges_all[:-1]) / 2)\n",
    "\n",
    "f_sat_true = (hist_sat / hist_all) * 100"
   ]
  },
  {
   "cell_type": "code",
   "execution_count": 30,
   "metadata": {},
   "outputs": [],
   "source": [
    "# cut model table like marie mentioned\n",
    "\n",
    "# Cut in Mh_vir to speed things up\n",
    "stellarcut_indices = np.where(um_table['logms_max'] > 11.5)[0]\n",
    "\n",
    "# row index where 95% of galaxies with M_* > 11.5 are above it\n",
    "last_idx = stellarcut_indices[int(len(stellarcut_indices)*0.99)]\n",
    "UM_cut = um_table[0:last_idx]\n",
    "\n",
    "# get virial radii\n",
    "mvir = UM_cut['logmh_vir']\n",
    "\n",
    "# m_to_r use 'vir' definition\n",
    "r_h = mass_so.M_to_R((10**mvir)*h , model_z, 'vir') * 1e-3 * 1.37 #comoving Mpc/h\n",
    "UM_cut['r_vir'] = r_h\n",
    "\n",
    "# Make an index column\n",
    "UM_cut['index'] = np.zeros(len(UM_cut['logms_max']))\n",
    "UM_cut['flag'] = np.zeros(len(UM_cut['logms_max']))\n",
    "\n",
    "for i in range(len(UM_cut['index'])):\n",
    "     UM_cut['index'][i] = i"
   ]
  },
  {
   "cell_type": "markdown",
   "metadata": {},
   "source": [
    "* Now I want to develop a new satellite finding function using `halotools`"
   ]
  },
  {
   "cell_type": "code",
   "execution_count": 31,
   "metadata": {},
   "outputs": [],
   "source": [
    "from halotools.mock_observables import counts_in_cylinders"
   ]
  },
  {
   "cell_type": "code",
   "execution_count": 32,
   "metadata": {},
   "outputs": [],
   "source": [
    "# first, see if I can identify satellites of a single central\n",
    "\n",
    "def CiC_satellite(i, in_table , full_cat, half_length):\n",
    "    \n",
    "    # define \"central\" galaxy of interest\n",
    "    central_galaxy = in_table[i]\n",
    "    \n",
    "    # make a copy of the table where m < m_central\n",
    "    cat_use = copy.deepcopy(full_cat[(full_cat['logms_max'] > central_galaxy['logms_max'])])\n",
    "    # cat_use = copy.deepcopy(in_table)\n",
    "    \n",
    "    # now I need arrays to input into halotools x1,y1,z1 = cent, x2,y2,z2 = the rest\n",
    "    \n",
    "    # positional args\n",
    "    x1, y1, z1 = central_galaxy['x'], central_galaxy['y'], central_galaxy['z_dist']\n",
    "    sample1 = np.vstack([x1, y1, z1]).T\n",
    "    x2, y2, z2 = cat_use['x'], cat_use['y'], cat_use['z_dist']\n",
    "    sample2 = np.vstack([x2, y2, z2]).T\n",
    "    \n",
    "    # virial radius of central\n",
    "    rvir_cent = central_galaxy['r_vir']\n",
    "    \n",
    "    box = 400 # um box size\n",
    "    \n",
    "    pairs, indices = counts_in_cylinders( sample1, sample2, proj_search_radius = rvir_cent,\n",
    "                                        cylinder_half_length = half_length, period = box, return_indexes = True)\n",
    "    return(pairs, indices)"
   ]
  },
  {
   "cell_type": "code",
   "execution_count": 33,
   "metadata": {},
   "outputs": [
    {
     "name": "stdout",
     "output_type": "stream",
     "text": [
      "[0] []\n"
     ]
    }
   ],
   "source": [
    "# test that the function will find satellites\n",
    "pair, index = CiC_satellite(1, UM_cut, UM_cut, 15)\n",
    "print(pair, index)"
   ]
  },
  {
   "cell_type": "markdown",
   "metadata": {},
   "source": [
    "Awesome! That also works super fast. Now, like I did in the previous analysis, I will write a partner function to iterate over this one and flag the satellites."
   ]
  },
  {
   "cell_type": "markdown",
   "metadata": {},
   "source": [
    "Try with a smaller sample:"
   ]
  },
  {
   "cell_type": "code",
   "execution_count": 34,
   "metadata": {},
   "outputs": [],
   "source": [
    "bin_11_5 = Table(names = UM_cut.colnames)\n",
    "bin_11_6 = Table(names = UM_cut.colnames)\n",
    "bin_11_7 = Table(names = UM_cut.colnames)\n",
    "bin_11_8 = Table(names = UM_cut.colnames)\n",
    "bin_11_9 = Table(names = UM_cut.colnames)\n",
    "bin_12_0 = Table(names = UM_cut.colnames)\n",
    "bin_12_1 = Table(names = UM_cut.colnames)\n",
    "bin_12_2 = Table(names = UM_cut.colnames)\n",
    "\n",
    "for i in range(len(UM_cut)):\n",
    "    if UM_cut['logms_max'][i] > 11.5 and UM_cut['logms_max'][i] < 11.6:\n",
    "        bin_11_5.add_row(UM_cut[i])\n",
    "    if UM_cut['logms_max'][i] > 11.6 and UM_cut['logms_max'][i] < 11.7:\n",
    "        bin_11_6.add_row(UM_cut[i])\n",
    "    if UM_cut['logms_max'][i] > 11.7 and UM_cut['logms_max'][i] < 11.8:\n",
    "        bin_11_7.add_row(UM_cut[i])\n",
    "    if UM_cut['logms_max'][i] > 11.8 and UM_cut['logms_max'][i] < 11.9:\n",
    "        bin_11_8.add_row(UM_cut[i])\n",
    "    if UM_cut['logms_max'][i] > 11.9 and UM_cut['logms_max'][i] < 12.0:\n",
    "        bin_11_9.add_row(UM_cut[i])\n",
    "    if UM_cut['logms_max'][i] > 12.0 and UM_cut['logms_max'][i] < 12.1:\n",
    "        bin_12_0.add_row(UM_cut[i])\n",
    "    if UM_cut['logms_max'][i] > 12.1 and UM_cut['logms_max'][i] < 12.2:\n",
    "        bin_12_1.add_row(UM_cut[i])\n",
    "    if UM_cut['logms_max'][i] > 12.2:\n",
    "        bin_12_2.add_row(UM_cut[i])"
   ]
  },
  {
   "cell_type": "code",
   "execution_count": 35,
   "metadata": {},
   "outputs": [],
   "source": [
    "bin_11_5_counts = []\n",
    "bin_11_6_counts = []\n",
    "bin_11_7_counts = []\n",
    "bin_11_8_counts = []\n",
    "bin_11_9_counts = []\n",
    "bin_12_0_counts = []\n",
    "bin_12_1_counts = []\n",
    "bin_12_2_counts = []\n",
    "\n",
    "for i in range(len(bin_11_5)):\n",
    "    bin_11_5_counts.append(CiC_satellite(i, bin_11_5, UM_cut, 20)[0][0])\n",
    "for i in range(len(bin_11_6)):\n",
    "    bin_11_6_counts.append(CiC_satellite(i, bin_11_6, UM_cut, 20)[0][0])\n",
    "for i in range(len(bin_11_7)):\n",
    "    bin_11_7_counts.append(CiC_satellite(i, bin_11_7, UM_cut, 20)[0][0])\n",
    "for i in range(len(bin_11_8)):\n",
    "    bin_11_8_counts.append(CiC_satellite(i, bin_11_8, UM_cut, 20)[0][0])\n",
    "for i in range(len(bin_11_9)):\n",
    "    bin_11_9_counts.append(CiC_satellite(i, bin_11_9, UM_cut, 20)[0][0])\n",
    "for i in range(len(bin_12_0)):\n",
    "    bin_12_0_counts.append(CiC_satellite(i, bin_12_0, UM_cut, 20)[0][0])\n",
    "for i in range(len(bin_12_1)):\n",
    "    bin_12_1_counts.append(CiC_satellite(i, bin_12_1, UM_cut, 20)[0][0])\n",
    "for i in range(len(bin_12_2)):\n",
    "    bin_12_2_counts.append(CiC_satellite(i, bin_12_2, UM_cut, 20)[0][0])"
   ]
  },
  {
   "cell_type": "code",
   "execution_count": 36,
   "metadata": {},
   "outputs": [],
   "source": [
    "bins = [0,1,2,3,4,5,6,7]\n",
    "hist_11_5, edges_11_5 = np.histogram(bin_11_5_counts,bins)\n",
    "hist_11_6, edges_11_6 = np.histogram(bin_11_6_counts,bins)\n",
    "hist_11_7, edges_11_7 = np.histogram(bin_11_7_counts,bins)\n",
    "hist_11_8, edges_11_8 = np.histogram(bin_11_8_counts,bins)\n",
    "hist_11_9, edges_11_9 = np.histogram(bin_11_9_counts,bins)\n",
    "hist_12_0, edges_12_0 = np.histogram(bin_12_0_counts,bins)\n",
    "hist_12_1, edges_12_1 = np.histogram(bin_12_1_counts,bins)\n",
    "hist_12_2, edges_12_2 = np.histogram(bin_12_2_counts,bins)"
   ]
  },
  {
   "cell_type": "code",
   "execution_count": 37,
   "metadata": {},
   "outputs": [],
   "source": [
    "mean_11_5 = (0*hist_11_5[0] + 1*hist_11_5[1] + 2*hist_11_5[2])/sum(hist_11_5)\n",
    "mean_11_6 = (0*hist_11_6[0] + 1*hist_11_6[1] + 2*hist_11_6[2])/sum(hist_11_6)\n",
    "mean_11_7 = (0*hist_11_7[0] + 1*hist_11_7[1] + 2*hist_11_7[2])/sum(hist_11_7)\n",
    "mean_11_8 = (0*hist_11_8[0] + 1*hist_11_8[1] + 2*hist_11_8[2])/sum(hist_11_8)\n",
    "mean_11_9 = (0*hist_11_9[0] + 1*hist_11_9[1] + 2*hist_11_9[2])/sum(hist_11_9)\n",
    "mean_12_0 = (0*hist_12_0[0] + 1*hist_12_0[1] + 2*hist_12_0[2])/sum(hist_12_0)\n",
    "mean_12_1 = (0*hist_12_1[0] + 1*hist_12_1[1] + 2*hist_12_1[2])/sum(hist_12_1)\n",
    "mean_12_2 = (0*hist_12_2[0] + 1*hist_12_2[1] + 2*hist_12_2[2])/sum(hist_12_2)\n",
    "\n",
    "means = [mean_11_5, mean_11_6, mean_11_7, mean_11_8, mean_11_9, mean_12_0, mean_12_1, mean_12_2]"
   ]
  },
  {
   "cell_type": "code",
   "execution_count": 38,
   "metadata": {},
   "outputs": [
    {
     "data": {
      "text/plain": [
       "<matplotlib.collections.PathCollection at 0x1a38dbdb70>"
      ]
     },
     "execution_count": 38,
     "metadata": {},
     "output_type": "execute_result"
    },
    {
     "data": {
      "image/png": "[encoded data removed]",
      "text/plain": [
       "<matplotlib.figure.Figure at 0x1a2c174c50>"
      ]
     },
     "metadata": {
      "image/png": {
       "height": 333,
       "width": 478
      }
     },
     "output_type": "display_data"
    }
   ],
   "source": [
    "fig = plt.figure(figsize = [7,5])\n",
    "ax1 = fig.add_subplot(111)\n",
    "ax1.grid(linewidth=1, linestyle='--', alpha=0.5)\n",
    "\n",
    "for tick in ax1.xaxis.get_major_ticks():\n",
    "    tick.label.set_fontsize(15) \n",
    "for tick in ax1.yaxis.get_major_ticks():\n",
    "    tick.label.set_fontsize(15)\n",
    "\n",
    "ax1.set_ylabel(r'$ \\bar{N}_{\\rm in cyl}$', fontsize = 20)\n",
    "ax1.set_xlabel(r'$\\log \\rm M_{\\star}$', fontsize = 20)\n",
    "ax1.scatter(mass_center_true, means)"
   ]
  },
  {
   "cell_type": "markdown",
   "metadata": {},
   "source": [
    "### Now try getting he PDR data curve. `halotools` doesn't like our coordinates (ra, dec, z), so I'll write my own (similar) function"
   ]
  },
  {
   "cell_type": "code",
   "execution_count": 39,
   "metadata": {},
   "outputs": [],
   "source": [
    "def pdr_pairs(i, in_table, z_lim): \n",
    "    \n",
    "    # the object we choose here is going to be a central by the way we have defined things\n",
    "    cent_gal = in_table[i] \n",
    "    \n",
    "    # this was a trick that song used to make a new catalog for the other objects of interest.\n",
    "    # the utility is that we don't have to loop through the whole catalog EVERY TIME\n",
    "    cat_use = copy.deepcopy(pdr_use[(pdr_use['logm_max'] > cent_gal['logm_max'])])\n",
    "    \n",
    "    \n",
    "    # find the galaxies within the delta z limit\n",
    "    dz= cat_use[np.abs(cent_gal['z_best'] - cat_use['z_best']) <= z_lim]\n",
    "    \n",
    "    pair_index = [] # list of indices of objects within cylinder\n",
    "    \n",
    "    if len(dz) > 0:\n",
    "        # find separation for gals within dz\n",
    "        dz['sep'] = SkyCoord(cent_gal['ra']*u.deg, cent_gal['dec']*u.deg).separation(SkyCoord(dz['ra']*u.deg, dz['dec']*u.deg)).degree \n",
    "    for i in range(len(dz)):\n",
    "        if dz['sep'][i] <= cent_gal['r_vir']:\n",
    "            pair_index.append(dz['index'][i])\n",
    "            \n",
    "    num_pairs = len(pair_index)\n",
    "    \n",
    "    return(num_pairs)"
   ]
  },
  {
   "cell_type": "code",
   "execution_count": 40,
   "metadata": {},
   "outputs": [],
   "source": [
    "# useful quantities\n",
    "pdr_use['index'] = np.zeros(len(pdr_use['logm_max']))\n",
    "for i in range(len(pdr_use['index'])):\n",
    "    pdr_use['index'][i] = i\n",
    "\n",
    "# Now to find r_halo\n",
    "r_halo = mass_so.M_to_R((10**pdr_use['logmh_vir'])*h , pdr_use['z_best'], 'vir')/h #kpc\n",
    "\n",
    "# Turn the physical radius into an angular size in degrees\n",
    "theta_per_kpc = FlatLambdaCDM(H0=70 , Om0= 0.3).arcsec_per_kpc_proper(pdr_use['z_best'])\n",
    "pdr_use['r_vir'] = ((r_halo*u.kpc * theta_per_kpc).to(u.deg))/u.deg"
   ]
  },
  {
   "cell_type": "code",
   "execution_count": 73,
   "metadata": {},
   "outputs": [],
   "source": [
    "# attempt to clean up the process\n",
    "mass_binned_tables = [Table(names = pdr_use.colnames), Table(names = pdr_use.colnames), \n",
    "                      Table(names = pdr_use.colnames), Table(names = pdr_use.colnames),\n",
    "                      Table(names = pdr_use.colnames), Table(names = pdr_use.colnames),\n",
    "                      Table(names = pdr_use.colnames), Table(names = pdr_use.colnames)]\n",
    "\n",
    "for i in range(len(pdr_use)):\n",
    "    if pdr_use['logm_max'][i] > 11.5 and pdr_use['logm_max'][i] < 11.6:\n",
    "        mass_binned_tables[0].add_row(pdr_use[i])\n",
    "    if pdr_use['logm_max'][i] > 11.6 and pdr_use['logm_max'][i] < 11.7:\n",
    "        mass_binned_tables[1].add_row(pdr_use[i])\n",
    "    if pdr_use['logm_max'][i] > 11.7 and pdr_use['logm_max'][i] < 11.8:\n",
    "        mass_binned_tables[2].add_row(pdr_use[i])\n",
    "    if pdr_use['logm_max'][i] > 11.8 and pdr_use['logm_max'][i] < 11.9:\n",
    "        mass_binned_tables[3].add_row(pdr_use[i])\n",
    "    if pdr_use['logm_max'][i] > 11.9 and pdr_use['logm_max'][i] < 12.0:\n",
    "        mass_binned_tables[4].add_row(pdr_use[i])\n",
    "    if pdr_use['logm_max'][i] > 12.0 and pdr_use['logm_max'][i] < 12.1:\n",
    "        mass_binned_tables[5].add_row(pdr_use[i])\n",
    "    if pdr_use['logm_max'][i] > 12.1 and pdr_use['logm_max'][i] < 12.2:\n",
    "        mass_binned_tables[6].add_row(pdr_use[i])\n",
    "    if pdr_use['logm_max'][i] > 12.2:\n",
    "        mass_binned_tables[7].add_row(pdr_use[i])"
   ]
  },
  {
   "cell_type": "code",
   "execution_count": 96,
   "metadata": {},
   "outputs": [],
   "source": [
    "counts = ([[], [], [], [], [], [], [], []]) # empty array to populate with counts\n",
    "# now actually do CiC\n",
    "for i in range(len(mass_binned_tables)):\n",
    "    for j in range(len(mass_binned_tables[i])):\n",
    "        counts[i].append(pdr_pairs(j, mass_binned_tables[i], .008))"
   ]
  },
  {
   "cell_type": "code",
   "execution_count": 101,
   "metadata": {},
   "outputs": [
    {
     "name": "stdout",
     "output_type": "stream",
     "text": [
      "4\n",
      "2\n",
      "1\n",
      "1\n",
      "1\n",
      "0\n",
      "0\n",
      "0\n"
     ]
    }
   ],
   "source": [
    "for i in range(len(counts)):\n",
    "    print( np.max(counts[i]))"
   ]
  },
  {
   "cell_type": "code",
   "execution_count": 66,
   "metadata": {},
   "outputs": [
    {
     "data": {
      "text/plain": [
       "<Container object of 3 artists>"
      ]
     },
     "execution_count": 66,
     "metadata": {},
     "output_type": "execute_result"
    },
    {
     "data": {
      "image/png": "[encoded data removed]",
      "text/plain": [
       "<matplotlib.figure.Figure at 0x1a3173a978>"
      ]
     },
     "metadata": {
      "image/png": {
       "height": 333,
       "width": 465
      }
     },
     "output_type": "display_data"
    }
   ],
   "source": [
    "bin_11_5 = Table(names = pdr_use.colnames)\n",
    "bin_11_6 = Table(names = pdr_use.colnames)\n",
    "bin_11_7 = Table(names = pdr_use.colnames)\n",
    "bin_11_8 = Table(names = pdr_use.colnames)\n",
    "bin_11_9 = Table(names = pdr_use.colnames)\n",
    "bin_12_0 = Table(names = pdr_use.colnames)\n",
    "bin_12_1 = Table(names = pdr_use.colnames)\n",
    "bin_12_2 = Table(names = pdr_use.colnames)\n",
    "\n",
    "\n",
    "for i in range(len(pdr_use)):\n",
    "    if pdr_use['logm_max'][i] > 11.5 and pdr_use['logm_max'][i] < 11.6:\n",
    "        bin_11_5.add_row(pdr_use[i])\n",
    "    if pdr_use['logm_max'][i] > 11.6 and pdr_use['logm_max'][i] < 11.7:\n",
    "        bin_11_6.add_row(pdr_use[i])\n",
    "    if pdr_use['logm_max'][i] > 11.7 and pdr_use['logm_max'][i] < 11.8:\n",
    "        bin_11_7.add_row(pdr_use[i])\n",
    "    if pdr_use['logm_max'][i] > 11.8 and pdr_use['logm_max'][i] < 11.9:\n",
    "        bin_11_8.add_row(pdr_use[i])\n",
    "    if pdr_use['logm_max'][i] > 11.9 and pdr_use['logm_max'][i] < 12.0:\n",
    "        bin_11_9.add_row(pdr_use[i])\n",
    "    if pdr_use['logm_max'][i] > 12.0 and pdr_use['logm_max'][i] < 12.1:\n",
    "        bin_12_0.add_row(pdr_use[i])\n",
    "    if pdr_use['logm_max'][i] > 12.1 and pdr_use['logm_max'][i] < 12.2:\n",
    "        bin_12_1.add_row(pdr_use[i])\n",
    "    if pdr_use['logm_max'][i] > 12.2:\n",
    "        bin_12_2.add_row(pdr_use[i])\n",
    "        \n",
    "bin_11_5_counts = []\n",
    "bin_11_6_counts = []\n",
    "bin_11_7_counts = []\n",
    "bin_11_8_counts = []\n",
    "bin_11_9_counts = []\n",
    "bin_12_0_counts = []\n",
    "bin_12_1_counts = []\n",
    "bin_12_2_counts = []\n",
    "\n",
    "\n",
    "for i in range(len(bin_11_5)):\n",
    "    bin_11_5_counts.append(pdr_pairs(i, bin_11_5, .008))\n",
    "for i in range(len(bin_11_6)):\n",
    "    bin_11_6_counts.append(pdr_pairs(i, bin_11_6, .008))\n",
    "for i in range(len(bin_11_7)):\n",
    "    bin_11_7_counts.append(pdr_pairs(i, bin_11_7, .008))\n",
    "for i in range(len(bin_11_8)):\n",
    "    bin_11_8_counts.append(pdr_pairs(i, bin_11_8, .008))\n",
    "for i in range(len(bin_11_9)):\n",
    "    bin_11_9_counts.append(pdr_pairs(i, bin_11_9, .008))\n",
    "for i in range(len(bin_12_0)):\n",
    "    bin_12_0_counts.append(pdr_pairs(i, bin_12_0, .008))\n",
    "for i in range(len(bin_12_1)):\n",
    "    bin_12_1_counts.append(pdr_pairs(i, bin_12_1, .008))\n",
    "for i in range(len(bin_12_2)):\n",
    "    bin_12_2_counts.append(pdr_pairs(i, bin_12_2, .008))\n",
    "    \n",
    "bins = [0,1,2,3,4,5,6,7]\n",
    "hist_11_5, edges_11_5 = np.histogram(bin_11_5_counts,bins)\n",
    "hist_11_6, edges_11_6 = np.histogram(bin_11_6_counts,bins)\n",
    "hist_11_7, edges_11_7 = np.histogram(bin_11_7_counts,bins)\n",
    "hist_11_8, edges_11_8 = np.histogram(bin_11_8_counts,bins)\n",
    "hist_11_9, edges_11_9 = np.histogram(bin_11_9_counts,bins)\n",
    "hist_12_0, edges_12_0 = np.histogram(bin_12_0_counts,bins)\n",
    "hist_12_1, edges_12_1 = np.histogram(bin_12_1_counts,bins)\n",
    "hist_12_2, edges_12_2 = np.histogram(bin_12_2_counts,bins)\n",
    "\n",
    "mean_11_5 = (0*hist_11_5[0] + 1*hist_11_5[1] + 2*hist_11_5[2] + 3*hist_11_5[3])/sum(hist_11_5)\n",
    "mean_11_6 = (0*hist_11_6[0] + 1*hist_11_6[1] + 2*hist_11_6[2])/sum(hist_11_6)\n",
    "mean_11_7 = (0*hist_11_7[0] + 1*hist_11_7[1] + 2*hist_11_7[2])/sum(hist_11_7)\n",
    "mean_11_8 = (0*hist_11_8[0] + 1*hist_11_8[1] + 2*hist_11_8[2])/sum(hist_11_8)\n",
    "mean_11_9 = (0*hist_11_9[0] + 1*hist_11_9[1] + 2*hist_11_9[2])/sum(hist_11_9)\n",
    "mean_12_0 = (0*hist_12_0[0] + 1*hist_12_0[1] + 2*hist_12_0[2])/sum(hist_12_0)\n",
    "mean_12_1 = (0*hist_12_1[0] + 1*hist_12_1[1] + 2*hist_12_1[2])/sum(hist_12_1)\n",
    "mean_12_2 = (0*hist_12_2[0] + 1*hist_12_2[1] + 2*hist_12_2[2])/sum(hist_12_2)\n",
    "\n",
    "means = [mean_11_5, mean_11_6, mean_11_7, mean_11_8, mean_11_9, mean_12_0, mean_12_1, mean_12_2]\n",
    "\n",
    "err = [np.sqrt(sum(hist_11_5))/sum(hist_11_5),\n",
    "      np.sqrt(sum(hist_11_6))/sum(hist_11_6),\n",
    "      np.sqrt(sum(hist_11_7))/sum(hist_11_7),\n",
    "      np.sqrt(sum(hist_11_8))/sum(hist_11_8),0,0,0,0]\n",
    "#      np.sqrt(sum(hist_11_9))/sum(hist_11_9),\n",
    "#      np.sqrt(sum(hist_12_0))/sum(hist_12_0),\n",
    "#      np.sqrt(sum(hist_12_1))/sum(hist_12_1),\n",
    "#      np.sqrt(sum(hist_12_2))/sum(hist_12_2)]\n",
    "\n",
    "fig = plt.figure(figsize = [7,5])\n",
    "ax1 = fig.add_subplot(111)\n",
    "ax1.grid(linewidth=1, linestyle='--', alpha=0.5)\n",
    "\n",
    "for tick in ax1.xaxis.get_major_ticks():\n",
    "    tick.label.set_fontsize(15) \n",
    "for tick in ax1.yaxis.get_major_ticks():\n",
    "    tick.label.set_fontsize(15)\n",
    "\n",
    "ax1.set_ylabel(r'$ \\bar{N}_{\\rm in}$', fontsize = 20)\n",
    "ax1.set_xlabel(r'$\\log \\rm M_{\\star}$', fontsize = 20)\n",
    "ax1.errorbar(mass_center_true, means, fmt = 'o')"
   ]
  },
  {
   "cell_type": "markdown",
   "metadata": {},
   "source": [
    "## Now I want to work with randoms. The first thing I'm going to do is set up the table and check that the catalog Song sent is for the correct region."
   ]
  },
  {
   "cell_type": "code",
   "execution_count": 52,
   "metadata": {},
   "outputs": [
    {
     "data": {
      "text/html": [
       "<i>Table length=500000</i>\n",
       "<table id=\"table112423105368\" class=\"table-striped table-bordered table-condensed\">\n",
       "<thead><tr><th>ra</th><th>dec</th><th>field</th><th>jk</th><th>redshift</th><th>z</th></tr></thead>\n",
       "<thead><tr><th>float64</th><th>float64</th><th>int64</th><th>int64</th><th>float64</th><th>float64</th></tr></thead>\n",
       "<tr><td>29.932068028235665</td><td>-3.990383163553301</td><td>5</td><td>0</td><td>0.0</td><td>0.823228405030071</td></tr>\n",
       "<tr><td>132.71031544050894</td><td>1.1812907640265562</td><td>1</td><td>0</td><td>0.0</td><td>0.7173560438258898</td></tr>\n",
       "<tr><td>140.12196091406872</td><td>3.240460489530151</td><td>1</td><td>0</td><td>0.0</td><td>0.257594664133045</td></tr>\n",
       "<tr><td>136.49921258499833</td><td>-1.0299306731749192</td><td>1</td><td>0</td><td>0.0</td><td>0.7246959564215889</td></tr>\n",
       "<tr><td>237.246892560633</td><td>42.47810251960571</td><td>4</td><td>0</td><td>0.0</td><td>0.356747536865089</td></tr>\n",
       "<tr><td>221.91656450744262</td><td>0.6307976659972396</td><td>2</td><td>0</td><td>0.0</td><td>0.47977608822262463</td></tr>\n",
       "<tr><td>216.01995830503026</td><td>-0.8049424725083352</td><td>2</td><td>0</td><td>0.0</td><td>0.6853082039340612</td></tr>\n",
       "<tr><td>334.04642925504425</td><td>1.5125417691335883</td><td>6</td><td>0</td><td>0.0</td><td>0.2874827387193755</td></tr>\n",
       "<tr><td>36.71679133447393</td><td>-2.729743420142457</td><td>5</td><td>0</td><td>0.0</td><td>0.339125399445356</td></tr>\n",
       "<tr><td>129.5571624272636</td><td>1.0940313071496814</td><td>1</td><td>0</td><td>0.0</td><td>0.7536696345553446</td></tr>\n",
       "<tr><td>...</td><td>...</td><td>...</td><td>...</td><td>...</td><td>...</td></tr>\n",
       "<tr><td>38.7779147437708</td><td>-4.332490359737966</td><td>5</td><td>0</td><td>0.0</td><td>0.33013531689842107</td></tr>\n",
       "<tr><td>129.50359922253108</td><td>1.7572382527150838</td><td>1</td><td>0</td><td>0.0</td><td>0.9478591060568823</td></tr>\n",
       "<tr><td>339.4069762111447</td><td>1.5128234539053944</td><td>6</td><td>0</td><td>0.0</td><td>0.5400306549292747</td></tr>\n",
       "<tr><td>139.60377339238275</td><td>3.938338335473159</td><td>1</td><td>0</td><td>0.0</td><td>0.5970662448226968</td></tr>\n",
       "<tr><td>333.5352737500419</td><td>0.17045061500149164</td><td>6</td><td>0</td><td>0.0</td><td>0.27153955867985347</td></tr>\n",
       "<tr><td>139.2397443148299</td><td>2.4410751419845784</td><td>1</td><td>0</td><td>0.0</td><td>0.5473626366595342</td></tr>\n",
       "<tr><td>34.54353969091038</td><td>-6.127839794324354</td><td>5</td><td>0</td><td>0.0</td><td>0.09498560980944872</td></tr>\n",
       "<tr><td>218.16470803061213</td><td>0.4512644843908812</td><td>2</td><td>0</td><td>0.0</td><td>0.8725561534642744</td></tr>\n",
       "<tr><td>31.141281122990325</td><td>-6.06677411920933</td><td>5</td><td>0</td><td>0.0</td><td>0.9215047884350489</td></tr>\n",
       "<tr><td>139.71563561078545</td><td>-0.2837180797198162</td><td>1</td><td>0</td><td>0.0</td><td>0.49922878215057787</td></tr>\n",
       "</table>"
      ],
      "text/plain": [
       "<Table length=500000>\n",
       "        ra                 dec         field   jk  redshift          z         \n",
       "     float64             float64       int64 int64 float64        float64      \n",
       "------------------ ------------------- ----- ----- -------- -------------------\n",
       "29.932068028235665  -3.990383163553301     5     0      0.0   0.823228405030071\n",
       "132.71031544050894  1.1812907640265562     1     0      0.0  0.7173560438258898\n",
       "140.12196091406872   3.240460489530151     1     0      0.0   0.257594664133045\n",
       "136.49921258499833 -1.0299306731749192     1     0      0.0  0.7246959564215889\n",
       "  237.246892560633   42.47810251960571     4     0      0.0   0.356747536865089\n",
       "221.91656450744262  0.6307976659972396     2     0      0.0 0.47977608822262463\n",
       "216.01995830503026 -0.8049424725083352     2     0      0.0  0.6853082039340612\n",
       "334.04642925504425  1.5125417691335883     6     0      0.0  0.2874827387193755\n",
       " 36.71679133447393  -2.729743420142457     5     0      0.0   0.339125399445356\n",
       " 129.5571624272636  1.0940313071496814     1     0      0.0  0.7536696345553446\n",
       "               ...                 ...   ...   ...      ...                 ...\n",
       "  38.7779147437708  -4.332490359737966     5     0      0.0 0.33013531689842107\n",
       "129.50359922253108  1.7572382527150838     1     0      0.0  0.9478591060568823\n",
       " 339.4069762111447  1.5128234539053944     6     0      0.0  0.5400306549292747\n",
       "139.60377339238275   3.938338335473159     1     0      0.0  0.5970662448226968\n",
       " 333.5352737500419 0.17045061500149164     6     0      0.0 0.27153955867985347\n",
       " 139.2397443148299  2.4410751419845784     1     0      0.0  0.5473626366595342\n",
       " 34.54353969091038  -6.127839794324354     5     0      0.0 0.09498560980944872\n",
       "218.16470803061213  0.4512644843908812     2     0      0.0  0.8725561534642744\n",
       "31.141281122990325   -6.06677411920933     5     0      0.0  0.9215047884350489\n",
       "139.71563561078545 -0.2837180797198162     1     0      0.0 0.49922878215057787"
      ]
     },
     "execution_count": 52,
     "metadata": {},
     "output_type": "execute_result"
    }
   ],
   "source": [
    "# path to the data file\n",
    "random_file = data_pth +'s16a_random_500k.npy'\n",
    "\n",
    "# read in the array and make a table\n",
    "randoms = Table(np.load(random_file))\n",
    "randoms"
   ]
  },
  {
   "cell_type": "markdown",
   "metadata": {},
   "source": [
    "It looks like the information we actually need here is in the `ra`, `dec`, and `z` columns. In fact, we actually want to replace every value  in the `z` column with a random redshift from our sample. I will write up some quick code to do so."
   ]
  },
  {
   "cell_type": "code",
   "execution_count": 54,
   "metadata": {},
   "outputs": [
    {
     "data": {
      "text/html": [
       "<i>Table length=500000</i>\n",
       "<table id=\"table112423105368\" class=\"table-striped table-bordered table-condensed\">\n",
       "<thead><tr><th>ra</th><th>dec</th><th>z</th></tr></thead>\n",
       "<thead><tr><th>float64</th><th>float64</th><th>float64</th></tr></thead>\n",
       "<tr><td>29.932068028235665</td><td>-3.990383163553301</td><td>0.823228405030071</td></tr>\n",
       "<tr><td>132.71031544050894</td><td>1.1812907640265562</td><td>0.7173560438258898</td></tr>\n",
       "<tr><td>140.12196091406872</td><td>3.240460489530151</td><td>0.257594664133045</td></tr>\n",
       "<tr><td>136.49921258499833</td><td>-1.0299306731749192</td><td>0.7246959564215889</td></tr>\n",
       "<tr><td>237.246892560633</td><td>42.47810251960571</td><td>0.356747536865089</td></tr>\n",
       "<tr><td>221.91656450744262</td><td>0.6307976659972396</td><td>0.47977608822262463</td></tr>\n",
       "<tr><td>216.01995830503026</td><td>-0.8049424725083352</td><td>0.6853082039340612</td></tr>\n",
       "<tr><td>334.04642925504425</td><td>1.5125417691335883</td><td>0.2874827387193755</td></tr>\n",
       "<tr><td>36.71679133447393</td><td>-2.729743420142457</td><td>0.339125399445356</td></tr>\n",
       "<tr><td>129.5571624272636</td><td>1.0940313071496814</td><td>0.7536696345553446</td></tr>\n",
       "<tr><td>...</td><td>...</td><td>...</td></tr>\n",
       "<tr><td>38.7779147437708</td><td>-4.332490359737966</td><td>0.33013531689842107</td></tr>\n",
       "<tr><td>129.50359922253108</td><td>1.7572382527150838</td><td>0.9478591060568823</td></tr>\n",
       "<tr><td>339.4069762111447</td><td>1.5128234539053944</td><td>0.5400306549292747</td></tr>\n",
       "<tr><td>139.60377339238275</td><td>3.938338335473159</td><td>0.5970662448226968</td></tr>\n",
       "<tr><td>333.5352737500419</td><td>0.17045061500149164</td><td>0.27153955867985347</td></tr>\n",
       "<tr><td>139.2397443148299</td><td>2.4410751419845784</td><td>0.5473626366595342</td></tr>\n",
       "<tr><td>34.54353969091038</td><td>-6.127839794324354</td><td>0.09498560980944872</td></tr>\n",
       "<tr><td>218.16470803061213</td><td>0.4512644843908812</td><td>0.8725561534642744</td></tr>\n",
       "<tr><td>31.141281122990325</td><td>-6.06677411920933</td><td>0.9215047884350489</td></tr>\n",
       "<tr><td>139.71563561078545</td><td>-0.2837180797198162</td><td>0.49922878215057787</td></tr>\n",
       "</table>"
      ],
      "text/plain": [
       "<Table length=500000>\n",
       "        ra                 dec                  z         \n",
       "     float64             float64             float64      \n",
       "------------------ ------------------- -------------------\n",
       "29.932068028235665  -3.990383163553301   0.823228405030071\n",
       "132.71031544050894  1.1812907640265562  0.7173560438258898\n",
       "140.12196091406872   3.240460489530151   0.257594664133045\n",
       "136.49921258499833 -1.0299306731749192  0.7246959564215889\n",
       "  237.246892560633   42.47810251960571   0.356747536865089\n",
       "221.91656450744262  0.6307976659972396 0.47977608822262463\n",
       "216.01995830503026 -0.8049424725083352  0.6853082039340612\n",
       "334.04642925504425  1.5125417691335883  0.2874827387193755\n",
       " 36.71679133447393  -2.729743420142457   0.339125399445356\n",
       " 129.5571624272636  1.0940313071496814  0.7536696345553446\n",
       "               ...                 ...                 ...\n",
       "  38.7779147437708  -4.332490359737966 0.33013531689842107\n",
       "129.50359922253108  1.7572382527150838  0.9478591060568823\n",
       " 339.4069762111447  1.5128234539053944  0.5400306549292747\n",
       "139.60377339238275   3.938338335473159  0.5970662448226968\n",
       " 333.5352737500419 0.17045061500149164 0.27153955867985347\n",
       " 139.2397443148299  2.4410751419845784  0.5473626366595342\n",
       " 34.54353969091038  -6.127839794324354 0.09498560980944872\n",
       "218.16470803061213  0.4512644843908812  0.8725561534642744\n",
       "31.141281122990325   -6.06677411920933  0.9215047884350489\n",
       "139.71563561078545 -0.2837180797198162 0.49922878215057787"
      ]
     },
     "execution_count": 54,
     "metadata": {},
     "output_type": "execute_result"
    }
   ],
   "source": [
    "randoms.remove_columns(['field', 'jk', 'redshift'])\n",
    "randoms"
   ]
  },
  {
   "cell_type": "code",
   "execution_count": 55,
   "metadata": {},
   "outputs": [],
   "source": [
    "hsc_sample_z = pdr_use['z_best'] # all sample redshifts\n",
    "random_redshift_index = np.random.randint(len(hsc_sample_z), size = len(randoms))\n",
    "randoms['z'] = hsc_sample_z[random_redshift_index]"
   ]
  },
  {
   "cell_type": "code",
   "execution_count": 56,
   "metadata": {},
   "outputs": [
    {
     "data": {
      "text/html": [
       "<i>Table length=500000</i>\n",
       "<table id=\"table112423105368\" class=\"table-striped table-bordered table-condensed\">\n",
       "<thead><tr><th>ra</th><th>dec</th><th>z</th></tr></thead>\n",
       "<thead><tr><th>float64</th><th>float64</th><th>float64</th></tr></thead>\n",
       "<tr><td>29.932068028235665</td><td>-3.990383163553301</td><td>0.3325900137424469</td></tr>\n",
       "<tr><td>132.71031544050894</td><td>1.1812907640265562</td><td>0.2877100110054016</td></tr>\n",
       "<tr><td>140.12196091406872</td><td>3.240460489530151</td><td>0.31356000900268555</td></tr>\n",
       "<tr><td>136.49921258499833</td><td>-1.0299306731749192</td><td>0.40647000074386597</td></tr>\n",
       "<tr><td>237.246892560633</td><td>42.47810251960571</td><td>0.2991099953651428</td></tr>\n",
       "<tr><td>221.91656450744262</td><td>0.6307976659972396</td><td>0.3239299952983856</td></tr>\n",
       "<tr><td>216.01995830503026</td><td>-0.8049424725083352</td><td>0.2618499994277954</td></tr>\n",
       "<tr><td>334.04642925504425</td><td>1.5125417691335883</td><td>0.31711000204086304</td></tr>\n",
       "<tr><td>36.71679133447393</td><td>-2.729743420142457</td><td>0.3750179708003998</td></tr>\n",
       "<tr><td>129.5571624272636</td><td>1.0940313071496814</td><td>0.38345998525619507</td></tr>\n",
       "<tr><td>...</td><td>...</td><td>...</td></tr>\n",
       "<tr><td>38.7779147437708</td><td>-4.332490359737966</td><td>0.3392300009727478</td></tr>\n",
       "<tr><td>129.50359922253108</td><td>1.7572382527150838</td><td>0.34727001190185547</td></tr>\n",
       "<tr><td>339.4069762111447</td><td>1.5128234539053944</td><td>0.33087998628616333</td></tr>\n",
       "<tr><td>139.60377339238275</td><td>3.938338335473159</td><td>0.44053998589515686</td></tr>\n",
       "<tr><td>333.5352737500419</td><td>0.17045061500149164</td><td>0.3326728940010071</td></tr>\n",
       "<tr><td>139.2397443148299</td><td>2.4410751419845784</td><td>0.298770010471344</td></tr>\n",
       "<tr><td>34.54353969091038</td><td>-6.127839794324354</td><td>0.3794400095939636</td></tr>\n",
       "<tr><td>218.16470803061213</td><td>0.4512644843908812</td><td>0.2992500066757202</td></tr>\n",
       "<tr><td>31.141281122990325</td><td>-6.06677411920933</td><td>0.4454300105571747</td></tr>\n",
       "<tr><td>139.71563561078545</td><td>-0.2837180797198162</td><td>0.29833000898361206</td></tr>\n",
       "</table>"
      ],
      "text/plain": [
       "<Table length=500000>\n",
       "        ra                 dec                  z         \n",
       "     float64             float64             float64      \n",
       "------------------ ------------------- -------------------\n",
       "29.932068028235665  -3.990383163553301  0.3325900137424469\n",
       "132.71031544050894  1.1812907640265562  0.2877100110054016\n",
       "140.12196091406872   3.240460489530151 0.31356000900268555\n",
       "136.49921258499833 -1.0299306731749192 0.40647000074386597\n",
       "  237.246892560633   42.47810251960571  0.2991099953651428\n",
       "221.91656450744262  0.6307976659972396  0.3239299952983856\n",
       "216.01995830503026 -0.8049424725083352  0.2618499994277954\n",
       "334.04642925504425  1.5125417691335883 0.31711000204086304\n",
       " 36.71679133447393  -2.729743420142457  0.3750179708003998\n",
       " 129.5571624272636  1.0940313071496814 0.38345998525619507\n",
       "               ...                 ...                 ...\n",
       "  38.7779147437708  -4.332490359737966  0.3392300009727478\n",
       "129.50359922253108  1.7572382527150838 0.34727001190185547\n",
       " 339.4069762111447  1.5128234539053944 0.33087998628616333\n",
       "139.60377339238275   3.938338335473159 0.44053998589515686\n",
       " 333.5352737500419 0.17045061500149164  0.3326728940010071\n",
       " 139.2397443148299  2.4410751419845784   0.298770010471344\n",
       " 34.54353969091038  -6.127839794324354  0.3794400095939636\n",
       "218.16470803061213  0.4512644843908812  0.2992500066757202\n",
       "31.141281122990325   -6.06677411920933  0.4454300105571747\n",
       "139.71563561078545 -0.2837180797198162 0.29833000898361206"
      ]
     },
     "execution_count": 56,
     "metadata": {},
     "output_type": "execute_result"
    }
   ],
   "source": [
    "randoms"
   ]
  },
  {
   "cell_type": "markdown",
   "metadata": {},
   "source": [
    "Looks like that worked! Now to check that the regions line up in `ra` and `dec`"
   ]
  },
  {
   "cell_type": "code",
   "execution_count": 62,
   "metadata": {},
   "outputs": [
    {
     "data": {
      "text/plain": [
       "<matplotlib.legend.Legend at 0x1a2cef4470>"
      ]
     },
     "execution_count": 62,
     "metadata": {},
     "output_type": "execute_result"
    },
    {
     "data": {
      "image/png": "[encoded data removed]",
      "text/plain": [
       "<matplotlib.figure.Figure at 0x1a325e3668>"
      ]
     },
     "metadata": {
      "image/png": {
       "height": 440,
       "width": 451
      }
     },
     "output_type": "display_data"
    }
   ],
   "source": [
    "# plot setup\n",
    "fig = plt.figure(figsize = [7,7])\n",
    "ax1 = fig.add_subplot(111)\n",
    "ax1.grid(linewidth=1, linestyle='--', alpha=0.5)\n",
    "\n",
    "for tick in ax1.xaxis.get_major_ticks():\n",
    "    tick.label.set_fontsize(15) \n",
    "for tick in ax1.yaxis.get_major_ticks():\n",
    "    tick.label.set_fontsize(15)\n",
    "\n",
    "ax1.set_ylabel(r'Dec', fontsize = 20)\n",
    "ax1.set_xlabel(r'RA', fontsize = 20)\n",
    "\n",
    "ax1.scatter(pdr_use['ra'],pdr_use['dec'] , marker = 'o', color = 'k', label = 'HSC Data')\n",
    "ax1.scatter(randoms['ra'],randoms['dec'] , marker = '.', color = 'r', alpha = .3, label = 'Randoms')\n",
    "ax1.legend()"
   ]
  },
  {
   "cell_type": "markdown",
   "metadata": {},
   "source": [
    "$\\Rightarrow$ okay, cool, so that worked! Now I need to perfrom the CiC and cross-correlate with the sample and randoms"
   ]
  },
  {
   "cell_type": "code",
   "execution_count": null,
   "metadata": {},
   "outputs": [],
   "source": []
  }
 ],
 "metadata": {
  "kernelspec": {
   "display_name": "Python 3",
   "language": "python",
   "name": "python3"
  },
  "language_info": {
   "codemirror_mode": {
    "name": "ipython",
    "version": 3
   },
   "file_extension": ".py",
   "mimetype": "text/x-python",
   "name": "python",
   "nbconvert_exporter": "python",
   "pygments_lexer": "ipython3",
   "version": "3.6.4"
  }
 },
 "nbformat": 4,
 "nbformat_minor": 2
}
