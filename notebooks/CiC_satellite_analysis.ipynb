{
 "cells": [
  {
   "cell_type": "markdown",
   "metadata": {},
   "source": [
    "## Fresh notebook for using `halotools` on PDR catalog "
   ]
  },
  {
   "cell_type": "code",
   "execution_count": 1,
   "metadata": {},
   "outputs": [],
   "source": [
    "from astropy.cosmology import FlatLambdaCDM\n",
    "from astropy.io import fits\n",
    "from astropy import units as u\n",
    "import numpy as np\n",
    "from astropy.table import Table\n",
    "import matplotlib.pyplot as plt\n",
    "import matplotlib as mpl\n",
    "mpl.rcParams['mathtext.fontset'] = 'stix'\n",
    "mpl.rcParams['font.family'] = 'stixgeneral'\n",
    "%matplotlib inline\n",
    "#matplotlib.matplotlib_fname()\n",
    "#import linetools.utils as ltu\n",
    "from astropy.coordinates import Angle\n",
    "from astropy.coordinates import SkyCoord\n",
    "import copy\n",
    "from colossus.halo import profile_nfw\n",
    "%config InlineBackend.figure_format = 'retina'"
   ]
  },
  {
   "cell_type": "code",
   "execution_count": 2,
   "metadata": {},
   "outputs": [],
   "source": [
    "# read in the data\n",
    "data_pth = '/Users/astro/Desktop/GitHub/satellite_fraction/data/'\n",
    "data_file = data_pth + 's16a_massive_logmMax_11.45_z_0.25_0.47_mhalo_pdr_full.fits'\n",
    "\n",
    "hdu1 = fits.open(data_file)\n",
    "data_table = Table(hdu1[1].data)\n",
    "\n",
    "# set cosmology params\n",
    "import colossus\n",
    "from colossus.cosmology import cosmology\n",
    "params = {'flat': True , 'H0': 70.0 , 'Om0': 0.3 , 'Ob0': 0.049, 'sigma8': 0.81, 'ns': 0.95}\n",
    "h = .7\n",
    "cosmology.addCosmology('huang18',params)\n",
    "cosmology.setCosmology('huang18')\n",
    "from colossus.halo import mass_so\n",
    "\n",
    "# cut the table\n",
    "pdr_use = Table(names = data_table.colnames)\n",
    "\n",
    "for i in range(len(np.array(data_table['logm_max']))):\n",
    "    if data_table['logm_max'][i] > 11.5 and data_table['z_best'][i] > .25 and data_table['z_best'][i] < .45:\n",
    "        pdr_use.add_row(data_table[i])"
   ]
  },
  {
   "cell_type": "markdown",
   "metadata": {},
   "source": [
    "When using halotools, the assumption in the function is that positions are in comoving with units Mpc/h. So when I find the halo radius for the function, it needs to be in a form the function likes. Unfortunately, the observational data does not have inputs like that. I should look deeper into the function."
   ]
  },
  {
   "cell_type": "raw",
   "metadata": {},
   "source": [
    "# From halotools/mock_observables/counts_in_cylinders.py\n",
    "\n",
    "\n",
    "def counts_in_cylinders(sample1, sample2, proj_search_radius, cylinder_half_length,\n",
    "        period=None, verbose=False, num_threads=1,\n",
    "        approx_cell1_size=None, approx_cell2_size=None, return_indexes=False):\n",
    "    \"\"\"\n",
    "    Function counts the number of points in ``sample2`` separated by a xy-distance\n",
    "    *r* and z-distance *z* from each point in ``sample1``,\n",
    "    where *r* and *z* are defined by the input ``proj_search_radius``\n",
    "    and ``cylinder_half_length``, respectively.\n",
    "\n",
    "    Parameters\n",
    "    ----------\n",
    "    sample1 : array_like\n",
    "        Npts1 x 3 numpy array containing 3-D positions of points.\n",
    "        See the :ref:`mock_obs_pos_formatting` documentation page, or the\n",
    "        Examples section below, for instructions on how to transform\n",
    "        your coordinate position arrays into the\n",
    "        format accepted by the ``sample1`` and ``sample2`` arguments.\n",
    "        Length units are comoving and assumed to be in Mpc/h, here and throughout Halotools.\n",
    "\n",
    "    sample2 : array_like, optional\n",
    "        Npts2 x 3 array containing 3-D positions of points.\n",
    "\n",
    "    proj_search_radius : array_like\n",
    "        Length-Npts1 array defining the xy-distance around each point in ``sample1``\n",
    "        to search for points in ``sample2``.\n",
    "        Length units are comoving and assumed to be in Mpc/h, here and throughout Halotools.\n",
    "\n",
    "    cylinder_half_length : array_like\n",
    "        Length-Npts1 array defining the z-distance around each point in ``sample1``\n",
    "        to search for points in ``sample2``. Thus the *total* length of the cylinder\n",
    "        placed around each point in ``sample1`` will be *twice* the corresponding\n",
    "        value stored in the input ``cylinder_half_length``.\n",
    "        Length units are comoving and assumed to be in Mpc/h, here and throughout Halotools.\n",
    "\n",
    "    period : array_like, optional\n",
    "        Length-3 array defining the periodic boundary conditions.\n",
    "        If only one number is specified, the enclosing volume is assumed to\n",
    "        be a periodic cube (by far the most common case).\n",
    "        If period is set to None, the default option,\n",
    "        PBCs are set to infinity.\n",
    "\n",
    "    verbose : Boolean, optional\n",
    "        If True, print out information and progress.\n",
    "\n",
    "    num_threads : int, optional\n",
    "        Number of threads to use in calculation, where parallelization is performed\n",
    "        using the python ``multiprocessing`` module. Default is 1 for a purely serial\n",
    "        calculation, in which case a multiprocessing Pool object will\n",
    "        never be instantiated. A string 'max' may be used to indicate that\n",
    "        the pair counters should use all available cores on the machine.\n",
    "\n",
    "    approx_cell1_size : array_like, optional\n",
    "        Length-3 array serving as a guess for the optimal manner by how points\n",
    "        will be apportioned into subvolumes of the simulation box.\n",
    "        The optimum choice unavoidably depends on the specs of your machine.\n",
    "        Default choice is to use Lbox/10 in each dimension,\n",
    "        which will return reasonable result performance for most use-cases.\n",
    "        Performance can vary sensitively with this parameter, so it is highly\n",
    "        recommended that you experiment with this parameter when carrying out\n",
    "        performance-critical calculations.\n",
    "\n",
    "    approx_cell2_size : array_like, optional\n",
    "        Analogous to ``approx_cell1_size``, but for sample2.  See comments for\n",
    "        ``approx_cell1_size`` for details.\n",
    "\n",
    "    return_indexes: bool, optional\n",
    "        If true, return both counts and the indexes of the pairs.\n",
    "\n",
    "    Returns\n",
    "    -------\n",
    "    num_pairs : array_like\n",
    "        Numpy array of length Npts1 storing the numbers of points in ``sample2``\n",
    "        inside the cylinder surrounding each point in ``sample1``.\n",
    "\n",
    "    indexes : array_like, optional\n",
    "        If ``return_indexes`` is true, return a structured array of length\n",
    "        num_pairs with the indexes of the pairs. Column ``i1`` is the index in\n",
    "        ``sample1`` at the center of the cylinder and column ``i2`` is the index\n",
    "        in ``sample2`` that is contained in the cylinder.\n",
    "\n",
    "    Examples\n",
    "    --------\n",
    "    For illustration purposes, we'll create some fake data and call the pair counter.\n",
    "\n",
    "    >>> from halotools.sim_manager import FakeSim\n",
    "    >>> halocat = FakeSim()\n",
    "\n",
    "    In this first example, we'll demonstrate how to calculate the number of\n",
    "    low-mass host halos are in cylinders of *fixed length* surrounding high-mass halos.\n",
    "\n",
    "    >>> host_halo_mask = halocat.halo_table['halo_upid'] == -1\n",
    "    >>> host_halos = halocat.halo_table[host_halo_mask]\n",
    "    >>> high_mass_mask = host_halos['halo_mvir'] >= 5e13\n",
    "    >>> high_mass_hosts = host_halos[high_mass_mask]\n",
    "    >>> low_mass_mask = host_halos['halo_mvir'] <= 1e12\n",
    "    >>> low_mass_hosts = host_halos[low_mass_mask]\n",
    "\n",
    "    >>> x1, y1, z1 = high_mass_hosts['halo_x'], high_mass_hosts['halo_y'], high_mass_hosts['halo_z']\n",
    "    >>> x2, y2, z2 = low_mass_hosts['halo_x'], low_mass_hosts['halo_y'], low_mass_hosts['halo_z']\n",
    "\n",
    "    We transform our *x, y, z* points into the array shape used by the pair-counter by\n",
    "    taking the transpose of the result of `numpy.vstack`. This boilerplate transformation\n",
    "    is used throughout the `~halotools.mock_observables` sub-package:\n",
    "\n",
    "    >>> sample1 = np.vstack([x1, y1, z1]).T\n",
    "    >>> sample2 = np.vstack([x2, y2, z2]).T\n",
    "\n",
    "    Now let's drop a cylinder of radius 200 kpc/h and half-length 250 kpc/h around\n",
    "    each high-mass host halo, and for each high-mass host we'll count the number of\n",
    "    low-mass halos falling within that cylinder:\n",
    "\n",
    "    >>> period = halocat.Lbox\n",
    "    >>> proj_search_radius, cylinder_half_length = 0.2, 0.25\n",
    "    >>> result = counts_in_cylinders(sample1, sample2, proj_search_radius, cylinder_half_length, period=period)\n",
    "\n",
    "    For example usage of the `~halotools.mock_observables.counts_in_cylinders` function\n",
    "    on a realistic galaxy catalog that makes use of the variable search length feature,\n",
    "    see the :ref:`calculating_counts_in_cells` tutorial.\n",
    "\n",
    "\n",
    "    \"\"\"\n",
    "\n",
    "    # Process the inputs with the helper function\n",
    "    result = _counts_in_cylinders_process_args(sample1, sample2, proj_search_radius,\n",
    "            cylinder_half_length, period, verbose, num_threads, approx_cell1_size, approx_cell2_size,\n",
    "            return_indexes)\n",
    "    x1in, y1in, z1in, x2in, y2in, z2in, proj_search_radius, cylinder_half_length = result[0:8]\n",
    "    period, num_threads, PBCs, approx_cell1_size, approx_cell2_size = result[8:]\n",
    "    xperiod, yperiod, zperiod = period\n",
    "\n",
    "    rp_max = np.max(proj_search_radius)\n",
    "    pi_max = np.max(cylinder_half_length)\n",
    "    search_xlength, search_ylength, search_zlength = rp_max, rp_max, pi_max\n",
    "\n",
    "    # Compute the estimates for the cell sizes\n",
    "    approx_cell1_size, approx_cell2_size = (\n",
    "        _set_approximate_cell_sizes(approx_cell1_size, approx_cell2_size, period)\n",
    "        )\n",
    "    approx_x1cell_size, approx_y1cell_size, approx_z1cell_size = approx_cell1_size\n",
    "    approx_x2cell_size, approx_y2cell_size, approx_z2cell_size = approx_cell2_size\n",
    "\n",
    "    # Build the rectangular mesh\n",
    "    double_mesh = RectangularDoubleMesh(x1in, y1in, z1in, x2in, y2in, z2in,\n",
    "        approx_x1cell_size, approx_y1cell_size, approx_z1cell_size,\n",
    "        approx_x2cell_size, approx_y2cell_size, approx_z2cell_size,\n",
    "        search_xlength, search_ylength, search_zlength, xperiod, yperiod, zperiod, PBCs)\n",
    "\n",
    "    # Create a function object that has a single argument, for parallelization purposes\n",
    "    engine = partial(counts_in_cylinders_engine,\n",
    "        double_mesh, x1in, y1in, z1in, x2in, y2in, z2in, proj_search_radius, cylinder_half_length, return_indexes)\n",
    "\n",
    "    # Calculate the cell1 indices that will be looped over by the engine\n",
    "    num_threads, cell1_tuples = _cell1_parallelization_indices(\n",
    "        double_mesh.mesh1.ncells, num_threads)\n",
    "\n",
    "    if num_threads > 1:\n",
    "        pool = multiprocessing.Pool(num_threads)\n",
    "        result = pool.map(engine, cell1_tuples)\n",
    "        pool.close()\n",
    "        if return_indexes:\n",
    "            counts = np.sum([res[0] for res in result], axis=0)\n",
    "            indexes = np.concatenate([res[1] for res in result])\n",
    "        else:\n",
    "            counts = np.sum(result, axis=0)\n",
    "    else:\n",
    "        result = engine(cell1_tuples[0])\n",
    "        if return_indexes:\n",
    "            counts = result[0]\n",
    "            indexes = result[1]\n",
    "        else:\n",
    "            counts = result\n",
    "\n",
    "    if return_indexes:\n",
    "        return counts, indexes\n",
    "    return counts\n",
    "\n",
    "def _counts_in_cylinders_process_args(sample1, sample2, proj_search_radius, cylinder_half_length,\n",
    "        period, verbose, num_threads, approx_cell1_size, approx_cell2_size, return_indexes):\n",
    "    \"\"\"\n",
    "    \"\"\"\n",
    "    num_threads = get_num_threads(num_threads)\n",
    "\n",
    "    # Passively enforce that we are working with ndarrays\n",
    "    x1 = sample1[:, 0]\n",
    "    y1 = sample1[:, 1]\n",
    "    z1 = sample1[:, 2]\n",
    "    x2 = sample2[:, 0]\n",
    "    y2 = sample2[:, 1]\n",
    "    z2 = sample2[:, 2]\n",
    "\n",
    "    if return_indexes and ((len(x1) > 2e32) or (len(x2) > 2e32)):\n",
    "        msg = (\"Return indexes uses a uint32 and so can only handle inputs shorter than \" +\n",
    "            \"2e32 (~4 Billion). If you are affected by this please raise an Issue on \" +\n",
    "            \"https://github.com/astropy/halotools.\\n\")\n",
    "        raise ValueError(msg)\n",
    "\n",
    "    proj_search_radius = np.atleast_1d(proj_search_radius).astype('f8')\n",
    "    if len(proj_search_radius) == 1:\n",
    "        proj_search_radius = np.zeros_like(x1) + proj_search_radius[0]\n",
    "    elif len(proj_search_radius) == len(x1):\n",
    "        pass\n",
    "    else:\n",
    "        msg = \"Input ``proj_search_radius`` must be a scalar or length-Npts1 array\"\n",
    "        raise ValueError(msg)\n",
    "    max_rp_max = np.max(proj_search_radius)\n",
    "\n",
    "    cylinder_half_length = np.atleast_1d(cylinder_half_length).astype('f8')\n",
    "    if len(cylinder_half_length) == 1:\n",
    "        cylinder_half_length = np.zeros_like(x1) + cylinder_half_length[0]\n",
    "    elif len(cylinder_half_length) == len(x1):\n",
    "        pass\n",
    "    else:\n",
    "        msg = \"Input ``cylinder_half_length`` must be a scalar or length-Npts1 array\"\n",
    "        raise ValueError(msg)\n",
    "    max_pi_max = np.max(cylinder_half_length)\n",
    "\n",
    "    period, PBCs = get_period(period)\n",
    "    # At this point, period may still be set to None,\n",
    "    # in which case we must remap our points inside the smallest enclosing cube\n",
    "    # and set ``period`` equal to this cube size.\n",
    "    if period is None:\n",
    "        x1, y1, z1, x2, y2, z2, period = (\n",
    "            _enclose_in_box(\n",
    "                sample1[:, 0], sample1[:, 2], sample1[:, 2],\n",
    "                sample2[:, 0], sample2[:, 2], sample2[:, 2],\n",
    "                min_size=[max_rp_max*3.0, max_rp_max*3.0, max_pi_max*3.0]))\n",
    "        x1 = sample1[:, 0]\n",
    "        y1 = sample1[:, 1]\n",
    "        z1 = sample1[:, 2]\n",
    "        x2 = sample2[:, 0]\n",
    "        y2 = sample2[:, 1]\n",
    "        z2 = sample2[:, 2]\n",
    "    else:\n",
    "        x1 = sample1[:, 0]\n",
    "        y1 = sample1[:, 1]\n",
    "        z1 = sample1[:, 2]\n",
    "        x2 = sample2[:, 0]\n",
    "        y2 = sample2[:, 1]\n",
    "        z2 = sample2[:, 2]\n",
    "\n",
    "    _enforce_maximum_search_length(max_rp_max, period[0])\n",
    "    _enforce_maximum_search_length(max_rp_max, period[1])\n",
    "    _enforce_maximum_search_length(max_pi_max, period[2])\n",
    "\n",
    "    if approx_cell1_size is None:\n",
    "        approx_cell1_size = [max_rp_max, max_rp_max, max_pi_max]\n",
    "    elif custom_len(approx_cell1_size) == 1:\n",
    "        approx_cell1_size = [approx_cell1_size, approx_cell1_size, approx_cell1_size]\n",
    "    if approx_cell2_size is None:\n",
    "        approx_cell2_size = [max_rp_max, max_rp_max, max_pi_max]\n",
    "    elif custom_len(approx_cell2_size) == 1:\n",
    "        approx_cell2_size = [approx_cell2_size, approx_cell2_size, approx_cell2_size]\n",
    "\n",
    "    return (x1, y1, z1, x2, y2, z2,\n",
    "        proj_search_radius, cylinder_half_length, period, num_threads, PBCs,\n",
    "        approx_cell1_size, approx_cell2_size)"
   ]
  },
  {
   "cell_type": "markdown",
   "metadata": {},
   "source": [
    "## Test halotools function on mock data"
   ]
  },
  {
   "cell_type": "code",
   "execution_count": 3,
   "metadata": {},
   "outputs": [
    {
     "name": "stderr",
     "output_type": "stream",
     "text": [
      "/Users/astro/anaconda3/lib/python3.6/site-packages/h5py/__init__.py:36: FutureWarning: Conversion of the second argument of issubdtype from `float` to `np.floating` is deprecated. In future, it will be treated as `np.float64 == np.dtype(float).type`.\n",
      "  from ._conv import register_converters as _register_converters\n"
     ]
    }
   ],
   "source": [
    "model = data_pth + 'um_ins_exs_logms_10.8_asap_180813_vel.fits'\n",
    "\n",
    "hdu1 = fits.open(model)\n",
    "um_table = Table(hdu1[1].data)\n",
    "\n",
    "# sort table\n",
    "um_table.sort('logms_max')\n",
    "um_table.reverse() # rank order by mass\n",
    "model_z = 0.37\n",
    "\n",
    "from halotools.mock_observables import apply_zspace_distortion\n",
    "from astropy.cosmology import Planck15 as cosmo # um uses planck cosmology\n",
    "# find the z-space distortions\n",
    "z_dis = apply_zspace_distortion(um_table['z'], um_table['vz'], model_z, cosmo, 400.0)\n",
    "um_table['z_dist'] = z_dis"
   ]
  },
  {
   "cell_type": "code",
   "execution_count": 4,
   "metadata": {},
   "outputs": [],
   "source": [
    "# define um cosmology\n",
    "params = {'flat': True , 'H0': 67.77 , 'Om0': 0.307115 , 'Ob0': 0.048206, 'sigma8': 0.8228, 'ns': 0.96}\n",
    "h = 0.6777\n",
    "cosmology.addCosmology('SMDPL',params) # this is what Song had me use when doing the sat frac\n",
    "cosmo = cosmology.setCosmology('SMDPL')"
   ]
  },
  {
   "cell_type": "markdown",
   "metadata": {},
   "source": [
    "All units are currently in comoving Mpc/h"
   ]
  },
  {
   "cell_type": "markdown",
   "metadata": {},
   "source": [
    "#### True satellite fractions for number reference"
   ]
  },
  {
   "cell_type": "code",
   "execution_count": 5,
   "metadata": {},
   "outputs": [],
   "source": [
    "centrals_true = um_table[um_table['upid'] == -1]\n",
    "sats_true = um_table[um_table['upid'] != -1]\n",
    "\n",
    "\n",
    "# from Song's satellite finding code\n",
    "mass_bins = [11.5, 11.6, 11.7, 11.8, 11.9, 12.0, 12.1, 12.2, 12.3]\n",
    "\n",
    "hist_all, edges_all = np.histogram(um_table['logms_max'], bins=mass_bins)\n",
    "hist_cen, edges_cen = np.histogram(centrals_true['logms_max'], bins=mass_bins)\n",
    "hist_sat, edges_sat = np.histogram(sats_true['logms_max'], bins=mass_bins)\n",
    "\n",
    "mass_center_true = np.log10((10**edges_all[1:] + 10**edges_all[:-1]) / 2)\n",
    "\n",
    "f_sat_true = (hist_sat / hist_all) * 100"
   ]
  },
  {
   "cell_type": "code",
   "execution_count": 6,
   "metadata": {},
   "outputs": [],
   "source": [
    "# cut model table like marie mentioned\n",
    "\n",
    "# Cut in Mh_vir to speed things up\n",
    "stellarcut_indices = np.where(um_table['logms_max'] > 11.5)[0]\n",
    "\n",
    "# row index where 95% of galaxies with M_* > 11.5 are above it\n",
    "last_idx = stellarcut_indices[int(len(stellarcut_indices)*0.99)]\n",
    "UM_cut = um_table[0:last_idx]\n",
    "\n",
    "# get virial radii\n",
    "mvir = UM_cut['logmh_vir']\n",
    "\n",
    "# m_to_r use 'vir' definition\n",
    "r_h = mass_so.M_to_R((10**mvir)*h , model_z, 'vir') * 1e-3 * 1.37 #comoving Mpc/h\n",
    "UM_cut['r_vir'] = r_h\n",
    "\n",
    "# Make an index column\n",
    "UM_cut['index'] = np.zeros(len(UM_cut['logms_max']))\n",
    "UM_cut['flag'] = np.zeros(len(UM_cut['logms_max']))\n",
    "\n",
    "for i in range(len(UM_cut['index'])):\n",
    "     UM_cut['index'][i] = i"
   ]
  },
  {
   "cell_type": "markdown",
   "metadata": {},
   "source": [
    "* Now I want to develop a new satellite finding function using `halotools`"
   ]
  },
  {
   "cell_type": "code",
   "execution_count": 7,
   "metadata": {},
   "outputs": [],
   "source": [
    "from halotools.mock_observables import counts_in_cylinders"
   ]
  },
  {
   "cell_type": "code",
   "execution_count": 8,
   "metadata": {},
   "outputs": [],
   "source": [
    "# first, see if I can identify satellites of a single central\n",
    "\n",
    "def CiC_satellite(i, in_table , full_cat, half_length):\n",
    "    \n",
    "    # define \"central\" galaxy of interest\n",
    "    central_galaxy = in_table[i]\n",
    "    \n",
    "    # make a copy of the table where m < m_central\n",
    "    cat_use = copy.deepcopy(full_cat[(full_cat['logms_max'] > central_galaxy['logms_max'])])\n",
    "    # cat_use = copy.deepcopy(in_table)\n",
    "    \n",
    "    # now I need arrays to input into halotools x1,y1,z1 = cent, x2,y2,z2 = the rest\n",
    "    \n",
    "    # positional args\n",
    "    x1, y1, z1 = central_galaxy['x'], central_galaxy['y'], central_galaxy['z_dist']\n",
    "    sample1 = np.vstack([x1, y1, z1]).T\n",
    "    x2, y2, z2 = cat_use['x'], cat_use['y'], cat_use['z_dist']\n",
    "    sample2 = np.vstack([x2, y2, z2]).T\n",
    "    \n",
    "    # virial radius of central\n",
    "    rvir_cent = central_galaxy['r_vir']\n",
    "    \n",
    "    box = 400 # um box size\n",
    "    \n",
    "    pairs, indices = counts_in_cylinders( sample1, sample2, proj_search_radius = rvir_cent,\n",
    "                                        cylinder_half_length = half_length, period = box, return_indexes = True)\n",
    "    return(pairs, indices)"
   ]
  },
  {
   "cell_type": "code",
   "execution_count": 17,
   "metadata": {},
   "outputs": [
    {
     "name": "stdout",
     "output_type": "stream",
     "text": [
      "[0] []\n"
     ]
    }
   ],
   "source": [
    "# test that the function will find satellites\n",
    "pair, index = CiC_satellite(1, UM_cut, UM_cut, 15)\n",
    "print(pair, index)"
   ]
  },
  {
   "cell_type": "markdown",
   "metadata": {},
   "source": [
    "Awesome! That also works super fast. Now, like I did in the previous analysis, I will write a partner function to iterate over this one and flag the satellites."
   ]
  },
  {
   "cell_type": "markdown",
   "metadata": {},
   "source": [
    "Try with a smaller sample:"
   ]
  },
  {
   "cell_type": "code",
   "execution_count": 18,
   "metadata": {},
   "outputs": [],
   "source": [
    "bin_11_5 = Table(names = UM_cut.colnames)\n",
    "bin_11_6 = Table(names = UM_cut.colnames)\n",
    "bin_11_7 = Table(names = UM_cut.colnames)\n",
    "bin_11_8 = Table(names = UM_cut.colnames)\n",
    "bin_11_9 = Table(names = UM_cut.colnames)\n",
    "bin_12_0 = Table(names = UM_cut.colnames)\n",
    "bin_12_1 = Table(names = UM_cut.colnames)\n",
    "bin_12_2 = Table(names = UM_cut.colnames)\n",
    "\n",
    "for i in range(len(UM_cut)):\n",
    "    if UM_cut['logms_max'][i] > 11.5 and UM_cut['logms_max'][i] < 11.6:\n",
    "        bin_11_5.add_row(UM_cut[i])\n",
    "    if UM_cut['logms_max'][i] > 11.6 and UM_cut['logms_max'][i] < 11.7:\n",
    "        bin_11_6.add_row(UM_cut[i])\n",
    "    if UM_cut['logms_max'][i] > 11.7 and UM_cut['logms_max'][i] < 11.8:\n",
    "        bin_11_7.add_row(UM_cut[i])\n",
    "    if UM_cut['logms_max'][i] > 11.8 and UM_cut['logms_max'][i] < 11.9:\n",
    "        bin_11_8.add_row(UM_cut[i])\n",
    "    if UM_cut['logms_max'][i] > 11.9 and UM_cut['logms_max'][i] < 12.0:\n",
    "        bin_11_9.add_row(UM_cut[i])\n",
    "    if UM_cut['logms_max'][i] > 12.0 and UM_cut['logms_max'][i] < 12.1:\n",
    "        bin_12_0.add_row(UM_cut[i])\n",
    "    if UM_cut['logms_max'][i] > 12.1 and UM_cut['logms_max'][i] < 12.2:\n",
    "        bin_12_1.add_row(UM_cut[i])\n",
    "    if UM_cut['logms_max'][i] > 12.2:\n",
    "        bin_12_2.add_row(UM_cut[i])"
   ]
  },
  {
   "cell_type": "code",
   "execution_count": 20,
   "metadata": {},
   "outputs": [],
   "source": [
    "bin_11_5_counts = []\n",
    "\n",
    "for i in range(len(bin_11_5)):\n",
    "    bin_11_5_counts.append(CiC_satellite(i, bin_11_5,UM_cut, .8)[0][0])"
   ]
  },
  {
   "cell_type": "code",
   "execution_count": 96,
   "metadata": {},
   "outputs": [],
   "source": [
    "bin_11_5_counts = []\n",
    "bin_11_6_counts = []\n",
    "bin_11_7_counts = []\n",
    "bin_11_8_counts = []\n",
    "bin_11_9_counts = []\n",
    "bin_12_0_counts = []\n",
    "bin_12_1_counts = []\n",
    "bin_12_2_counts = []\n",
    "\n",
    "for i in range(len(bin_11_5)):\n",
    "    bin_11_5_counts.append(CiC_satellite(i, bin_11_5, .8)[0][0])\n",
    "for i in range(len(bin_11_6)):\n",
    "    bin_11_6_counts.append(CiC_satellite(i, bin_11_6, .8)[0][0]-1)\n",
    "for i in range(len(bin_11_7)):\n",
    "    bin_11_7_counts.append(CiC_satellite(i, bin_11_7, .8)[0][0]-1)\n",
    "for i in range(len(bin_11_8)):\n",
    "    bin_11_8_counts.append(CiC_satellite(i, bin_11_8, .8)[0][0]-1)\n",
    "for i in range(len(bin_11_9)):\n",
    "    bin_11_9_counts.append(CiC_satellite(i, bin_11_9, .8)[0][0]-1)\n",
    "for i in range(len(bin_12_0)):\n",
    "    bin_12_0_counts.append(CiC_satellite(i, bin_12_0, .8)[0][0]-1)\n",
    "for i in range(len(bin_12_1)):\n",
    "    bin_12_1_counts.append(CiC_satellite(i, bin_12_1, .8)[0][0]-1)\n",
    "for i in range(len(bin_12_2)):\n",
    "    bin_12_2_counts.append(CiC_satellite(i, bin_12_2, .8)[0][0]-1)"
   ]
  },
  {
   "cell_type": "code",
   "execution_count": 97,
   "metadata": {},
   "outputs": [],
   "source": [
    "bins = [0,1,2,3,4,5,6,7]\n",
    "hist_11_5, edges_11_5 = np.histogram(bin_11_5_counts,bins)\n",
    "hist_11_6, edges_11_6 = np.histogram(bin_11_6_counts,bins)\n",
    "hist_11_7, edges_11_7 = np.histogram(bin_11_7_counts,bins)\n",
    "hist_11_8, edges_11_8 = np.histogram(bin_11_8_counts,bins)\n",
    "hist_11_9, edges_11_9 = np.histogram(bin_11_9_counts,bins)\n",
    "hist_12_0, edges_12_0 = np.histogram(bin_12_0_counts,bins)\n",
    "hist_12_1, edges_12_1 = np.histogram(bin_12_1_counts,bins)\n",
    "hist_12_2, edges_12_2 = np.histogram(bin_12_2_counts,bins)"
   ]
  },
  {
   "cell_type": "code",
   "execution_count": 107,
   "metadata": {},
   "outputs": [],
   "source": [
    "mean_11_5 = (0*hist_11_5[0] + 1*hist_11_5[1] + 2*hist_11_5[2])/sum(hist_11_5)\n",
    "mean_11_6 = (0*hist_11_6[0] + 1*hist_11_6[1] + 2*hist_11_6[2])/sum(hist_11_6)\n",
    "mean_11_7 = (0*hist_11_7[0] + 1*hist_11_7[1] + 2*hist_11_7[2])/sum(hist_11_7)\n",
    "mean_11_8 = (0*hist_11_8[0] + 1*hist_11_8[1] + 2*hist_11_8[2])/sum(hist_11_8)\n",
    "mean_11_9 = (0*hist_11_9[0] + 1*hist_11_9[1] + 2*hist_11_9[2])/sum(hist_11_9)\n",
    "mean_12_0 = (0*hist_12_0[0] + 1*hist_12_0[1] + 2*hist_12_0[2])/sum(hist_12_0)\n",
    "mean_12_1 = (0*hist_12_1[0] + 1*hist_12_1[1] + 2*hist_12_1[2])/sum(hist_12_1)\n",
    "mean_12_2 = (0*hist_12_2[0] + 1*hist_12_2[1] + 2*hist_12_2[2])/sum(hist_12_2)\n",
    "\n",
    "means = [mean_11_5, mean_11_6, mean_11_7, mean_11_8, mean_11_9, mean_12_0, mean_12_1, mean_12_2]"
   ]
  },
  {
   "cell_type": "code",
   "execution_count": 125,
   "metadata": {},
   "outputs": [
    {
     "data": {
      "text/plain": [
       "<matplotlib.collections.PathCollection at 0x1a481c1c88>"
      ]
     },
     "execution_count": 125,
     "metadata": {},
     "output_type": "execute_result"
    },
    {
     "data": {
      "image/png": "[encoded data removed]",
      "text/plain": [
       "<matplotlib.figure.Figure at 0x1a47998fd0>"
      ]
     },
     "metadata": {
      "image/png": {
       "height": 336,
       "width": 486
      }
     },
     "output_type": "display_data"
    }
   ],
   "source": [
    "fig = plt.figure(figsize = [7,5])\n",
    "ax1 = fig.add_subplot(111)\n",
    "ax1.grid(linewidth=1, linestyle='--', alpha=0.5)\n",
    "\n",
    "for tick in ax1.xaxis.get_major_ticks():\n",
    "    tick.label.set_fontsize(15) \n",
    "for tick in ax1.yaxis.get_major_ticks():\n",
    "    tick.label.set_fontsize(15)\n",
    "\n",
    "ax1.set_ylabel(r'$ \\bar{N}_{\\rm in cyl}$', fontsize = 20)\n",
    "ax1.set_xlabel(r'$\\log \\rm M_{\\star}$', fontsize = 20)\n",
    "ax1.scatter(mass_center_true, means)"
   ]
  },
  {
   "cell_type": "markdown",
   "metadata": {},
   "source": [
    "### Now try getting he PDR data in the correct format"
   ]
  },
  {
   "cell_type": "code",
   "execution_count": 106,
   "metadata": {},
   "outputs": [
    {
     "data": {
      "text/plain": [
       "array([253,   0,   0,   0,   0,   0,   0])"
      ]
     },
     "execution_count": 106,
     "metadata": {},
     "output_type": "execute_result"
    }
   ],
   "source": []
  },
  {
   "cell_type": "code",
   "execution_count": null,
   "metadata": {},
   "outputs": [],
   "source": []
  }
 ],
 "metadata": {
  "kernelspec": {
   "display_name": "Python 3",
   "language": "python",
   "name": "python3"
  },
  "language_info": {
   "codemirror_mode": {
    "name": "ipython",
    "version": 3
   },
   "file_extension": ".py",
   "mimetype": "text/x-python",
   "name": "python",
   "nbconvert_exporter": "python",
   "pygments_lexer": "ipython3",
   "version": "3.6.4"
  }
 },
 "nbformat": 4,
 "nbformat_minor": 2
}
