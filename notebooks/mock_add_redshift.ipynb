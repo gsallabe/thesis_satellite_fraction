{
 "cells": [
  {
   "cell_type": "markdown",
   "metadata": {},
   "source": [
    "# Testing Code To Apply PDR Satellite Fraction Finding to UM Model Data"
   ]
  },
  {
   "cell_type": "code",
   "execution_count": 1,
   "metadata": {},
   "outputs": [],
   "source": [
    "import numpy as np\n",
    "import matplotlib.pyplot as plt\n",
    "import matplotlib as mpl\n",
    "from astropy.table import Table , Column\n",
    "from astropy.io import fits\n",
    "from astropy.cosmology import FlatLambdaCDM\n",
    "from astropy import units as u\n",
    "from astropy.coordinates import Angle\n",
    "from astropy.coordinates import SkyCoord\n",
    "import copy\n",
    "mpl.rcParams['mathtext.fontset'] = 'stix'\n",
    "mpl.rcParams['font.family'] = 'stixgeneral'\n",
    "%matplotlib inline"
   ]
  },
  {
   "cell_type": "code",
   "execution_count": 16,
   "metadata": {},
   "outputs": [],
   "source": [
    "# import the data file\n",
    "data_pth = '/Users/astro/Desktop/github/satellite_fraction/data/'\n",
    "model = data_pth + 'um_smdpl_model_logms_tot_11.4.fits'\n",
    "pdr = data_pth + 's16a_massive_logmMax_11.45_z_0.25_0.47_mhalo_pdr_full.fits'\n",
    "\n",
    "\n",
    "# open pdr file\n",
    "pdr_open = fits.open(pdr)\n",
    "z_pdr = pdr_open[1].data['z_best']\n",
    "hdu1 = fits.open(model)"
   ]
  },
  {
   "cell_type": "code",
   "execution_count": 17,
   "metadata": {},
   "outputs": [],
   "source": [
    "# create astropy table of useful data\n",
    "full_table = Table(hdu1[1].data)\n",
    "# Get only the galaxies within our mass range\n",
    "model_table = Table(names = full_table.colnames)\n",
    "\n",
    "for i in range(len(np.array(full_table['logms_tot_mod']))):\n",
    "    if full_table['logms_tot_mod'][i] > 11.5:\n",
    "        model_table.add_row(full_table[i])\n",
    "        \n",
    "        \n",
    "model_table.sort('logms_tot_mod')\n",
    "model_table.reverse() # rank order by mass\n",
    "model_redshift = 0.37 # this is from um snapshot"
   ]
  },
  {
   "cell_type": "markdown",
   "metadata": {},
   "source": [
    "## Test halotools"
   ]
  },
  {
   "cell_type": "code",
   "execution_count": 18,
   "metadata": {},
   "outputs": [],
   "source": [
    "# remember that some galaxies lack specz => error\n",
    "from halotools.mock_observables import apply_zspace_distortion\n",
    "from astropy.cosmology import Planck15 as cosmo # um uses planck cosmology\n",
    "# find the z-space distortions\n",
    "z_dis = apply_zspace_distortion(model_table['z'], model_table['vz'], model_redshift, cosmo, 400.0)\n",
    "model_table['z_dist'] = z_dis"
   ]
  },
  {
   "cell_type": "code",
   "execution_count": 19,
   "metadata": {},
   "outputs": [
    {
     "data": {
      "text/plain": [
       "Text(0,0.5,'LOS space distortion')"
      ]
     },
     "execution_count": 19,
     "metadata": {},
     "output_type": "execute_result"
    },
    {
     "data": {
      "image/png": "[encoded data removed]",
      "text/plain": [
       "<matplotlib.figure.Figure at 0x10b43d5f8>"
      ]
     },
     "metadata": {},
     "output_type": "display_data"
    }
   ],
   "source": [
    "# look at redshift space distortions\n",
    "fig = plt.figure(figsize = [7,7])\n",
    "\n",
    "ax1 = fig.add_subplot(111)\n",
    "ax1.scatter(model_table['x'],model_table['z'] - model_table['z_dist'], s = 1)\n",
    "ax1.set_xlabel('x-position', fontsize = 18)\n",
    "ax1.set_ylabel('LOS space distortion', fontsize = 18)"
   ]
  },
  {
   "cell_type": "raw",
   "metadata": {},
   "source": [
    "plt.figure(figsize = (7,7))\n",
    "plt.hist(model_table['z_dist'])"
   ]
  },
  {
   "cell_type": "markdown",
   "metadata": {},
   "source": [
    "So it looks like the z-space distortions aren't bad. (The odd points at $\\pm400$ are from the box size of the um model, which is $400Mpc$)"
   ]
  },
  {
   "cell_type": "markdown",
   "metadata": {},
   "source": [
    "* The next order of business is to turn the $\\Delta z$ into physical $\\Delta \\ell$ (I think). From my conversation with Alexie at Shane, I want to convert our z-limits to comoving $h^{-1}$. For this, I can use `colossus.cosmology.comovingDistance`."
   ]
  },
  {
   "cell_type": "code",
   "execution_count": 20,
   "metadata": {},
   "outputs": [],
   "source": [
    "# first define the cosmology in colossus\n",
    "import colossus\n",
    "from colossus.cosmology import cosmology\n",
    "params = {'flat': True , 'H0': 70.0 , 'Om0': 0.3 , 'Ob0': 0.049, 'sigma8': 0.81, 'ns': 0.95}\n",
    "h = .7\n",
    "cosmology.addCosmology('huang18',params) # this is what Song had me use when doing the sat frac\n",
    "cosmo = cosmology.setCosmology('huang18')\n",
    "from colossus.halo import mass_so"
   ]
  },
  {
   "cell_type": "code",
   "execution_count": 21,
   "metadata": {},
   "outputs": [
    {
     "name": "stdout",
     "output_type": "stream",
     "text": [
      "12.330418377098054\n"
     ]
    }
   ],
   "source": [
    "# find the comoving distance to use as a z-cut for the catalog\n",
    "# for the dl cut, I will use the mean redshift plus our velocity dispersion\n",
    "z_mean = np.mean(z_pdr)\n",
    "z_l = z_mean + .005\n",
    "l = cosmo.comovingDistance(z_mean, z_l)\n",
    "print(l)"
   ]
  },
  {
   "cell_type": "markdown",
   "metadata": {},
   "source": [
    "So comoving distance $\\Delta \\ell \\approx 12.33 Mpch^{-1}$ for $\\Delta z = 0.005$ "
   ]
  },
  {
   "cell_type": "markdown",
   "metadata": {},
   "source": [
    "Now I want to find the satellite fraction through the same process as the pdr region, except with a length cut.\n",
    "\n",
    "\n",
    "### Apply same method to catalog"
   ]
  },
  {
   "cell_type": "code",
   "execution_count": 22,
   "metadata": {},
   "outputs": [],
   "source": [
    "# get virial radii\n",
    "mvir = model_table['logmh_vir']\n",
    "model_table['r_vir'] = mass_so.M_to_R((10**mvir)*h , model_redshift, '200m')/h # kpc/h"
   ]
  },
  {
   "cell_type": "code",
   "execution_count": 23,
   "metadata": {},
   "outputs": [],
   "source": [
    "# creating new columns useful for the satellite finding\n",
    "model_table['flag'] = np.zeros(len(model_table['logms_tot_mod'])) \n",
    "\n",
    "model_table['index'] = np.zeros(len(model_table['logms_tot_mod']))\n",
    "for i in range(len(model_table['index'])):\n",
    "    model_table['index'][i] = i"
   ]
  },
  {
   "cell_type": "code",
   "execution_count": 24,
   "metadata": {},
   "outputs": [],
   "source": [
    "model_table['sep'] = np.zeros(len(model_table['logms_tot_mod'])) #column of angular separations\n",
    "\n",
    "\n",
    "def satellite(i, table, lcut):\n",
    "   \n",
    "    # the object we choose here is going to be a central by the way we have defined things\n",
    "    cent_gal = model_table[i] \n",
    "    \n",
    "    # this was a trick that song used to make a new catalog for the other objects of interest.\n",
    "    # the utility is that we don't have to loop through the whole catalog EVERY TIME\n",
    "    cat_use = copy.deepcopy(model_table[(model_table['logms_tot_mod'] < cent_gal['logms_tot_mod'])])\n",
    "    \n",
    "    \n",
    "    \n",
    "    # find the galaxies within the delta z limit\n",
    "    dz= cat_use[np.abs(cent_gal['z'] - cat_use['z']) <= lcut]\n",
    "    \n",
    "    if len(dz) > 0:\n",
    "        # find separation for gals within dz (x-y dist)\n",
    "        dz['sep'] = np.sqrt( ((dz['x'] - cent_gal['x'])**2) + ((dz['y'] - cent_gal['y'])**2) )\n",
    "    for i in range(len(dz)):\n",
    "        if dz['sep'][i] <= cent_gal['r_vir']:\n",
    "            model_table['flag'][int(dz['index'][i])] = 1\n",
    "            #print('satellite, yo')\n",
    "\n",
    "# loop over the catalog for the lcut from a few cells ago\n",
    "for idx in range(len(model_table)):\n",
    "    satellite(idx,model_table,l)\n",
    "    \n",
    "model_table.remove_columns(['sep'])"
   ]
  },
  {
   "cell_type": "code",
   "execution_count": 25,
   "metadata": {},
   "outputs": [],
   "source": [
    "cen_table = Table(names = model_table.colnames)\n",
    "sat_table = Table(names = model_table.colnames)\n",
    "for i in range(len(model_table['flag'])):\n",
    "    if model_table['flag'][i] == 0:\n",
    "        cen_table.add_row(model_table[i])\n",
    "    if model_table['flag'][i] == 1:\n",
    "        sat_table.add_row(model_table[i])    "
   ]
  },
  {
   "cell_type": "code",
   "execution_count": 36,
   "metadata": {},
   "outputs": [],
   "source": [
    "# range of masses\n",
    "mmin = np.min(model_table['logms_tot_mod'])\n",
    "mmax = np.max(model_table['logms_tot_mod'])\n",
    "\n",
    "\n",
    "# from Song's satellite finding code\n",
    "\n",
    "hist_cen, edges_cen = np.histogram(cen_table['logms_tot_mod'], range = [11.5,mmax], bins=30)\n",
    "hist_sat, edges_sat = np.histogram(sat_table['logms_tot_mod'], range = [11.5,mmax], bins=30)\n",
    "\n",
    "mass_center = (edges_cen[1:] + edges_cen[:-1]) / 2\n",
    "\n",
    "frac_sat = (hist_sat / hist_cen) * 100"
   ]
  },
  {
   "cell_type": "code",
   "execution_count": 37,
   "metadata": {},
   "outputs": [
    {
     "data": {
      "text/plain": [
       "Text(0.5,1,'Model')"
      ]
     },
     "execution_count": 37,
     "metadata": {},
     "output_type": "execute_result"
    },
    {
     "data": {
      "image/png": "[encoded data removed]",
      "text/plain": [
       "<matplotlib.figure.Figure at 0x10f035128>"
      ]
     },
     "metadata": {},
     "output_type": "display_data"
    }
   ],
   "source": [
    "fig = plt.figure(figsize = [8,5])\n",
    "ax1 = fig.add_subplot(111)\n",
    "ax1.grid(linewidth=1, linestyle='--', alpha=0.5)\n",
    "\n",
    "ax1.scatter(mass_center , frac_sat, color = 'k')\n",
    "ax1.set_xlabel(r'$\\log M_{\\star max}$', fontsize = 18)\n",
    "ax1.set_ylabel(r'$f_{sat}$', fontsize = 18)\n",
    "ax1.set_title('Model')"
   ]
  },
  {
   "cell_type": "code",
   "execution_count": null,
   "metadata": {},
   "outputs": [],
   "source": []
  }
 ],
 "metadata": {
  "kernelspec": {
   "display_name": "Python 3",
   "language": "python",
   "name": "python3"
  },
  "language_info": {
   "codemirror_mode": {
    "name": "ipython",
    "version": 3
   },
   "file_extension": ".py",
   "mimetype": "text/x-python",
   "name": "python",
   "nbconvert_exporter": "python",
   "pygments_lexer": "ipython3",
   "version": "3.6.4"
  }
 },
 "nbformat": 4,
 "nbformat_minor": 2
}
