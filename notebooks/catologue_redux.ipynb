{
 "cells": [
  {
   "cell_type": "markdown",
   "metadata": {},
   "source": [
    "This is my first time using Jupyter Lab *and* Python 3, so we'll see how this goes."
   ]
  },
  {
   "cell_type": "code",
   "execution_count": 53,
   "metadata": {},
   "outputs": [],
   "source": [
    "import astropy\n",
    "from astropy.io import fits\n",
    "import numpy as np\n",
    "from astropy.table import Table\n",
    "import matplotlib.pyplot as plt\n",
    "%matplotlib inline"
   ]
  },
  {
   "cell_type": "markdown",
   "metadata": {},
   "source": [
    "### Read in the data"
   ]
  },
  {
   "cell_type": "code",
   "execution_count": 2,
   "metadata": {},
   "outputs": [],
   "source": [
    "# This is the file that Song said to start with.\n",
    "data_file_1 = '/Users/greg/Desktop/git_projects/catalog_plots/data/s16a_massive_logmMax_11.45_z_0.25_0.47_mhalo.fits'\n",
    "hdu1 = fits.open(data_file_1)"
   ]
  },
  {
   "cell_type": "markdown",
   "metadata": {},
   "source": [
    "So here I'm going to list the useful bits of this data set:\n",
    "\n",
    "`ra`: Right Ascension\n",
    "\n",
    "`dec`: Declination\n",
    "(*These will be useful when I make the galaxy map plot*)\n",
    "\n",
    "`z_best`: Best redshift value\n",
    "\n",
    "`logmh_host`: Virial mass\n"
   ]
  },
  {
   "cell_type": "code",
   "execution_count": 9,
   "metadata": {},
   "outputs": [
    {
     "name": "stdout",
     "output_type": "stream",
     "text": [
      "    object_id             ra         ...     logmh_vir          logmh_host    \n",
      "----------------- ------------------ ... ------------------ ------------------\n",
      "39622434810257696  37.32405775641403 ... 13.196176185039974 13.196176185039974\n",
      "40981272268396388 136.74757710205347 ... 13.982180745596402 13.982180745596402\n",
      "69617666066768181 239.96883726612327 ... 13.174059807725026 13.174059807725026\n",
      "41584100993172458 339.30221049833926 ... 12.736635497686821 12.736635497686821\n",
      "70408610064137875  244.6397018878286 ... 12.725176301419138 12.725176301419138\n",
      "41109674610681824 178.57899754759484 ... 13.526597709103452 13.526597709103452\n",
      "69630181601471641  247.1039068878523 ...  13.38524868240322  13.38524868240322\n",
      "70409155524978684  243.4439765807658 ...  14.15259407792747  14.15259407792747\n",
      "69626324720843995  244.1151270176698 ... 13.475816413031318 13.475816413031318\n",
      "70409288668975574 243.17526955867925 ... 13.401228167498113 13.401228167498113\n",
      "              ...                ... ...                ...                ...\n",
      "69608045340028104 237.36808593444718 ... 13.453012391121455 13.453012391121455\n",
      "69626316130905180 244.01002285665692 ... 12.780173243642594 12.780173243642594\n",
      "39605375200161557 30.605859324823374 ... 13.413132050434871 13.413132050434871\n",
      "38549852627427919  33.58450219431048 ... 13.365300748637987 14.584783378996507\n",
      "42643755324442832  336.6907308863083 ... 11.637289547678174 13.439332693830263\n",
      "41200921190881035  211.0812334870964 ... 13.358125285276648 13.358125285276648\n",
      "42274173388617939 212.47759785887888 ... 12.765668554759014 12.765668554759014\n",
      "42310319833371459 222.99544532890377 ... 13.197831693328903 14.161667412437735\n",
      "42059622592309797 138.52590309230155 ... 13.058426024457006 13.058426024457006\n",
      "43101551593545267 130.74449700669786 ... 13.557146142318363 13.557146142318363\n",
      "69612859998372253  238.7361554043242 ... 13.858236335429513 13.858236335429513\n",
      "Length = 6458 rows\n"
     ]
    }
   ],
   "source": [
    "data_table = Table(hdu1[1].data) # For visualization, just in case.\n",
    "print(data_table)"
   ]
  },
  {
   "cell_type": "markdown",
   "metadata": {},
   "source": [
    "Now what I want to do is take the galaxy halo masses and assign them a radius. To do this, I will use  `Colossus` (Diemer 2017)."
   ]
  },
  {
   "cell_type": "code",
   "execution_count": 30,
   "metadata": {},
   "outputs": [],
   "source": [
    "import colossus\n",
    "from colossus.cosmology import cosmology\n",
    "cosmology.setCosmology('planck15')\n",
    "from colossus.halo import mass_so"
   ]
  },
  {
   "cell_type": "code",
   "execution_count": 5,
   "metadata": {},
   "outputs": [
    {
     "data": {
      "text/plain": [
       "['object_id',\n",
       " 'ra',\n",
       " 'dec',\n",
       " 'z_spec',\n",
       " 'z_best',\n",
       " 'z_phot',\n",
       " 'z_type',\n",
       " 'gcmodel_mag',\n",
       " 'gcmodel_mag_err',\n",
       " 'rcmodel_mag',\n",
       " 'rcmodel_mag_err',\n",
       " 'icmodel_mag',\n",
       " 'icmodel_mag_err',\n",
       " 'zcmodel_mag',\n",
       " 'zcmodel_mag_err',\n",
       " 'ycmodel_mag',\n",
       " 'ycmodel_mag_err',\n",
       " 'MSTAR',\n",
       " 'logm_10',\n",
       " 'logm_30',\n",
       " 'logm_100',\n",
       " 'logm_max',\n",
       " 'vdisp_sdss',\n",
       " 'vdisp_err_sdss',\n",
       " 'logms_gama',\n",
       " 'logms_err_gama',\n",
       " 'id_cluster_redm',\n",
       " 'p_mem_redm',\n",
       " 'z_lambda_redm',\n",
       " 'lambda_redm',\n",
       " 'p_cen_1_redm',\n",
       " 'id_camira',\n",
       " 'z_camira',\n",
       " 'n_cor_camira',\n",
       " 'logms_camira',\n",
       " 'r50_max',\n",
       " 'r50_100',\n",
       " 'logmh_peak',\n",
       " 'logmh_vir',\n",
       " 'logmh_host']"
      ]
     },
     "execution_count": 5,
     "metadata": {},
     "output_type": "execute_result"
    }
   ],
   "source": [
    "data_table.colnames # find the useful columns"
   ]
  },
  {
   "cell_type": "code",
   "execution_count": 10,
   "metadata": {},
   "outputs": [
    {
     "name": "stdout",
     "output_type": "stream",
     "text": [
      "[ 37.32405776 136.7475771  239.96883727 ... 138.52590309 130.74449701\n",
      " 238.7361554 ]\n"
     ]
    }
   ],
   "source": [
    "# Put the (useful) data into nice arrays\n",
    "z_best = np.array(data_table['z_best'])\n",
    "logmh_host = np.array(data_table['logmh_host'])\n",
    "ra = np.array(data_table['ra'])\n",
    "dec = np.array(data_table['dec'])"
   ]
  },
  {
   "cell_type": "markdown",
   "metadata": {},
   "source": [
    "I want to slit the data into four different fields. From Song:\n",
    "* G09H  RA: 130-137 (133.5)  DEC: -0.25 - 2.30 (0.96)\n",
    "* G12H  RA: 178-181 (179.5)  DEC: -1.38 - 1.21 (-0.09)\n",
    "* G15H  RA: 214-219 (216.5)  DEC: -1.38-  1.21 (-0.09)\n",
    "* HectoMap  RA: 244.0 - 247.0 (245.5)  DEC: 42.3 - 44.3 (42.8)"
   ]
  },
  {
   "cell_type": "code",
   "execution_count": 65,
   "metadata": {},
   "outputs": [
    {
     "ename": "TypeError",
     "evalue": "arcsec_per_kpc_proper() missing 1 required positional argument: 'z'",
     "output_type": "error",
     "traceback": [
      "\u001b[0;31m---------------------------------------------------------------------------\u001b[0m",
      "\u001b[0;31mTypeError\u001b[0m                                 Traceback (most recent call last)",
      "\u001b[0;32m<ipython-input-65-8bcaf10b946a>\u001b[0m in \u001b[0;36m<module>\u001b[0;34m()\u001b[0m\n\u001b[1;32m     21\u001b[0m \u001b[0;34m\u001b[0m\u001b[0m\n\u001b[1;32m     22\u001b[0m \u001b[0;31m# Turn the physical radius into an angular size\u001b[0m\u001b[0;34m\u001b[0m\u001b[0;34m\u001b[0m\u001b[0m\n\u001b[0;32m---> 23\u001b[0;31m \u001b[0mtheta_per_kpc\u001b[0m \u001b[0;34m=\u001b[0m \u001b[0mastropy\u001b[0m\u001b[0;34m.\u001b[0m\u001b[0mcosmology\u001b[0m\u001b[0;34m.\u001b[0m\u001b[0mLambdaCDM\u001b[0m\u001b[0;34m.\u001b[0m\u001b[0marcsec_per_kpc_proper\u001b[0m\u001b[0;34m(\u001b[0m\u001b[0;36m0.4\u001b[0m\u001b[0;34m)\u001b[0m\u001b[0;34m\u001b[0m\u001b[0m\n\u001b[0m",
      "\u001b[0;31mTypeError\u001b[0m: arcsec_per_kpc_proper() missing 1 required positional argument: 'z'"
     ]
    }
   ],
   "source": [
    "# G09H\n",
    "g09h_ra = []\n",
    "g09h_dec = []\n",
    "g09h_logmh_host = []\n",
    "g09h_z_best = []\n",
    "for i in range(len(ra)):\n",
    "    if ra[i] >= 130.0 and ra[i] <= 137.0 and dec[i] >= -0.25 and dec[i] <=2.30:\n",
    "            g09h_ra.append(ra[i])\n",
    "            g09h_dec.append(dec[i])\n",
    "            g09h_logmh_host.append(logmh_host[i])\n",
    "            g09h_z_best.append(z_best[i])\n",
    "\n",
    "# Turn the lists into arrays\n",
    "g09h_ra = np.array(g09h_ra)\n",
    "g09h_dec = np.array(g09h_dec)\n",
    "g09h_logmh_host = np.array(g09h_logmh_host)\n",
    "g09h_z_best = np.array(g09h_z_best)\n",
    "\n",
    "# Now to find r_halo\n",
    "g09h_r_halo = mass_so.M_to_R(10**g09h_logmh_host , g09h_z_best, 'vir') # kpc/h\n",
    "\n",
    "# Turn the physical radius into an angular size\n",
    "theta_per_kpc = astropy.cosmology.LambdaCDM.arcsec_per_kpc_proper(0.4)"
   ]
  },
  {
   "cell_type": "code",
   "execution_count": 23,
   "metadata": {},
   "outputs": [
    {
     "data": {
      "text/plain": [
       "Text(0,0.5,'Dec')"
      ]
     },
     "execution_count": 23,
     "metadata": {},
     "output_type": "execute_result"
    },
    {
     "data": {
      "image/png": "[encoded data removed]",
      "text/plain": [
       "<matplotlib.figure.Figure at 0x181f0a1828>"
      ]
     },
     "metadata": {},
     "output_type": "display_data"
    }
   ],
   "source": [
    "#Quick test plot to make sure my array cuts are good\n",
    "plt.figure(figsize = [10,10])\n",
    "plt.scatter(g09h_ra , g09h_dec, marker = 'x' , color = 'k')\n",
    "plt.title(\"Field: G09H\", fontsize = 25)\n",
    "plt.xlabel(\"RA\", fontsize = 12)\n",
    "plt.ylabel(\"Dec\", fontsize = 12)"
   ]
  },
  {
   "cell_type": "code",
   "execution_count": null,
   "metadata": {},
   "outputs": [],
   "source": []
  }
 ],
 "metadata": {
  "kernelspec": {
   "display_name": "Python 3",
   "language": "python",
   "name": "python3"
  },
  "language_info": {
   "codemirror_mode": {
    "name": "ipython",
    "version": 3
   },
   "file_extension": ".py",
   "mimetype": "text/x-python",
   "name": "python",
   "nbconvert_exporter": "python",
   "pygments_lexer": "ipython3",
   "version": "3.6.4"
  }
 },
 "nbformat": 4,
 "nbformat_minor": 2
}
