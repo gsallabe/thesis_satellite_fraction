{
 "cells": [
  {
   "cell_type": "markdown",
   "metadata": {},
   "source": [
    "## This notebook is going to be a cleaner version of the satellite finding for the full PDR region"
   ]
  },
  {
   "cell_type": "code",
   "execution_count": 48,
   "metadata": {},
   "outputs": [],
   "source": [
    "from astropy.cosmology import FlatLambdaCDM\n",
    "from astropy.io import fits\n",
    "from astropy import units as u\n",
    "import numpy as np\n",
    "from astropy.table import Table\n",
    "import matplotlib.pyplot as plt\n",
    "from matplotlib.patches import Circle\n",
    "from matplotlib import patches\n",
    "import matplotlib as mpl\n",
    "mpl.rcParams['mathtext.fontset'] = 'stix'\n",
    "mpl.rcParams['font.family'] = 'stixgeneral'\n",
    "%matplotlib inline\n",
    "#matplotlib.matplotlib_fname()\n",
    "import sys\n",
    "sys.path.append('/users/greg/')\n",
    "import linetools.utils as ltu\n",
    "from astropy.coordinates import Angle\n",
    "from astropy.coordinates import SkyCoord\n",
    "import copy\n",
    "from colossus.halo import profile_nfw"
   ]
  },
  {
   "cell_type": "code",
   "execution_count": 49,
   "metadata": {},
   "outputs": [],
   "source": [
    "# read in the data\n",
    "data_pth = '/Users/greg/Desktop/git_projects/catalog_plots/data/'\n",
    "data_file = data_pth + 's16a_massive_logmMax_11.45_z_0.25_0.47_mhalo_pdr_full.fits'\n",
    "\n",
    "hdu1 = fits.open(data_file)\n",
    "data_table = Table(hdu1[1].data)"
   ]
  },
  {
   "cell_type": "code",
   "execution_count": 50,
   "metadata": {},
   "outputs": [],
   "source": [
    "# set cosmology params\n",
    "import colossus\n",
    "from colossus.cosmology import cosmology\n",
    "params = {'flat': True , 'H0': 70.0 , 'Om0': 0.3 , 'Ob0': 0.049, 'sigma8': 0.81, 'ns': 0.95}\n",
    "h = .7\n",
    "cosmology.addCosmology('huang18',params)\n",
    "cosmology.setCosmology('huang18')\n",
    "from colossus.halo import mass_so"
   ]
  },
  {
   "cell_type": "code",
   "execution_count": 51,
   "metadata": {},
   "outputs": [],
   "source": [
    "mmax = []\n",
    "mvir = []\n",
    "ra = []\n",
    "dec = []\n",
    "z = []\n",
    "\n",
    "for i in range(len(np.array(data_table['logm_max']))):\n",
    "    if data_table['logm_max'][i] > 11.5 and data_table['z_best'][i] > .25 and data_table['z_best'][i] < .45:\n",
    "        mmax.append(data_table['logm_max'][i])\n",
    "        mvir.append(data_table['logmh_vir'][i])\n",
    "        ra.append(data_table['ra'][i])\n",
    "        dec.append(data_table['dec'][i])\n",
    "        z.append(data_table['z_best'][i])\n",
    "    \n",
    "mmax = np.array(mmax)\n",
    "mvir = np.array(mvir)\n",
    "ra = np.array(ra)\n",
    "dec = np.array(dec)\n",
    "z = np.array(z)"
   ]
  },
  {
   "cell_type": "code",
   "execution_count": 52,
   "metadata": {},
   "outputs": [],
   "source": [
    "# Now to find r_halo\n",
    "r_halo = mass_so.M_to_R((10**mvir)*h , z, '200m')/h # kpc/h\n",
    "\n",
    "# Turn the physical radius into an angular size in degrees\n",
    "theta_per_kpc = FlatLambdaCDM(H0=70 , Om0= 0.3).arcsec_per_kpc_proper(z)\n",
    "r_halo_deg = ((r_halo*u.kpc * theta_per_kpc).to(u.deg))/u.deg"
   ]
  },
  {
   "cell_type": "code",
   "execution_count": 53,
   "metadata": {},
   "outputs": [],
   "source": [
    "# put the array data into a new table\n",
    "cat_table = Table()\n",
    "cat_table['logm_max'] = mmax\n",
    "cat_table['logmh_vir'] = mvir\n",
    "cat_table['ra'] = ra\n",
    "cat_table['dec'] = dec\n",
    "cat_table['z_best'] = z\n",
    "cat_table['r_halo'] = r_halo_deg\n",
    "cat_table.sort('logm_max')\n",
    "cat_table.reverse() # rank order by mass"
   ]
  },
  {
   "cell_type": "code",
   "execution_count": 54,
   "metadata": {},
   "outputs": [],
   "source": [
    "# creating new columns useful for the satellite finding\n",
    "cat_table['coord'] = SkyCoord(cat_table['ra']*u.deg,\n",
    "                              cat_table['dec']*u.deg) # angular coordinate of each galaxy\n",
    "\n",
    "cat_table['flag'] = np.zeros(len(cat_table['logm_max'])) \n",
    "\n",
    "cat_table['index'] = np.zeros(len(cat_table['logm_max']))\n",
    "for i in range(len(cat_table['index'])):\n",
    "    cat_table['index'][i] = i"
   ]
  },
  {
   "cell_type": "code",
   "execution_count": 55,
   "metadata": {},
   "outputs": [],
   "source": [
    "# now for the actual satellite part\n",
    "\n",
    "cat_table['sep'] = np.zeros(len(cat_table['logm_max'])) #column of angular separations\n",
    "\n",
    "\n",
    "def satellite(i, table):\n",
    "   \n",
    "    # the object we choose here is going to be a central by the way we have defined things\n",
    "    cent_gal = cat_table[i] \n",
    "    \n",
    "    # this was a trick that song used to make a new catalog for the other objects of interest.\n",
    "    # the utility is that we don't have to loop through the whole catalog EVERY TIME\n",
    "    cat_use = copy.deepcopy(cat_table[(cat_table['logm_max'] < cent_gal['logm_max'])])\n",
    "    \n",
    "    \n",
    "    # this is code Marie recommended for a more sophistiated delta z cut. Originally, I used a flat\n",
    "    # delta z cut\n",
    "    #z_lim = 0.005\n",
    "    cvir = 5.\n",
    "    littleh = FlatLambdaCDM(H0=70 , Om0= 0.3).H0.value/100.\n",
    "    p_nfw = profile_nfw.NFWProfile(M=10**cent_gal['logmh_vir']*littleh,c=cvir,z=cent_gal['z_best'],mdef='200m')\n",
    "    # Assume maximum circular velocity is 1.4 times the lD velocity dispersion in the halo, \n",
    "    # following Tormen+97.\n",
    "    # Set the Delta z cut to be 3 times the 1D dispersion. \n",
    "    v_lim = p_nfw.Vmax()[0]/1.4*3\n",
    "    # Convert velocity cut to redshift cut\n",
    "    z_lim = ltu.dz_from_dv(v_lim*u.km/u.s,cent_gal['z_best'])\n",
    "    \n",
    "    \n",
    "    # find the galaxies within the delta z limit\n",
    "    dz= cat_use[np.abs(cent_gal['z_best'] - cat_use['z_best']) <= z_lim]\n",
    "    \n",
    "    if len(dz) > 0:\n",
    "        # find separation for gals within dz\n",
    "        dz['sep'] = cent_gal['coord'].separation(dz['coord']).degree \n",
    "    for i in range(len(dz)):\n",
    "        if dz['sep'][i] <= cent_gal['r_halo']:\n",
    "            cat_table['flag'][int(dz['index'][i])] = 1\n",
    "            #print('satellite, yo')\n",
    "\n",
    "# loop over the catalog\n",
    "for idx in range(len(cat_table)):\n",
    "    satellite(idx,cat_table)\n",
    "    \n",
    "cat_table.remove_columns(['sep','coord'])"
   ]
  },
  {
   "cell_type": "code",
   "execution_count": 56,
   "metadata": {},
   "outputs": [],
   "source": [
    "# now I'm going to make new tables of centrals and satellites\n",
    "\n",
    "cen_table = Table(names = ('logm_max','logmh_vir','ra','dec','z_best','r_halo','index','flag'))\n",
    "sat_table = Table(names = ('logm_max','logmh_vir','ra','dec','z_best','r_halo','index','flag'))\n",
    "for i in range(len(cat_table['flag'])):\n",
    "    if cat_table['flag'][i] == 0:\n",
    "        cen_table.add_row(cat_table[i])\n",
    "    if cat_table['flag'][i] == 1:\n",
    "        sat_table.add_row(cat_table[i])    "
   ]
  },
  {
   "cell_type": "code",
   "execution_count": 57,
   "metadata": {},
   "outputs": [],
   "source": [
    "# using the same plot params as Song and Marie to compare and make sure I didn't screw up too bad\n",
    "hist_cen, edges_cen = np.histogram(cen_table['logm_max'], range=(11.5, 12.10),\n",
    "                                   bins=6)\n",
    "\n",
    "hist_sat, edges_sat = np.histogram(sat_table['logm_max'], range=(11.5, 12.10),\n",
    "                                   bins=6)\n",
    "\n",
    "mass_center = (edges_cen[1:] + edges_cen[:-1]) / 2\n",
    "\n",
    "frac_sat = (hist_sat / hist_cen) * 100.0\n",
    "\n",
    "frac_sat_err = (np.sqrt(hist_sat) / hist_cen) * 100.0"
   ]
  },
  {
   "cell_type": "markdown",
   "metadata": {},
   "source": [
    "## To do:\n",
    "* Ensure that the data and model plots have the same mass bin size for easier comparison"
   ]
  },
  {
   "cell_type": "code",
   "execution_count": 60,
   "metadata": {},
   "outputs": [
    {
     "data": {
      "text/plain": [
       "Text(0.5,1,'PDR Satellite Fraction')"
      ]
     },
     "execution_count": 60,
     "metadata": {},
     "output_type": "execute_result"
    },
    {
     "data": {
      "image/png": "[encoded data removed]",
      "text/plain": [
       "<matplotlib.figure.Figure at 0x181019c6a0>"
      ]
     },
     "metadata": {},
     "output_type": "display_data"
    }
   ],
   "source": [
    "fig = plt.figure(figsize=(8,5))\n",
    "\n",
    "\n",
    "ax1 = fig.add_subplot(111)\n",
    "ax1.grid(linewidth=1, linestyle='--', alpha=0.5)\n",
    "\n",
    "ax1.errorbar(mass_center, frac_sat, yerr=frac_sat_err, fmt='o',\n",
    "             capthick=2, capsize=5, color = 'k')\n",
    "\n",
    "\n",
    "ax1.set_xlabel(r'$ \\log M_{\\star}$', fontsize=18)\n",
    "ax1.set_ylabel(r'$ f_{sat}$', fontsize=18)\n",
    "ax1.set_title('PDR Satellite Fraction', fontsize = 20)\n",
    "#plt.savefig('pdr_satellite_fraction.png', dpi = 1000)"
   ]
  },
  {
   "cell_type": "code",
   "execution_count": null,
   "metadata": {},
   "outputs": [],
   "source": []
  }
 ],
 "metadata": {
  "kernelspec": {
   "display_name": "Python 3",
   "language": "python",
   "name": "python3"
  },
  "language_info": {
   "codemirror_mode": {
    "name": "ipython",
    "version": 3
   },
   "file_extension": ".py",
   "mimetype": "text/x-python",
   "name": "python",
   "nbconvert_exporter": "python",
   "pygments_lexer": "ipython3",
   "version": "3.6.4"
  }
 },
 "nbformat": 4,
 "nbformat_minor": 2
}
